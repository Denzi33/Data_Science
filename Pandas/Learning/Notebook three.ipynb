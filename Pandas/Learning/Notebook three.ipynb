{
 "cells": [
  {
   "cell_type": "code",
   "execution_count": 8,
   "id": "31af078b",
   "metadata": {},
   "outputs": [],
   "source": [
    "import pandas as pd\n",
    "import random as rd\n",
    "import string as st\n",
    "\n",
    "rand_numbers = [rd.randint(10, 100) for i in range(61)]\n",
    "series = pd.Series(rand_numbers)"
   ]
  },
  {
   "cell_type": "markdown",
   "id": "3b8d6334",
   "metadata": {},
   "source": [
    "Если количество элементов серии больше 60, то серия будет выводится в сокращённом формате."
   ]
  },
  {
   "cell_type": "code",
   "execution_count": 9,
   "id": "1df9ee73",
   "metadata": {},
   "outputs": [
    {
     "name": "stdout",
     "output_type": "stream",
     "text": [
      "0     79\n",
      "1     10\n",
      "2     47\n",
      "3     15\n",
      "4     84\n",
      "      ..\n",
      "56    86\n",
      "57    86\n",
      "58    58\n",
      "59    12\n",
      "60    35\n",
      "Length: 61, dtype: int64\n"
     ]
    }
   ],
   "source": [
    "print(series)"
   ]
  },
  {
   "cell_type": "markdown",
   "id": "e8a4e1c7",
   "metadata": {},
   "source": [
    "Метод `head(n)` (аналогично `[ : n]`) показывает `n` первых элементов. Если при вызове `head()` Вы укажете больше элементов, чем есть в серии, то выводится вся серия без ошибок. По умолчанию показывает всю серию."
   ]
  },
  {
   "cell_type": "code",
   "execution_count": 11,
   "id": "be37f130",
   "metadata": {},
   "outputs": [
    {
     "data": {
      "text/plain": [
       "0    79\n",
       "1    10\n",
       "dtype: int64"
      ]
     },
     "execution_count": 11,
     "metadata": {},
     "output_type": "execute_result"
    }
   ],
   "source": [
    "series.head(2)"
   ]
  },
  {
   "cell_type": "markdown",
   "id": "d8dc5153",
   "metadata": {},
   "source": [
    "Метод `tail(n)` (аналогично `[-n: ]`) показывает `n` последних элементов. По умолчанию показывает всю серию."
   ]
  },
  {
   "cell_type": "code",
   "execution_count": 15,
   "id": "7f5dfce6",
   "metadata": {},
   "outputs": [
    {
     "name": "stdout",
     "output_type": "stream",
     "text": [
      "56    86\n",
      "57    86\n",
      "58    58\n",
      "59    12\n",
      "60    35\n",
      "dtype: int64\n"
     ]
    }
   ],
   "source": [
    "print(series.tail())"
   ]
  },
  {
   "cell_type": "markdown",
   "id": "d9d49ddd",
   "metadata": {},
   "source": [
    "Метод `take(n)` показывает `n`-ный элемент (элементы). Аргументом является список индексов. Удобно совмещать с функцией `range()`."
   ]
  },
  {
   "cell_type": "code",
   "execution_count": 26,
   "id": "3ebbad27",
   "metadata": {},
   "outputs": [
    {
     "name": "stdout",
     "output_type": "stream",
     "text": [
      "56    86\n",
      "dtype: int64 \n",
      "\n",
      "56    86\n",
      "58    58\n",
      "dtype: int64\n"
     ]
    }
   ],
   "source": [
    "print(series.take([56]), '\\n')\n",
    "print(series.take(range(56, 60, 2)))"
   ]
  },
  {
   "cell_type": "markdown",
   "id": "e0b326b4",
   "metadata": {},
   "source": [
    "##### Срезы и индексация."
   ]
  },
  {
   "cell_type": "code",
   "execution_count": 30,
   "id": "7a724bd7",
   "metadata": {},
   "outputs": [
    {
     "name": "stdout",
     "output_type": "stream",
     "text": [
      "56    86\n",
      "57    86\n",
      "dtype: int64 \n",
      "\n",
      "86\n"
     ]
    },
    {
     "ename": "NameError",
     "evalue": "name 'seria' is not defined",
     "output_type": "error",
     "traceback": [
      "\u001b[1;31m---------------------------------------------------------------------------\u001b[0m",
      "\u001b[1;31mNameError\u001b[0m                                 Traceback (most recent call last)",
      "Cell \u001b[1;32mIn[30], line 3\u001b[0m\n\u001b[0;32m      1\u001b[0m \u001b[38;5;28mprint\u001b[39m(series[\u001b[38;5;241m56\u001b[39m:\u001b[38;5;241m58\u001b[39m], \u001b[38;5;124m'\u001b[39m\u001b[38;5;130;01m\\n\u001b[39;00m\u001b[38;5;124m'\u001b[39m)\n\u001b[0;32m      2\u001b[0m \u001b[38;5;28mprint\u001b[39m(series[\u001b[38;5;241m57\u001b[39m])\n\u001b[1;32m----> 3\u001b[0m \u001b[38;5;28mprint\u001b[39m(\u001b[43mseria\u001b[49m[\u001b[38;5;241m200\u001b[39m])\n",
      "\u001b[1;31mNameError\u001b[0m: name 'seria' is not defined"
     ]
    }
   ],
   "source": [
    "print(series[56:58], '\\n')\n",
    "print(series[57])\n",
    "print(seria[200]) # Ошибка, выход за допустимые индексы."
   ]
  },
  {
   "cell_type": "code",
   "execution_count": 34,
   "id": "a919b774",
   "metadata": {},
   "outputs": [
    {
     "name": "stdout",
     "output_type": "stream",
     "text": [
      "0     True\n",
      "1     True\n",
      "2     True\n",
      "3     True\n",
      "4     True\n",
      "      ... \n",
      "56    True\n",
      "57    True\n",
      "58    True\n",
      "59    True\n",
      "60    True\n",
      "Length: 61, dtype: bool\n"
     ]
    },
    {
     "ename": "NameError",
     "evalue": "name 'seria' is not defined",
     "output_type": "error",
     "traceback": [
      "\u001b[1;31m---------------------------------------------------------------------------\u001b[0m",
      "\u001b[1;31mNameError\u001b[0m                                 Traceback (most recent call last)",
      "Cell \u001b[1;32mIn[34], line 2\u001b[0m\n\u001b[0;32m      1\u001b[0m \u001b[38;5;28mprint\u001b[39m(series \u001b[38;5;241m==\u001b[39m series[:])\n\u001b[1;32m----> 2\u001b[0m \u001b[38;5;28mprint\u001b[39m(\u001b[43mseria\u001b[49m \u001b[38;5;129;01mis\u001b[39;00m seria[ : ])\n",
      "\u001b[1;31mNameError\u001b[0m: name 'seria' is not defined"
     ]
    }
   ],
   "source": [
    "print(series == series[:])\n",
    "print(seria is seria[ : ])"
   ]
  },
  {
   "cell_type": "code",
   "execution_count": 41,
   "id": "1178dc10",
   "metadata": {},
   "outputs": [
    {
     "name": "stdout",
     "output_type": "stream",
     "text": [
      "a    19\n",
      "b     9\n",
      "c    22\n",
      "d     6\n",
      "e    17\n",
      "f    12\n",
      "g    13\n",
      "h    20\n",
      "i     4\n",
      "j     0\n",
      "k     5\n",
      "l    25\n",
      "m     1\n",
      "n    24\n",
      "o    11\n",
      "p    21\n",
      "q    18\n",
      "r     7\n",
      "s    10\n",
      "t     3\n",
      "u     2\n",
      "v    23\n",
      "w     8\n",
      "x    16\n",
      "y    15\n",
      "z    14\n",
      "dtype: int64\n"
     ]
    }
   ],
   "source": [
    "indexes = list(str.ascii_lowercase)\n",
    "letters_series = pd.Series([i for i in range(26)], indexes)\n",
    "\n",
    "rd.shuffle(letters_series)\n",
    "print(letters_series)"
   ]
  },
  {
   "cell_type": "markdown",
   "id": "24f7e7c6",
   "metadata": {},
   "source": [
    "Срез по меткам возможен только, если метки все уникальны."
   ]
  },
  {
   "cell_type": "code",
   "execution_count": 43,
   "id": "206d0606",
   "metadata": {},
   "outputs": [
    {
     "name": "stdout",
     "output_type": "stream",
     "text": [
      "t     3\n",
      "u     2\n",
      "v    23\n",
      "w     8\n",
      "x    16\n",
      "y    15\n",
      "z    14\n",
      "dtype: int64\n"
     ]
    }
   ],
   "source": [
    "print(letters_series['t': 'z'])"
   ]
  },
  {
   "cell_type": "markdown",
   "id": "cd32de74",
   "metadata": {},
   "source": [
    "Метки необязательно должны быть уникальными."
   ]
  },
  {
   "cell_type": "code",
   "execution_count": 46,
   "id": "2ff24e1e",
   "metadata": {},
   "outputs": [
    {
     "name": "stdout",
     "output_type": "stream",
     "text": [
      "1    1\n",
      "1    2\n",
      "1    3\n",
      "dtype: int64\n"
     ]
    }
   ],
   "source": [
    "series_two = pd.Series([1, 2, 3], [1, 1, 1])\n",
    "print(series_two)"
   ]
  },
  {
   "cell_type": "code",
   "execution_count": 52,
   "id": "0e4d8d29",
   "metadata": {},
   "outputs": [
    {
     "data": {
      "text/plain": [
       "2"
      ]
     },
     "execution_count": 52,
     "metadata": {},
     "output_type": "execute_result"
    }
   ],
   "source": [
    "series_two.iloc[1] # Метод позволяет получить значение по номеру ряда."
   ]
  },
  {
   "cell_type": "code",
   "execution_count": 53,
   "id": "b80dbcc2",
   "metadata": {},
   "outputs": [
    {
     "data": {
      "text/plain": [
       "1    1\n",
       "1    2\n",
       "1    3\n",
       "dtype: int64"
      ]
     },
     "execution_count": 53,
     "metadata": {},
     "output_type": "execute_result"
    }
   ],
   "source": [
    "series_two.loc[1] # Метод позволяет получить значение по меткам."
   ]
  },
  {
   "cell_type": "markdown",
   "id": "329aba39",
   "metadata": {},
   "source": [
    "Как быстро поменять значение по меткам."
   ]
  },
  {
   "cell_type": "code",
   "execution_count": 56,
   "id": "fc352f90",
   "metadata": {},
   "outputs": [
    {
     "name": "stdout",
     "output_type": "stream",
     "text": [
      "1    15\n",
      "1    15\n",
      "1    15\n",
      "dtype: int64\n"
     ]
    }
   ],
   "source": [
    "series_two.loc[1] = 15\n",
    "print(series_two)"
   ]
  },
  {
   "cell_type": "markdown",
   "id": "4ae242d5",
   "metadata": {},
   "source": [
    "Сортировка серии."
   ]
  },
  {
   "cell_type": "code",
   "execution_count": 61,
   "id": "5c0279a1",
   "metadata": {},
   "outputs": [
    {
     "name": "stdout",
     "output_type": "stream",
     "text": [
      "1     10\n",
      "29    11\n",
      "13    11\n",
      "30    12\n",
      "26    12\n",
      "      ..\n",
      "14    89\n",
      "51    93\n",
      "53    94\n",
      "35    95\n",
      "38    96\n",
      "Length: 61, dtype: int64\n",
      "0     79\n",
      "1     10\n",
      "2     47\n",
      "3     15\n",
      "4     84\n",
      "      ..\n",
      "56    86\n",
      "57    86\n",
      "58    58\n",
      "59    12\n",
      "60    35\n",
      "Length: 61, dtype: int64 \n",
      "\n"
     ]
    }
   ],
   "source": [
    "print(series.sort_values())\n",
    "print(series, '\\n')"
   ]
  },
  {
   "cell_type": "code",
   "execution_count": 64,
   "id": "1d56dd3b",
   "metadata": {},
   "outputs": [
    {
     "name": "stdout",
     "output_type": "stream",
     "text": [
      "1     10\n",
      "29    11\n",
      "13    11\n",
      "30    12\n",
      "26    12\n",
      "      ..\n",
      "14    89\n",
      "51    93\n",
      "53    94\n",
      "35    95\n",
      "38    96\n",
      "Length: 61, dtype: int64\n"
     ]
    }
   ],
   "source": [
    "series.sort_values(inplace = True) # Аргумент inplace присваивает результат переменнной.\n",
    "print(series)"
   ]
  },
  {
   "cell_type": "markdown",
   "id": "25c0f529",
   "metadata": {},
   "source": [
    "Библиотека `faker` удобна для заполнения радомными данными."
   ]
  },
  {
   "cell_type": "code",
   "execution_count": 65,
   "id": "bfa45e95",
   "metadata": {},
   "outputs": [],
   "source": [
    "import faker as fk"
   ]
  },
  {
   "cell_type": "markdown",
   "id": "3e5c0e06",
   "metadata": {},
   "source": [
    "Метод `name()` возвращает рандомную строку имени и фамилии.\n",
    "\n",
    "Метод `date()` возвращает рандомную дату."
   ]
  }
 ],
 "metadata": {
  "kernelspec": {
   "display_name": "Python 3 (ipykernel)",
   "language": "python",
   "name": "python3"
  },
  "language_info": {
   "codemirror_mode": {
    "name": "ipython",
    "version": 3
   },
   "file_extension": ".py",
   "mimetype": "text/x-python",
   "name": "python",
   "nbconvert_exporter": "python",
   "pygments_lexer": "ipython3",
   "version": "3.10.9"
  }
 },
 "nbformat": 4,
 "nbformat_minor": 5
}
