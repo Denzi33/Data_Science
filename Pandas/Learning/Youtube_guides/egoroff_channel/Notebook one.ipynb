{
 "cells": [
  {
   "cell_type": "markdown",
   "id": "46b67f44",
   "metadata": {},
   "source": [
    "### Ознакомление: урок № 1. \n",
    "\n",
    "Существуют горячие клавичи для работы с `Jupyter Notebook`, изучить которые можно во вкладке `Help -> Keyboard shortcuts`. Данные горячие клавиши упрощают и ускоряют работу дата сайнтиста."
   ]
  },
  {
   "cell_type": "markdown",
   "id": "b50c9ba0",
   "metadata": {},
   "source": [
    "##### Основные горячие клавиши:\n",
    "\n",
    "Удалить строк - `D` + `D`\n",
    "\n",
    "Добавить строку сверху - `A`\n",
    "\n",
    "Изменить тип поля на md - `M`\n",
    "\n",
    "Изменить тип поля на блок - `Y`\n",
    "\n",
    "Вырезать строку - `X`\n",
    "\n",
    "Редактировать строку - `Enter`\n",
    "\n",
    "Выйти из редактирования строки - `Esc`\n",
    "\n",
    "Запустить строку - `Ctrl` + `Enter`"
   ]
  },
  {
   "cell_type": "markdown",
   "id": "e3026d4d",
   "metadata": {},
   "source": [
    "В Pandas существуеют две основные структуры данных: `series` (столбец значений одного признака), `data frame` (таблица, список series).\n",
    "\n",
    "Как правило, импортируют библиотеку под псевдонимом `pd` ."
   ]
  },
  {
   "cell_type": "code",
   "execution_count": 1,
   "id": "dce76997",
   "metadata": {},
   "outputs": [],
   "source": [
    "import pandas as pd"
   ]
  },
  {
   "cell_type": "markdown",
   "id": "5601d003",
   "metadata": {},
   "source": [
    "Чтобы узнать успешность подключения модуля достаточно написать названия \"подключенного\" модуля."
   ]
  },
  {
   "cell_type": "code",
   "execution_count": 2,
   "id": "83262bb6",
   "metadata": {},
   "outputs": [
    {
     "data": {
      "text/plain": [
       "<module 'pandas' from 'C:\\\\ProgramData\\\\anaconda3\\\\lib\\\\site-packages\\\\pandas\\\\__init__.py'>"
      ]
     },
     "execution_count": 2,
     "metadata": {},
     "output_type": "execute_result"
    }
   ],
   "source": [
    "pd"
   ]
  },
  {
   "cell_type": "markdown",
   "id": "979c94e3",
   "metadata": {},
   "source": [
    "Для создании series используйте метод `.Series()`. В аргументы метода можно передать: список, словарь, любой итерируемый объект."
   ]
  },
  {
   "cell_type": "code",
   "execution_count": 3,
   "id": "4c2983f0",
   "metadata": {},
   "outputs": [
    {
     "data": {
      "text/plain": [
       "0    1\n",
       "1    2\n",
       "2    3\n",
       "3    4\n",
       "4    5\n",
       "dtype: int64"
      ]
     },
     "execution_count": 3,
     "metadata": {},
     "output_type": "execute_result"
    }
   ],
   "source": [
    "example_list = [1, 2, 3, 4, 5]\n",
    "\n",
    "pd.Series(example_list)"
   ]
  },
  {
   "cell_type": "markdown",
   "id": "6f4c075b",
   "metadata": {},
   "source": [
    "Левый столбец - нумерация. Правый столбец - элементы Series.\n",
    "Также внизу серии размещается тип элементов серии `dtype: int64`."
   ]
  },
  {
   "cell_type": "markdown",
   "id": "a140b967",
   "metadata": {},
   "source": [
    "Значение серий можно сохранять в переменные. После этого к серии можно обращаться по индексу."
   ]
  },
  {
   "cell_type": "code",
   "execution_count": 4,
   "id": "8d7aa8b7",
   "metadata": {},
   "outputs": [
    {
     "data": {
      "text/plain": [
       "1"
      ]
     },
     "execution_count": 4,
     "metadata": {},
     "output_type": "execute_result"
    }
   ],
   "source": [
    "series = pd.Series(example_list)\n",
    "\n",
    "series[0]"
   ]
  },
  {
   "cell_type": "markdown",
   "id": "cb7676be",
   "metadata": {},
   "source": [
    "Серии похожи на словари, соответственно, ошибки при работе с сериями аналогичные ошибкам словарей.\n",
    "\n",
    "Связь между индексом и значением - односторонняя."
   ]
  },
  {
   "cell_type": "code",
   "execution_count": 5,
   "id": "bb994401",
   "metadata": {},
   "outputs": [
    {
     "ename": "KeyError",
     "evalue": "'Hello'",
     "output_type": "error",
     "traceback": [
      "\u001b[1;31m---------------------------------------------------------------------------\u001b[0m",
      "\u001b[1;31mKeyError\u001b[0m                                  Traceback (most recent call last)",
      "Cell \u001b[1;32mIn[5], line 5\u001b[0m\n\u001b[0;32m      1\u001b[0m string_list \u001b[38;5;241m=\u001b[39m [\u001b[38;5;124m\"\u001b[39m\u001b[38;5;124mHello\u001b[39m\u001b[38;5;124m\"\u001b[39m, \u001b[38;5;124m\"\u001b[39m\u001b[38;5;124mworld\u001b[39m\u001b[38;5;124m\"\u001b[39m, \u001b[38;5;124m'\u001b[39m\u001b[38;5;124m!\u001b[39m\u001b[38;5;124m'\u001b[39m]\n\u001b[0;32m      3\u001b[0m series_string \u001b[38;5;241m=\u001b[39m pd\u001b[38;5;241m.\u001b[39mSeries(string_list)\n\u001b[1;32m----> 5\u001b[0m series_string[\u001b[38;5;241m0\u001b[39m] \u001b[38;5;129;01mis\u001b[39;00m \u001b[43mseries_string\u001b[49m\u001b[43m[\u001b[49m\u001b[38;5;124;43m\"\u001b[39;49m\u001b[38;5;124;43mHello\u001b[39;49m\u001b[38;5;124;43m\"\u001b[39;49m\u001b[43m]\u001b[49m\n",
      "File \u001b[1;32mC:\\ProgramData\\anaconda3\\lib\\site-packages\\pandas\\core\\series.py:981\u001b[0m, in \u001b[0;36mSeries.__getitem__\u001b[1;34m(self, key)\u001b[0m\n\u001b[0;32m    978\u001b[0m     \u001b[38;5;28;01mreturn\u001b[39;00m \u001b[38;5;28mself\u001b[39m\u001b[38;5;241m.\u001b[39m_values[key]\n\u001b[0;32m    980\u001b[0m \u001b[38;5;28;01melif\u001b[39;00m key_is_scalar:\n\u001b[1;32m--> 981\u001b[0m     \u001b[38;5;28;01mreturn\u001b[39;00m \u001b[38;5;28;43mself\u001b[39;49m\u001b[38;5;241;43m.\u001b[39;49m\u001b[43m_get_value\u001b[49m\u001b[43m(\u001b[49m\u001b[43mkey\u001b[49m\u001b[43m)\u001b[49m\n\u001b[0;32m    983\u001b[0m \u001b[38;5;28;01mif\u001b[39;00m is_hashable(key):\n\u001b[0;32m    984\u001b[0m     \u001b[38;5;66;03m# Otherwise index.get_value will raise InvalidIndexError\u001b[39;00m\n\u001b[0;32m    985\u001b[0m     \u001b[38;5;28;01mtry\u001b[39;00m:\n\u001b[0;32m    986\u001b[0m         \u001b[38;5;66;03m# For labels that don't resolve as scalars like tuples and frozensets\u001b[39;00m\n",
      "File \u001b[1;32mC:\\ProgramData\\anaconda3\\lib\\site-packages\\pandas\\core\\series.py:1089\u001b[0m, in \u001b[0;36mSeries._get_value\u001b[1;34m(self, label, takeable)\u001b[0m\n\u001b[0;32m   1086\u001b[0m     \u001b[38;5;28;01mreturn\u001b[39;00m \u001b[38;5;28mself\u001b[39m\u001b[38;5;241m.\u001b[39m_values[label]\n\u001b[0;32m   1088\u001b[0m \u001b[38;5;66;03m# Similar to Index.get_value, but we do not fall back to positional\u001b[39;00m\n\u001b[1;32m-> 1089\u001b[0m loc \u001b[38;5;241m=\u001b[39m \u001b[38;5;28;43mself\u001b[39;49m\u001b[38;5;241;43m.\u001b[39;49m\u001b[43mindex\u001b[49m\u001b[38;5;241;43m.\u001b[39;49m\u001b[43mget_loc\u001b[49m\u001b[43m(\u001b[49m\u001b[43mlabel\u001b[49m\u001b[43m)\u001b[49m\n\u001b[0;32m   1090\u001b[0m \u001b[38;5;28;01mreturn\u001b[39;00m \u001b[38;5;28mself\u001b[39m\u001b[38;5;241m.\u001b[39mindex\u001b[38;5;241m.\u001b[39m_get_values_for_loc(\u001b[38;5;28mself\u001b[39m, loc, label)\n",
      "File \u001b[1;32mC:\\ProgramData\\anaconda3\\lib\\site-packages\\pandas\\core\\indexes\\range.py:395\u001b[0m, in \u001b[0;36mRangeIndex.get_loc\u001b[1;34m(self, key, method, tolerance)\u001b[0m\n\u001b[0;32m    393\u001b[0m             \u001b[38;5;28;01mraise\u001b[39;00m \u001b[38;5;167;01mKeyError\u001b[39;00m(key) \u001b[38;5;28;01mfrom\u001b[39;00m \u001b[38;5;21;01merr\u001b[39;00m\n\u001b[0;32m    394\u001b[0m     \u001b[38;5;28mself\u001b[39m\u001b[38;5;241m.\u001b[39m_check_indexing_error(key)\n\u001b[1;32m--> 395\u001b[0m     \u001b[38;5;28;01mraise\u001b[39;00m \u001b[38;5;167;01mKeyError\u001b[39;00m(key)\n\u001b[0;32m    396\u001b[0m \u001b[38;5;28;01mreturn\u001b[39;00m \u001b[38;5;28msuper\u001b[39m()\u001b[38;5;241m.\u001b[39mget_loc(key, method\u001b[38;5;241m=\u001b[39mmethod, tolerance\u001b[38;5;241m=\u001b[39mtolerance)\n",
      "\u001b[1;31mKeyError\u001b[0m: 'Hello'"
     ]
    }
   ],
   "source": [
    "string_list = [\"Hello\", \"world\", '!']\n",
    "\n",
    "series_string = pd.Series(string_list)\n",
    "\n",
    "series_string[0] is series_string[\"Hello\"]"
   ]
  },
  {
   "cell_type": "markdown",
   "id": "58baa5b6",
   "metadata": {},
   "source": [
    "Стоит заметить, что в pandas строки - `object`."
   ]
  },
  {
   "cell_type": "code",
   "execution_count": 6,
   "id": "1ba7119d",
   "metadata": {},
   "outputs": [
    {
     "name": "stdout",
     "output_type": "stream",
     "text": [
      "0    Hello\n",
      "1    world\n",
      "2        !\n",
      "dtype: object\n"
     ]
    }
   ],
   "source": [
    "print(series_string)"
   ]
  },
  {
   "cell_type": "markdown",
   "id": "f5a556bf",
   "metadata": {},
   "source": [
    "Соответстиве значений к индексам изменяемо. То есть вместо индексов можно задать список значений для соответствия.\n",
    "Делается это указанием списка в роли второго параметра метода `.Series()`. \n",
    "После к элементу можно обратиться как по индексу, так и по указаному значению из списка. При этом количество индексов должно соответствовать количеству элементов значений, иначе выведется ошибка."
   ]
  },
  {
   "cell_type": "code",
   "execution_count": 7,
   "id": "03fdae71",
   "metadata": {},
   "outputs": [
    {
     "data": {
      "text/plain": [
       "True"
      ]
     },
     "execution_count": 7,
     "metadata": {},
     "output_type": "execute_result"
    }
   ],
   "source": [
    "list_of_index = [\"one\", \"two\", \"three\", \"four\", \"five\"]\n",
    "\n",
    "series_with_indexes = pd.Series(example_list, list_of_index)\n",
    "\n",
    "series_with_indexes[0] == series_with_indexes[\"one\"]"
   ]
  },
  {
   "cell_type": "markdown",
   "id": "fd143607",
   "metadata": {},
   "source": [
    "В связи с этим удобнее использовать список соответствия (словари)."
   ]
  },
  {
   "cell_type": "code",
   "execution_count": 8,
   "id": "f953fb36",
   "metadata": {},
   "outputs": [
    {
     "name": "stdout",
     "output_type": "stream",
     "text": [
      "Messi        Barcelona\n",
      "Ronaldo    Real Madrid\n",
      "dtype: object\n"
     ]
    }
   ],
   "source": [
    "dictionary = {\"Messi\": \"Barcelona\", \"Ronaldo\": \"Real Madrid\"}\n",
    "\n",
    "dictionary_series = pd.Series(dictionary)\n",
    "\n",
    "print(dictionary_series)"
   ]
  },
  {
   "cell_type": "markdown",
   "id": "fe3782ad",
   "metadata": {},
   "source": [
    "Удобно работать с буквами слова следующим образом:"
   ]
  },
  {
   "cell_type": "code",
   "execution_count": 9,
   "id": "6f6d8f27",
   "metadata": {},
   "outputs": [
    {
     "name": "stdout",
     "output_type": "stream",
     "text": [
      "0    p\n",
      "1    e\n",
      "2    a\n",
      "3    c\n",
      "4    e\n",
      "dtype: object\n"
     ]
    }
   ],
   "source": [
    "word = \"peace\"\n",
    "\n",
    "word_series = pd.Series(list(word))\n",
    "\n",
    "print(word_series)"
   ]
  }
 ],
 "metadata": {
  "kernelspec": {
   "display_name": "Python 3 (ipykernel)",
   "language": "python",
   "name": "python3"
  },
  "language_info": {
   "codemirror_mode": {
    "name": "ipython",
    "version": 3
   },
   "file_extension": ".py",
   "mimetype": "text/x-python",
   "name": "python",
   "nbconvert_exporter": "python",
   "pygments_lexer": "ipython3",
   "version": "3.10.9"
  }
 },
 "nbformat": 4,
 "nbformat_minor": 5
}
