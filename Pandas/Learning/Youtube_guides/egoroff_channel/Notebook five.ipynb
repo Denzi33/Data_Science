{
 "cells": [
  {
   "cell_type": "markdown",
   "id": "1a985855",
   "metadata": {},
   "source": [
    "В `pandas` можно считать данные разных форматов, например: `excel`, `sql`, `fwf`, `html`, `json`. Чтобы узнать весь перечень доступных форматов достаточно прописать `read_` и нажать `Tab`, тогда появятся все методы для чтения данных.\n",
    "\n",
    "Вывод `jupyter notebook` и вывод с помощью функции `print()` - различны, лучше использовать вывод `jupyter`.\n",
    "\n",
    "`Data frame`-ы можно создавать из `python`-овских объектов, например из словаря при помощи метода класса `DataFrame`  `.from_dict()`. Стобцами будут являться столбцы, их значениями - значения словаря."
   ]
  },
  {
   "cell_type": "code",
   "execution_count": 1,
   "id": "59f42120",
   "metadata": {},
   "outputs": [],
   "source": [
    "import pandas as pd\n",
    "\n",
    "example_dictionary = {\"Column_one\": [1, 2, 3,], \"Column_two\": [3, 2, 1]}\n",
    "\n",
    "data_frame = pd.DataFrame.from_dict(example_dictionary)"
   ]
  },
  {
   "cell_type": "code",
   "execution_count": 2,
   "id": "eec19ab8",
   "metadata": {},
   "outputs": [
    {
     "data": {
      "text/html": [
       "<div>\n",
       "<style scoped>\n",
       "    .dataframe tbody tr th:only-of-type {\n",
       "        vertical-align: middle;\n",
       "    }\n",
       "\n",
       "    .dataframe tbody tr th {\n",
       "        vertical-align: top;\n",
       "    }\n",
       "\n",
       "    .dataframe thead th {\n",
       "        text-align: right;\n",
       "    }\n",
       "</style>\n",
       "<table border=\"1\" class=\"dataframe\">\n",
       "  <thead>\n",
       "    <tr style=\"text-align: right;\">\n",
       "      <th></th>\n",
       "      <th>Column_one</th>\n",
       "      <th>Column_two</th>\n",
       "    </tr>\n",
       "  </thead>\n",
       "  <tbody>\n",
       "    <tr>\n",
       "      <th>0</th>\n",
       "      <td>1</td>\n",
       "      <td>3</td>\n",
       "    </tr>\n",
       "    <tr>\n",
       "      <th>1</th>\n",
       "      <td>2</td>\n",
       "      <td>2</td>\n",
       "    </tr>\n",
       "    <tr>\n",
       "      <th>2</th>\n",
       "      <td>3</td>\n",
       "      <td>1</td>\n",
       "    </tr>\n",
       "  </tbody>\n",
       "</table>\n",
       "</div>"
      ],
      "text/plain": [
       "   Column_one  Column_two\n",
       "0           1           3\n",
       "1           2           2\n",
       "2           3           1"
      ]
     },
     "execution_count": 2,
     "metadata": {},
     "output_type": "execute_result"
    }
   ],
   "source": [
    "data_frame"
   ]
  },
  {
   "cell_type": "markdown",
   "id": "a4350c07",
   "metadata": {},
   "source": [
    "Существуют методы преобразующие данные из `data frame` в файлы других форматов."
   ]
  },
  {
   "cell_type": "code",
   "execution_count": 3,
   "id": "37ed27b1",
   "metadata": {},
   "outputs": [],
   "source": [
    "data_frame.to_csv('tmp.csv')"
   ]
  },
  {
   "cell_type": "markdown",
   "id": "75d52e56",
   "metadata": {},
   "source": [
    "Существует метод `data frame`-а для получения общей информации об объекте - `.info()`."
   ]
  },
  {
   "cell_type": "code",
   "execution_count": 4,
   "id": "74659438",
   "metadata": {},
   "outputs": [
    {
     "name": "stdout",
     "output_type": "stream",
     "text": [
      "<class 'pandas.core.frame.DataFrame'>\n",
      "RangeIndex: 3 entries, 0 to 2\n",
      "Data columns (total 2 columns):\n",
      " #   Column      Non-Null Count  Dtype\n",
      "---  ------      --------------  -----\n",
      " 0   Column_one  3 non-null      int64\n",
      " 1   Column_two  3 non-null      int64\n",
      "dtypes: int64(2)\n",
      "memory usage: 176.0 bytes\n"
     ]
    }
   ],
   "source": [
    "data_frame.info()"
   ]
  },
  {
   "cell_type": "markdown",
   "id": "b241ae57",
   "metadata": {},
   "source": [
    "Чтобы узнать размер `data frame`-а стоит использовать атрибут `shape`, который обозначает количество строк и количество колонок."
   ]
  },
  {
   "cell_type": "code",
   "execution_count": 5,
   "id": "a1bc61b4",
   "metadata": {},
   "outputs": [
    {
     "data": {
      "text/plain": [
       "(3, 2)"
      ]
     },
     "execution_count": 5,
     "metadata": {},
     "output_type": "execute_result"
    }
   ],
   "source": [
    "data_frame.shape"
   ]
  },
  {
   "cell_type": "markdown",
   "id": "57f5332f",
   "metadata": {},
   "source": [
    "Атрибут `columns` возвращает названия всех колонок."
   ]
  },
  {
   "cell_type": "code",
   "execution_count": 6,
   "id": "33417a99",
   "metadata": {},
   "outputs": [
    {
     "data": {
      "text/plain": [
       "Index(['Column_one', 'Column_two'], dtype='object')"
      ]
     },
     "execution_count": 6,
     "metadata": {},
     "output_type": "execute_result"
    }
   ],
   "source": [
    "data_frame.columns"
   ]
  },
  {
   "cell_type": "markdown",
   "id": "e7663cff",
   "metadata": {},
   "source": [
    "Чтобы узнать типы столбцов стоит использовать атрибут `.dtypes`."
   ]
  },
  {
   "cell_type": "code",
   "execution_count": 7,
   "id": "97dd30a9",
   "metadata": {},
   "outputs": [
    {
     "data": {
      "text/plain": [
       "Column_one    int64\n",
       "Column_two    int64\n",
       "dtype: object"
      ]
     },
     "execution_count": 7,
     "metadata": {},
     "output_type": "execute_result"
    }
   ],
   "source": [
    "data_frame.dtypes"
   ]
  },
  {
   "cell_type": "markdown",
   "id": "1bdc2cbc",
   "metadata": {},
   "source": [
    "Чтобы обратиться к столбцу `data` `frame`-а стоит использовать название стобца как индекс, тогда мы будем работать уже со `series`."
   ]
  },
  {
   "cell_type": "code",
   "execution_count": 8,
   "id": "b1f3f7e7",
   "metadata": {},
   "outputs": [
    {
     "data": {
      "text/plain": [
       "0    1\n",
       "1    2\n",
       "2    3\n",
       "Name: Column_one, dtype: int64"
      ]
     },
     "execution_count": 8,
     "metadata": {},
     "output_type": "execute_result"
    }
   ],
   "source": [
    "data_frame[\"Column_one\"]"
   ]
  },
  {
   "cell_type": "markdown",
   "id": "ceec3d19",
   "metadata": {},
   "source": [
    "Чтобы использовать несколько столбцов, то стоит в двойных квадратных скобках указать все интересующие нас столбцы. Выводятся столбцы в том порядке, в котором мы указали в скобках."
   ]
  },
  {
   "cell_type": "code",
   "execution_count": 9,
   "id": "55b72982",
   "metadata": {},
   "outputs": [
    {
     "data": {
      "text/html": [
       "<div>\n",
       "<style scoped>\n",
       "    .dataframe tbody tr th:only-of-type {\n",
       "        vertical-align: middle;\n",
       "    }\n",
       "\n",
       "    .dataframe tbody tr th {\n",
       "        vertical-align: top;\n",
       "    }\n",
       "\n",
       "    .dataframe thead th {\n",
       "        text-align: right;\n",
       "    }\n",
       "</style>\n",
       "<table border=\"1\" class=\"dataframe\">\n",
       "  <thead>\n",
       "    <tr style=\"text-align: right;\">\n",
       "      <th></th>\n",
       "      <th>Column_one</th>\n",
       "      <th>Column_two</th>\n",
       "    </tr>\n",
       "  </thead>\n",
       "  <tbody>\n",
       "    <tr>\n",
       "      <th>0</th>\n",
       "      <td>1</td>\n",
       "      <td>3</td>\n",
       "    </tr>\n",
       "    <tr>\n",
       "      <th>1</th>\n",
       "      <td>2</td>\n",
       "      <td>2</td>\n",
       "    </tr>\n",
       "    <tr>\n",
       "      <th>2</th>\n",
       "      <td>3</td>\n",
       "      <td>1</td>\n",
       "    </tr>\n",
       "  </tbody>\n",
       "</table>\n",
       "</div>"
      ],
      "text/plain": [
       "   Column_one  Column_two\n",
       "0           1           3\n",
       "1           2           2\n",
       "2           3           1"
      ]
     },
     "execution_count": 9,
     "metadata": {},
     "output_type": "execute_result"
    }
   ],
   "source": [
    "data_frame[[\"Column_one\", \"Column_two\"]]"
   ]
  },
  {
   "cell_type": "code",
   "execution_count": 10,
   "id": "622e7d42",
   "metadata": {},
   "outputs": [
    {
     "data": {
      "text/html": [
       "<div>\n",
       "<style scoped>\n",
       "    .dataframe tbody tr th:only-of-type {\n",
       "        vertical-align: middle;\n",
       "    }\n",
       "\n",
       "    .dataframe tbody tr th {\n",
       "        vertical-align: top;\n",
       "    }\n",
       "\n",
       "    .dataframe thead th {\n",
       "        text-align: right;\n",
       "    }\n",
       "</style>\n",
       "<table border=\"1\" class=\"dataframe\">\n",
       "  <thead>\n",
       "    <tr style=\"text-align: right;\">\n",
       "      <th></th>\n",
       "      <th>Column_one</th>\n",
       "    </tr>\n",
       "  </thead>\n",
       "  <tbody>\n",
       "    <tr>\n",
       "      <th>0</th>\n",
       "      <td>1</td>\n",
       "    </tr>\n",
       "    <tr>\n",
       "      <th>1</th>\n",
       "      <td>2</td>\n",
       "    </tr>\n",
       "  </tbody>\n",
       "</table>\n",
       "</div>"
      ],
      "text/plain": [
       "   Column_one\n",
       "0           1\n",
       "1           2"
      ]
     },
     "execution_count": 10,
     "metadata": {},
     "output_type": "execute_result"
    }
   ],
   "source": [
    "data_frame.iloc[: 2, : 1]"
   ]
  },
  {
   "cell_type": "markdown",
   "id": "4b3245ba",
   "metadata": {},
   "source": [
    "В `pandas`-е удобно использовать булевые маски."
   ]
  },
  {
   "cell_type": "code",
   "execution_count": 11,
   "id": "aaffc5a9",
   "metadata": {},
   "outputs": [
    {
     "data": {
      "text/html": [
       "<div>\n",
       "<style scoped>\n",
       "    .dataframe tbody tr th:only-of-type {\n",
       "        vertical-align: middle;\n",
       "    }\n",
       "\n",
       "    .dataframe tbody tr th {\n",
       "        vertical-align: top;\n",
       "    }\n",
       "\n",
       "    .dataframe thead th {\n",
       "        text-align: right;\n",
       "    }\n",
       "</style>\n",
       "<table border=\"1\" class=\"dataframe\">\n",
       "  <thead>\n",
       "    <tr style=\"text-align: right;\">\n",
       "      <th></th>\n",
       "      <th>Column_one</th>\n",
       "      <th>Column_two</th>\n",
       "    </tr>\n",
       "  </thead>\n",
       "  <tbody>\n",
       "    <tr>\n",
       "      <th>1</th>\n",
       "      <td>2</td>\n",
       "      <td>2</td>\n",
       "    </tr>\n",
       "    <tr>\n",
       "      <th>2</th>\n",
       "      <td>3</td>\n",
       "      <td>1</td>\n",
       "    </tr>\n",
       "  </tbody>\n",
       "</table>\n",
       "</div>"
      ],
      "text/plain": [
       "   Column_one  Column_two\n",
       "1           2           2\n",
       "2           3           1"
      ]
     },
     "execution_count": 11,
     "metadata": {},
     "output_type": "execute_result"
    }
   ],
   "source": [
    "data_frame[data_frame[\"Column_one\"] >= 2]"
   ]
  },
  {
   "cell_type": "markdown",
   "id": "5fe79da2",
   "metadata": {},
   "source": [
    "Также удобно использовать метод `.isin()`, чтобы определять, находится ли значение нашего экземпляра в множестве."
   ]
  },
  {
   "cell_type": "code",
   "execution_count": 12,
   "id": "f0cda67c",
   "metadata": {},
   "outputs": [
    {
     "data": {
      "text/html": [
       "<div>\n",
       "<style scoped>\n",
       "    .dataframe tbody tr th:only-of-type {\n",
       "        vertical-align: middle;\n",
       "    }\n",
       "\n",
       "    .dataframe tbody tr th {\n",
       "        vertical-align: top;\n",
       "    }\n",
       "\n",
       "    .dataframe thead th {\n",
       "        text-align: right;\n",
       "    }\n",
       "</style>\n",
       "<table border=\"1\" class=\"dataframe\">\n",
       "  <thead>\n",
       "    <tr style=\"text-align: right;\">\n",
       "      <th></th>\n",
       "      <th>Column_one</th>\n",
       "      <th>Column_two</th>\n",
       "    </tr>\n",
       "  </thead>\n",
       "  <tbody>\n",
       "    <tr>\n",
       "      <th>0</th>\n",
       "      <td>1</td>\n",
       "      <td>3</td>\n",
       "    </tr>\n",
       "    <tr>\n",
       "      <th>1</th>\n",
       "      <td>2</td>\n",
       "      <td>2</td>\n",
       "    </tr>\n",
       "  </tbody>\n",
       "</table>\n",
       "</div>"
      ],
      "text/plain": [
       "   Column_one  Column_two\n",
       "0           1           3\n",
       "1           2           2"
      ]
     },
     "execution_count": 12,
     "metadata": {},
     "output_type": "execute_result"
    }
   ],
   "source": [
    "data_frame[data_frame[\"Column_one\"].isin([1, 2])]"
   ]
  },
  {
   "cell_type": "markdown",
   "id": "c1a78d0a",
   "metadata": {},
   "source": [
    "Ещё один удобный способ сочетания булевых условий."
   ]
  },
  {
   "cell_type": "code",
   "execution_count": 13,
   "id": "8842917f",
   "metadata": {},
   "outputs": [
    {
     "data": {
      "text/html": [
       "<div>\n",
       "<style scoped>\n",
       "    .dataframe tbody tr th:only-of-type {\n",
       "        vertical-align: middle;\n",
       "    }\n",
       "\n",
       "    .dataframe tbody tr th {\n",
       "        vertical-align: top;\n",
       "    }\n",
       "\n",
       "    .dataframe thead th {\n",
       "        text-align: right;\n",
       "    }\n",
       "</style>\n",
       "<table border=\"1\" class=\"dataframe\">\n",
       "  <thead>\n",
       "    <tr style=\"text-align: right;\">\n",
       "      <th></th>\n",
       "      <th>Column_one</th>\n",
       "      <th>Column_two</th>\n",
       "    </tr>\n",
       "  </thead>\n",
       "  <tbody>\n",
       "    <tr>\n",
       "      <th>0</th>\n",
       "      <td>1</td>\n",
       "      <td>3</td>\n",
       "    </tr>\n",
       "    <tr>\n",
       "      <th>1</th>\n",
       "      <td>2</td>\n",
       "      <td>2</td>\n",
       "    </tr>\n",
       "  </tbody>\n",
       "</table>\n",
       "</div>"
      ],
      "text/plain": [
       "   Column_one  Column_two\n",
       "0           1           3\n",
       "1           2           2"
      ]
     },
     "execution_count": 13,
     "metadata": {},
     "output_type": "execute_result"
    }
   ],
   "source": [
    "data_frame[ (data_frame[\"Column_one\"] == 1) | (data_frame[\"Column_one\"] == 2)]"
   ]
  },
  {
   "cell_type": "markdown",
   "id": "bab2b088",
   "metadata": {},
   "source": [
    "Чтобы проверить для каждой строки наличие значение удобно использовать метод `.notna()`."
   ]
  },
  {
   "cell_type": "code",
   "execution_count": 14,
   "id": "89dc291c",
   "metadata": {},
   "outputs": [
    {
     "data": {
      "text/plain": [
       "0    True\n",
       "1    True\n",
       "2    True\n",
       "Name: Column_one, dtype: bool"
      ]
     },
     "execution_count": 14,
     "metadata": {},
     "output_type": "execute_result"
    }
   ],
   "source": [
    "data_frame[\"Column_one\"].notna()"
   ]
  },
  {
   "cell_type": "markdown",
   "id": "7cc6c408",
   "metadata": {},
   "source": [
    "Противоположный метод по функционалу `.isnan()`."
   ]
  },
  {
   "cell_type": "code",
   "execution_count": 15,
   "id": "d2afc3c2",
   "metadata": {},
   "outputs": [
    {
     "data": {
      "text/plain": [
       "0"
      ]
     },
     "execution_count": 15,
     "metadata": {},
     "output_type": "execute_result"
    }
   ],
   "source": [
    "data_frame[\"Column_one\"].isna().sum()"
   ]
  },
  {
   "cell_type": "markdown",
   "id": "fdbcadb1",
   "metadata": {},
   "source": [
    "Для вывода значений при работе с маской стоит использовать метод `.loc()`.\n",
    "\n",
    "Для компирования `data frame`-а удобно использовать метод `.copy()`. Если стоит копировать не ссылку, а саму структуру даных, то стоит указать значение аргумента `deep=` как `True`."
   ]
  },
  {
   "cell_type": "code",
   "execution_count": 16,
   "id": "ff0d3d2f",
   "metadata": {},
   "outputs": [
    {
     "data": {
      "text/html": [
       "<div>\n",
       "<style scoped>\n",
       "    .dataframe tbody tr th:only-of-type {\n",
       "        vertical-align: middle;\n",
       "    }\n",
       "\n",
       "    .dataframe tbody tr th {\n",
       "        vertical-align: top;\n",
       "    }\n",
       "\n",
       "    .dataframe thead th {\n",
       "        text-align: right;\n",
       "    }\n",
       "</style>\n",
       "<table border=\"1\" class=\"dataframe\">\n",
       "  <thead>\n",
       "    <tr style=\"text-align: right;\">\n",
       "      <th></th>\n",
       "      <th>Column_one</th>\n",
       "      <th>Column_two</th>\n",
       "    </tr>\n",
       "  </thead>\n",
       "  <tbody>\n",
       "    <tr>\n",
       "      <th>0</th>\n",
       "      <td>1</td>\n",
       "      <td>3</td>\n",
       "    </tr>\n",
       "    <tr>\n",
       "      <th>1</th>\n",
       "      <td>2</td>\n",
       "      <td>2</td>\n",
       "    </tr>\n",
       "    <tr>\n",
       "      <th>2</th>\n",
       "      <td>3</td>\n",
       "      <td>1</td>\n",
       "    </tr>\n",
       "  </tbody>\n",
       "</table>\n",
       "</div>"
      ],
      "text/plain": [
       "   Column_one  Column_two\n",
       "0           1           3\n",
       "1           2           2\n",
       "2           3           1"
      ]
     },
     "execution_count": 16,
     "metadata": {},
     "output_type": "execute_result"
    }
   ],
   "source": [
    "data_frame_two = data_frame.copy(deep = True)\n",
    "\n",
    "data_frame_two"
   ]
  },
  {
   "cell_type": "markdown",
   "id": "78fd6e8b",
   "metadata": {},
   "source": [
    "Для соединения `data frame`-ов удобно использовать метод `.concat()`."
   ]
  },
  {
   "cell_type": "code",
   "execution_count": 17,
   "id": "bd45fe47",
   "metadata": {},
   "outputs": [
    {
     "data": {
      "text/html": [
       "<div>\n",
       "<style scoped>\n",
       "    .dataframe tbody tr th:only-of-type {\n",
       "        vertical-align: middle;\n",
       "    }\n",
       "\n",
       "    .dataframe tbody tr th {\n",
       "        vertical-align: top;\n",
       "    }\n",
       "\n",
       "    .dataframe thead th {\n",
       "        text-align: right;\n",
       "    }\n",
       "</style>\n",
       "<table border=\"1\" class=\"dataframe\">\n",
       "  <thead>\n",
       "    <tr style=\"text-align: right;\">\n",
       "      <th></th>\n",
       "      <th>Column_one</th>\n",
       "      <th>Column_two</th>\n",
       "    </tr>\n",
       "  </thead>\n",
       "  <tbody>\n",
       "    <tr>\n",
       "      <th>0</th>\n",
       "      <td>1</td>\n",
       "      <td>3</td>\n",
       "    </tr>\n",
       "    <tr>\n",
       "      <th>1</th>\n",
       "      <td>2</td>\n",
       "      <td>2</td>\n",
       "    </tr>\n",
       "    <tr>\n",
       "      <th>2</th>\n",
       "      <td>3</td>\n",
       "      <td>1</td>\n",
       "    </tr>\n",
       "    <tr>\n",
       "      <th>0</th>\n",
       "      <td>1</td>\n",
       "      <td>3</td>\n",
       "    </tr>\n",
       "    <tr>\n",
       "      <th>1</th>\n",
       "      <td>2</td>\n",
       "      <td>2</td>\n",
       "    </tr>\n",
       "    <tr>\n",
       "      <th>2</th>\n",
       "      <td>3</td>\n",
       "      <td>1</td>\n",
       "    </tr>\n",
       "  </tbody>\n",
       "</table>\n",
       "</div>"
      ],
      "text/plain": [
       "   Column_one  Column_two\n",
       "0           1           3\n",
       "1           2           2\n",
       "2           3           1\n",
       "0           1           3\n",
       "1           2           2\n",
       "2           3           1"
      ]
     },
     "execution_count": 17,
     "metadata": {},
     "output_type": "execute_result"
    }
   ],
   "source": [
    "result_data_frame = pd.concat([data_frame, data_frame_two])\n",
    "\n",
    "result_data_frame"
   ]
  },
  {
   "cell_type": "markdown",
   "id": "e1216587",
   "metadata": {},
   "source": [
    "Чтобы объединить `data frame`-ы по стобцам стоит использовать дополнительный параметр `axis = 1`."
   ]
  },
  {
   "cell_type": "code",
   "execution_count": 18,
   "id": "6daace4f",
   "metadata": {},
   "outputs": [
    {
     "data": {
      "text/html": [
       "<div>\n",
       "<style scoped>\n",
       "    .dataframe tbody tr th:only-of-type {\n",
       "        vertical-align: middle;\n",
       "    }\n",
       "\n",
       "    .dataframe tbody tr th {\n",
       "        vertical-align: top;\n",
       "    }\n",
       "\n",
       "    .dataframe thead th {\n",
       "        text-align: right;\n",
       "    }\n",
       "</style>\n",
       "<table border=\"1\" class=\"dataframe\">\n",
       "  <thead>\n",
       "    <tr style=\"text-align: right;\">\n",
       "      <th></th>\n",
       "      <th>Column_one</th>\n",
       "      <th>Column_two</th>\n",
       "      <th>Column_one</th>\n",
       "      <th>Column_two</th>\n",
       "    </tr>\n",
       "  </thead>\n",
       "  <tbody>\n",
       "    <tr>\n",
       "      <th>0</th>\n",
       "      <td>1</td>\n",
       "      <td>3</td>\n",
       "      <td>1</td>\n",
       "      <td>3</td>\n",
       "    </tr>\n",
       "    <tr>\n",
       "      <th>1</th>\n",
       "      <td>2</td>\n",
       "      <td>2</td>\n",
       "      <td>2</td>\n",
       "      <td>2</td>\n",
       "    </tr>\n",
       "    <tr>\n",
       "      <th>2</th>\n",
       "      <td>3</td>\n",
       "      <td>1</td>\n",
       "      <td>3</td>\n",
       "      <td>1</td>\n",
       "    </tr>\n",
       "  </tbody>\n",
       "</table>\n",
       "</div>"
      ],
      "text/plain": [
       "   Column_one  Column_two  Column_one  Column_two\n",
       "0           1           3           1           3\n",
       "1           2           2           2           2\n",
       "2           3           1           3           1"
      ]
     },
     "execution_count": 18,
     "metadata": {},
     "output_type": "execute_result"
    }
   ],
   "source": [
    "result_data_frame = pd.concat([data_frame, data_frame_two], axis = 1)\n",
    "\n",
    "result_data_frame"
   ]
  },
  {
   "cell_type": "markdown",
   "id": "843dee5f",
   "metadata": {},
   "source": [
    "`Data frame`-ы можно `join`-ить как в `sql` при помощи метода `.merge()`."
   ]
  },
  {
   "cell_type": "code",
   "execution_count": 28,
   "id": "f0abb47e",
   "metadata": {},
   "outputs": [
    {
     "data": {
      "text/html": [
       "<div>\n",
       "<style scoped>\n",
       "    .dataframe tbody tr th:only-of-type {\n",
       "        vertical-align: middle;\n",
       "    }\n",
       "\n",
       "    .dataframe tbody tr th {\n",
       "        vertical-align: top;\n",
       "    }\n",
       "\n",
       "    .dataframe thead th {\n",
       "        text-align: right;\n",
       "    }\n",
       "</style>\n",
       "<table border=\"1\" class=\"dataframe\">\n",
       "  <thead>\n",
       "    <tr style=\"text-align: right;\">\n",
       "      <th></th>\n",
       "      <th>Column_one</th>\n",
       "      <th>Column_two</th>\n",
       "      <th>Is_even</th>\n",
       "    </tr>\n",
       "  </thead>\n",
       "  <tbody>\n",
       "    <tr>\n",
       "      <th>0</th>\n",
       "      <td>1</td>\n",
       "      <td>3</td>\n",
       "      <td>False</td>\n",
       "    </tr>\n",
       "    <tr>\n",
       "      <th>1</th>\n",
       "      <td>2</td>\n",
       "      <td>2</td>\n",
       "      <td>True</td>\n",
       "    </tr>\n",
       "    <tr>\n",
       "      <th>2</th>\n",
       "      <td>3</td>\n",
       "      <td>1</td>\n",
       "      <td>False</td>\n",
       "    </tr>\n",
       "  </tbody>\n",
       "</table>\n",
       "</div>"
      ],
      "text/plain": [
       "   Column_one  Column_two  Is_even\n",
       "0           1           3    False\n",
       "1           2           2     True\n",
       "2           3           1    False"
      ]
     },
     "execution_count": 28,
     "metadata": {},
     "output_type": "execute_result"
    }
   ],
   "source": [
    "temporary_data_frame = pd.DataFrame(index = data_frame.index) # Создаём пустой data frame той же размерности.\n",
    "\n",
    "temporary_data_frame[\"Column_one\"] = data_frame[\"Column_one\"] # Колонна, по которой будет производится join.\n",
    "\n",
    "temporary_data_frame[\"Is_even\"] = data_frame[\"Column_one\"].apply(lambda x: x % 2 == 0)\n",
    "\n",
    "pd.merge(data_frame, temporary_data_frame, how = \"inner\") # Cам join."
   ]
  },
  {
   "cell_type": "markdown",
   "id": "21ec9cb0",
   "metadata": {},
   "source": [
    "Метод для подсчёта всех строчек `.count()`."
   ]
  },
  {
   "cell_type": "code",
   "execution_count": 32,
   "id": "370dc560",
   "metadata": {},
   "outputs": [
    {
     "data": {
      "text/plain": [
       "3"
      ]
     },
     "execution_count": 32,
     "metadata": {},
     "output_type": "execute_result"
    }
   ],
   "source": [
    "data_frame.count()\n",
    "\n",
    "data_frame[\"Column_one\"].count()"
   ]
  },
  {
   "cell_type": "markdown",
   "id": "7f1ecb7e",
   "metadata": {},
   "source": [
    "Метод для подсчёта среднего значение `.mean()`."
   ]
  },
  {
   "cell_type": "code",
   "execution_count": 33,
   "id": "80957350",
   "metadata": {},
   "outputs": [
    {
     "data": {
      "text/plain": [
       "Column_one    2.0\n",
       "Column_two    2.0\n",
       "dtype: float64"
      ]
     },
     "execution_count": 33,
     "metadata": {},
     "output_type": "execute_result"
    }
   ],
   "source": [
    "data_frame.mean()"
   ]
  },
  {
   "cell_type": "markdown",
   "id": "be09a9eb",
   "metadata": {},
   "source": [
    "Метод получения медианы `.median()`."
   ]
  },
  {
   "cell_type": "code",
   "execution_count": 35,
   "id": "3ae1c458",
   "metadata": {},
   "outputs": [
    {
     "data": {
      "text/plain": [
       "Column_one    2.0\n",
       "Column_two    2.0\n",
       "dtype: float64"
      ]
     },
     "execution_count": 35,
     "metadata": {},
     "output_type": "execute_result"
    }
   ],
   "source": [
    "data_frame.median()"
   ]
  },
  {
   "cell_type": "markdown",
   "id": "206d34a3",
   "metadata": {},
   "source": [
    "Чтобы получить полную статистику о `data frame`-е стоит использовать метод `.describe()`."
   ]
  },
  {
   "cell_type": "code",
   "execution_count": 36,
   "id": "315b2390",
   "metadata": {},
   "outputs": [
    {
     "data": {
      "text/html": [
       "<div>\n",
       "<style scoped>\n",
       "    .dataframe tbody tr th:only-of-type {\n",
       "        vertical-align: middle;\n",
       "    }\n",
       "\n",
       "    .dataframe tbody tr th {\n",
       "        vertical-align: top;\n",
       "    }\n",
       "\n",
       "    .dataframe thead th {\n",
       "        text-align: right;\n",
       "    }\n",
       "</style>\n",
       "<table border=\"1\" class=\"dataframe\">\n",
       "  <thead>\n",
       "    <tr style=\"text-align: right;\">\n",
       "      <th></th>\n",
       "      <th>Column_one</th>\n",
       "      <th>Column_two</th>\n",
       "    </tr>\n",
       "  </thead>\n",
       "  <tbody>\n",
       "    <tr>\n",
       "      <th>count</th>\n",
       "      <td>3.0</td>\n",
       "      <td>3.0</td>\n",
       "    </tr>\n",
       "    <tr>\n",
       "      <th>mean</th>\n",
       "      <td>2.0</td>\n",
       "      <td>2.0</td>\n",
       "    </tr>\n",
       "    <tr>\n",
       "      <th>std</th>\n",
       "      <td>1.0</td>\n",
       "      <td>1.0</td>\n",
       "    </tr>\n",
       "    <tr>\n",
       "      <th>min</th>\n",
       "      <td>1.0</td>\n",
       "      <td>1.0</td>\n",
       "    </tr>\n",
       "    <tr>\n",
       "      <th>25%</th>\n",
       "      <td>1.5</td>\n",
       "      <td>1.5</td>\n",
       "    </tr>\n",
       "    <tr>\n",
       "      <th>50%</th>\n",
       "      <td>2.0</td>\n",
       "      <td>2.0</td>\n",
       "    </tr>\n",
       "    <tr>\n",
       "      <th>75%</th>\n",
       "      <td>2.5</td>\n",
       "      <td>2.5</td>\n",
       "    </tr>\n",
       "    <tr>\n",
       "      <th>max</th>\n",
       "      <td>3.0</td>\n",
       "      <td>3.0</td>\n",
       "    </tr>\n",
       "  </tbody>\n",
       "</table>\n",
       "</div>"
      ],
      "text/plain": [
       "       Column_one  Column_two\n",
       "count         3.0         3.0\n",
       "mean          2.0         2.0\n",
       "std           1.0         1.0\n",
       "min           1.0         1.0\n",
       "25%           1.5         1.5\n",
       "50%           2.0         2.0\n",
       "75%           2.5         2.5\n",
       "max           3.0         3.0"
      ]
     },
     "execution_count": 36,
     "metadata": {},
     "output_type": "execute_result"
    }
   ],
   "source": [
    "data_frame.describe()"
   ]
  },
  {
   "cell_type": "markdown",
   "id": "298d2f58",
   "metadata": {},
   "source": [
    "Для расчёта данных для определённой группы удобно использовать метод `.groupby()`."
   ]
  },
  {
   "cell_type": "code",
   "execution_count": 39,
   "id": "50e7f30c",
   "metadata": {},
   "outputs": [
    {
     "data": {
      "text/plain": [
       "Column_one\n",
       "1    3.0\n",
       "2    2.0\n",
       "3    1.0\n",
       "Name: Column_two, dtype: float64"
      ]
     },
     "execution_count": 39,
     "metadata": {},
     "output_type": "execute_result"
    }
   ],
   "source": [
    "data_frame.groupby(\"Column_one\")[\"Column_two\"].mean()"
   ]
  },
  {
   "cell_type": "markdown",
   "id": "2487ebb6",
   "metadata": {},
   "source": [
    "Метод `.agg()` принимает список агрегатных функций, которые стоит посчитать."
   ]
  },
  {
   "cell_type": "code",
   "execution_count": 42,
   "id": "b8046920",
   "metadata": {},
   "outputs": [
    {
     "data": {
      "text/plain": [
       "Column_one\n",
       "1    3.0\n",
       "2    2.0\n",
       "3    1.0\n",
       "Name: Column_two, dtype: float64"
      ]
     },
     "execution_count": 42,
     "metadata": {},
     "output_type": "execute_result"
    }
   ],
   "source": [
    "data_frame.groupby(\"Column_one\")[\"Column_two\"].agg(\"mean\", \"median\")"
   ]
  },
  {
   "cell_type": "markdown",
   "id": "5cea186f",
   "metadata": {},
   "source": [
    "Удобный метод `.value_count()`, который считает количество различных значений серии."
   ]
  },
  {
   "cell_type": "code",
   "execution_count": 45,
   "id": "f1a0bf87",
   "metadata": {},
   "outputs": [
    {
     "data": {
      "text/plain": [
       "1    1\n",
       "2    1\n",
       "3    1\n",
       "Name: Column_one, dtype: int64"
      ]
     },
     "execution_count": 45,
     "metadata": {},
     "output_type": "execute_result"
    }
   ],
   "source": [
    "data_frame[\"Column_one\"].value_counts()"
   ]
  },
  {
   "cell_type": "markdown",
   "id": "12cc0aa6",
   "metadata": {},
   "source": [
    "Существует метод показывающий попарную корреляцию `.corr()`."
   ]
  },
  {
   "cell_type": "code",
   "execution_count": 46,
   "id": "ce0354ec",
   "metadata": {},
   "outputs": [
    {
     "data": {
      "text/html": [
       "<div>\n",
       "<style scoped>\n",
       "    .dataframe tbody tr th:only-of-type {\n",
       "        vertical-align: middle;\n",
       "    }\n",
       "\n",
       "    .dataframe tbody tr th {\n",
       "        vertical-align: top;\n",
       "    }\n",
       "\n",
       "    .dataframe thead th {\n",
       "        text-align: right;\n",
       "    }\n",
       "</style>\n",
       "<table border=\"1\" class=\"dataframe\">\n",
       "  <thead>\n",
       "    <tr style=\"text-align: right;\">\n",
       "      <th></th>\n",
       "      <th>Column_one</th>\n",
       "      <th>Column_two</th>\n",
       "    </tr>\n",
       "  </thead>\n",
       "  <tbody>\n",
       "    <tr>\n",
       "      <th>Column_one</th>\n",
       "      <td>1.0</td>\n",
       "      <td>-1.0</td>\n",
       "    </tr>\n",
       "    <tr>\n",
       "      <th>Column_two</th>\n",
       "      <td>-1.0</td>\n",
       "      <td>1.0</td>\n",
       "    </tr>\n",
       "  </tbody>\n",
       "</table>\n",
       "</div>"
      ],
      "text/plain": [
       "            Column_one  Column_two\n",
       "Column_one         1.0        -1.0\n",
       "Column_two        -1.0         1.0"
      ]
     },
     "execution_count": 46,
     "metadata": {},
     "output_type": "execute_result"
    }
   ],
   "source": [
    "data_frame.corr()"
   ]
  },
  {
   "cell_type": "markdown",
   "id": "e9ff1c00",
   "metadata": {},
   "source": [
    "Для визуализации серии стоит использовать метод `.plot()`."
   ]
  },
  {
   "cell_type": "code",
   "execution_count": 51,
   "id": "4df7e9b6",
   "metadata": {},
   "outputs": [
    {
     "data": {
      "text/plain": [
       "<Axes: ylabel='Frequency'>"
      ]
     },
     "execution_count": 51,
     "metadata": {},
     "output_type": "execute_result"
    },
    {
     "data": {
      "image/png": "[encoded data removed]",
      "text/plain": [
       "<Figure size 640x480 with 1 Axes>"
      ]
     },
     "metadata": {},
     "output_type": "display_data"
    }
   ],
   "source": [
    "data_frame[\"Column_one\"].plot(kind = \"hist\", bins = 20) # hist - тип графика, bins - количество столбцов."
   ]
  },
  {
   "cell_type": "markdown",
   "id": "293f6fdf",
   "metadata": {},
   "source": [
    "Чтобы получить тип распределения нужно указать в аргументах метода тип графика `kde`."
   ]
  },
  {
   "cell_type": "code",
   "execution_count": 55,
   "id": "9322c1b7",
   "metadata": {},
   "outputs": [
    {
     "data": {
      "text/plain": [
       "<Axes: ylabel='Density'>"
      ]
     },
     "execution_count": 55,
     "metadata": {},
     "output_type": "execute_result"
    },
    {
     "data": {
      "image/png": "[encoded data removed]",
      "text/plain": [
       "<Figure size 640x480 with 1 Axes>"
      ]
     },
     "metadata": {},
     "output_type": "display_data"
    }
   ],
   "source": [
    "data_frame[\"Column_one\"].plot(kind = \"kde\", xlim = [0, 10])"
   ]
  },
  {
   "cell_type": "markdown",
   "id": "8029a25c",
   "metadata": {},
   "source": [
    "Значения `series` можно задать статически."
   ]
  },
  {
   "cell_type": "code",
   "execution_count": 57,
   "id": "0425fd3b",
   "metadata": {},
   "outputs": [
    {
     "data": {
      "text/html": [
       "<div>\n",
       "<style scoped>\n",
       "    .dataframe tbody tr th:only-of-type {\n",
       "        vertical-align: middle;\n",
       "    }\n",
       "\n",
       "    .dataframe tbody tr th {\n",
       "        vertical-align: top;\n",
       "    }\n",
       "\n",
       "    .dataframe thead th {\n",
       "        text-align: right;\n",
       "    }\n",
       "</style>\n",
       "<table border=\"1\" class=\"dataframe\">\n",
       "  <thead>\n",
       "    <tr style=\"text-align: right;\">\n",
       "      <th></th>\n",
       "      <th>Column_one</th>\n",
       "      <th>Column_two</th>\n",
       "    </tr>\n",
       "  </thead>\n",
       "  <tbody>\n",
       "    <tr>\n",
       "      <th>0</th>\n",
       "      <td>1</td>\n",
       "      <td>3</td>\n",
       "    </tr>\n",
       "    <tr>\n",
       "      <th>1</th>\n",
       "      <td>1</td>\n",
       "      <td>2</td>\n",
       "    </tr>\n",
       "    <tr>\n",
       "      <th>2</th>\n",
       "      <td>1</td>\n",
       "      <td>1</td>\n",
       "    </tr>\n",
       "  </tbody>\n",
       "</table>\n",
       "</div>"
      ],
      "text/plain": [
       "   Column_one  Column_two\n",
       "0           1           3\n",
       "1           1           2\n",
       "2           1           1"
      ]
     },
     "execution_count": 57,
     "metadata": {},
     "output_type": "execute_result"
    }
   ],
   "source": [
    "data_frame[\"Column_one\"] = 1\n",
    "\n",
    "data_frame"
   ]
  },
  {
   "cell_type": "markdown",
   "id": "57ff9b59",
   "metadata": {},
   "source": [
    "Создать колонну можно при помощи булевый маски."
   ]
  },
  {
   "cell_type": "code",
   "execution_count": 60,
   "id": "dc24b289",
   "metadata": {},
   "outputs": [
    {
     "data": {
      "text/html": [
       "<div>\n",
       "<style scoped>\n",
       "    .dataframe tbody tr th:only-of-type {\n",
       "        vertical-align: middle;\n",
       "    }\n",
       "\n",
       "    .dataframe tbody tr th {\n",
       "        vertical-align: top;\n",
       "    }\n",
       "\n",
       "    .dataframe thead th {\n",
       "        text-align: right;\n",
       "    }\n",
       "</style>\n",
       "<table border=\"1\" class=\"dataframe\">\n",
       "  <thead>\n",
       "    <tr style=\"text-align: right;\">\n",
       "      <th></th>\n",
       "      <th>Column_one</th>\n",
       "      <th>Column_two</th>\n",
       "      <th>Is_bigger_then_one</th>\n",
       "    </tr>\n",
       "  </thead>\n",
       "  <tbody>\n",
       "    <tr>\n",
       "      <th>0</th>\n",
       "      <td>1</td>\n",
       "      <td>3</td>\n",
       "      <td>False</td>\n",
       "    </tr>\n",
       "    <tr>\n",
       "      <th>1</th>\n",
       "      <td>1</td>\n",
       "      <td>2</td>\n",
       "      <td>False</td>\n",
       "    </tr>\n",
       "    <tr>\n",
       "      <th>2</th>\n",
       "      <td>1</td>\n",
       "      <td>1</td>\n",
       "      <td>False</td>\n",
       "    </tr>\n",
       "  </tbody>\n",
       "</table>\n",
       "</div>"
      ],
      "text/plain": [
       "   Column_one  Column_two  Is_bigger_then_one\n",
       "0           1           3               False\n",
       "1           1           2               False\n",
       "2           1           1               False"
      ]
     },
     "execution_count": 60,
     "metadata": {},
     "output_type": "execute_result"
    }
   ],
   "source": [
    "data_frame[\"Is_bigger_then_one\"] = data_frame[\"Column_one\"] > 1\n",
    "\n",
    "data_frame"
   ]
  },
  {
   "cell_type": "markdown",
   "id": "c2ec2302",
   "metadata": {},
   "source": [
    "Чтобы переименовывать названия столбцов стоит использовать метод `.rename()`."
   ]
  },
  {
   "cell_type": "code",
   "execution_count": 62,
   "id": "556b5f72",
   "metadata": {},
   "outputs": [
    {
     "data": {
      "text/html": [
       "<div>\n",
       "<style scoped>\n",
       "    .dataframe tbody tr th:only-of-type {\n",
       "        vertical-align: middle;\n",
       "    }\n",
       "\n",
       "    .dataframe tbody tr th {\n",
       "        vertical-align: top;\n",
       "    }\n",
       "\n",
       "    .dataframe thead th {\n",
       "        text-align: right;\n",
       "    }\n",
       "</style>\n",
       "<table border=\"1\" class=\"dataframe\">\n",
       "  <thead>\n",
       "    <tr style=\"text-align: right;\">\n",
       "      <th></th>\n",
       "      <th>First</th>\n",
       "      <th>Column_two</th>\n",
       "      <th>Is_bigger_then_one</th>\n",
       "    </tr>\n",
       "  </thead>\n",
       "  <tbody>\n",
       "    <tr>\n",
       "      <th>0</th>\n",
       "      <td>1</td>\n",
       "      <td>3</td>\n",
       "      <td>False</td>\n",
       "    </tr>\n",
       "    <tr>\n",
       "      <th>1</th>\n",
       "      <td>1</td>\n",
       "      <td>2</td>\n",
       "      <td>False</td>\n",
       "    </tr>\n",
       "    <tr>\n",
       "      <th>2</th>\n",
       "      <td>1</td>\n",
       "      <td>1</td>\n",
       "      <td>False</td>\n",
       "    </tr>\n",
       "  </tbody>\n",
       "</table>\n",
       "</div>"
      ],
      "text/plain": [
       "   First  Column_two  Is_bigger_then_one\n",
       "0      1           3               False\n",
       "1      1           2               False\n",
       "2      1           1               False"
      ]
     },
     "execution_count": 62,
     "metadata": {},
     "output_type": "execute_result"
    }
   ],
   "source": [
    "data_frame.rename(columns = {\"Column_one\": \"First\"})"
   ]
  },
  {
   "cell_type": "markdown",
   "id": "a36827db",
   "metadata": {},
   "source": [
    "Чтобы переименовать все названия в нижний регистр."
   ]
  },
  {
   "cell_type": "code",
   "execution_count": 68,
   "id": "f86bbd18",
   "metadata": {},
   "outputs": [
    {
     "data": {
      "text/html": [
       "<div>\n",
       "<style scoped>\n",
       "    .dataframe tbody tr th:only-of-type {\n",
       "        vertical-align: middle;\n",
       "    }\n",
       "\n",
       "    .dataframe tbody tr th {\n",
       "        vertical-align: top;\n",
       "    }\n",
       "\n",
       "    .dataframe thead th {\n",
       "        text-align: right;\n",
       "    }\n",
       "</style>\n",
       "<table border=\"1\" class=\"dataframe\">\n",
       "  <thead>\n",
       "    <tr style=\"text-align: right;\">\n",
       "      <th></th>\n",
       "      <th>Column_one</th>\n",
       "      <th>Column_two</th>\n",
       "      <th>Is_bigger_then_one</th>\n",
       "    </tr>\n",
       "  </thead>\n",
       "  <tbody>\n",
       "    <tr>\n",
       "      <th>0</th>\n",
       "      <td>1</td>\n",
       "      <td>3</td>\n",
       "      <td>False</td>\n",
       "    </tr>\n",
       "    <tr>\n",
       "      <th>1</th>\n",
       "      <td>1</td>\n",
       "      <td>2</td>\n",
       "      <td>False</td>\n",
       "    </tr>\n",
       "    <tr>\n",
       "      <th>2</th>\n",
       "      <td>1</td>\n",
       "      <td>1</td>\n",
       "      <td>False</td>\n",
       "    </tr>\n",
       "  </tbody>\n",
       "</table>\n",
       "</div>"
      ],
      "text/plain": [
       "   Column_one  Column_two  Is_bigger_then_one\n",
       "0           1           3               False\n",
       "1           1           2               False\n",
       "2           1           1               False"
      ]
     },
     "execution_count": 68,
     "metadata": {},
     "output_type": "execute_result"
    }
   ],
   "source": [
    "data_frame.rename(columns = str.lower)\n",
    "\n",
    "data_frame"
   ]
  }
 ],
 "metadata": {
  "kernelspec": {
   "display_name": "Python 3 (ipykernel)",
   "language": "python",
   "name": "python3"
  },
  "language_info": {
   "codemirror_mode": {
    "name": "ipython",
    "version": 3
   },
   "file_extension": ".py",
   "mimetype": "text/x-python",
   "name": "python",
   "nbconvert_exporter": "python",
   "pygments_lexer": "ipython3",
   "version": "3.10.9"
  }
 },
 "nbformat": 4,
 "nbformat_minor": 5
}
