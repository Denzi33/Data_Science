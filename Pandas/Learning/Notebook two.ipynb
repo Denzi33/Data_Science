{
 "cells": [
  {
   "cell_type": "markdown",
   "id": "ca2d76f6",
   "metadata": {},
   "source": [
    "#### Основы работы:"
   ]
  },
  {
   "cell_type": "code",
   "execution_count": 2,
   "id": "3fa8450c",
   "metadata": {},
   "outputs": [],
   "source": [
    "import pandas as pd"
   ]
  },
  {
   "cell_type": "markdown",
   "id": "8b4c4b9e",
   "metadata": {},
   "source": [
    "В `jupyter notebook` выводится результат только последний команды."
   ]
  },
  {
   "cell_type": "code",
   "execution_count": 3,
   "id": "4631b58a",
   "metadata": {},
   "outputs": [
    {
     "data": {
      "text/plain": [
       "0"
      ]
     },
     "execution_count": 3,
     "metadata": {},
     "output_type": "execute_result"
    }
   ],
   "source": [
    "2 + 2\n",
    "2 - 2"
   ]
  },
  {
   "cell_type": "markdown",
   "id": "fc75db0e",
   "metadata": {},
   "source": [
    "Над сериями можно проводить основные арифметические операции."
   ]
  },
  {
   "cell_type": "code",
   "execution_count": 10,
   "id": "1e6fbaf6",
   "metadata": {},
   "outputs": [
    {
     "name": "stdout",
     "output_type": "stream",
     "text": [
      "0     6\n",
      "1     8\n",
      "2    10\n",
      "3    12\n",
      "4    14\n",
      "dtype: int64\n"
     ]
    }
   ],
   "source": [
    "numbers = [1, 2, 3, 4, 5]\n",
    "\n",
    "series = pd.Series(numbers)\n",
    "series += 2\n",
    "series *= 2\n",
    "\n",
    "print(series)"
   ]
  },
  {
   "cell_type": "markdown",
   "id": "76babdbb",
   "metadata": {},
   "source": [
    "Над сериями можно проводить логические операции."
   ]
  },
  {
   "cell_type": "code",
   "execution_count": 16,
   "id": "949cb7b3",
   "metadata": {},
   "outputs": [
    {
     "name": "stdout",
     "output_type": "stream",
     "text": [
      "0    0\n",
      "1    0\n",
      "2    0\n",
      "3    0\n",
      "4    0\n",
      "dtype: int64 \n",
      "\n",
      "0    False\n",
      "1    False\n",
      "2    False\n",
      "3    False\n",
      "4    False\n",
      "dtype: bool\n"
     ]
    }
   ],
   "source": [
    "print(series % 2, '\\n')\n",
    "print(series < 2)"
   ]
  },
  {
   "cell_type": "markdown",
   "id": "0e28d605",
   "metadata": {},
   "source": [
    "Встроенные функции можно использовать со сериями. Область типов аргументов функций остаётся тем же, что в Python."
   ]
  },
  {
   "cell_type": "code",
   "execution_count": 19,
   "id": "30edb9c3",
   "metadata": {},
   "outputs": [
    {
     "name": "stdout",
     "output_type": "stream",
     "text": [
      "14 \n",
      "\n",
      "6 \n",
      "\n",
      "50 \n",
      "\n",
      "5 \n",
      "\n",
      "0     6\n",
      "1     8\n",
      "2    10\n",
      "3    12\n",
      "4    14\n",
      "dtype: int64 \n",
      "\n"
     ]
    }
   ],
   "source": [
    "print(max(series), '\\n')\n",
    "print(min(series), '\\n')\n",
    "print(sum(series), '\\n')\n",
    "print(len(series), '\\n')\n",
    "print(abs(series), '\\n')"
   ]
  },
  {
   "cell_type": "markdown",
   "id": "aaaed56f",
   "metadata": {},
   "source": [
    "У серии, как у многих классов, есть представители, которые имеют атрибуты. Посмотреть все атрибуты можно посмотреть на сайте документации - `https://pandas.pydata.org`. Gосмотреть список всех атрибутов и методов класса, можно нажав `tab` после точки экземпляра."
   ]
  },
  {
   "cell_type": "code",
   "execution_count": 51,
   "id": "76000790",
   "metadata": {},
   "outputs": [
    {
     "name": "stdout",
     "output_type": "stream",
     "text": [
      "[ 6  8 10 12 14]\n",
      "RangeIndex(start=0, stop=5, step=1)\n",
      "Int64Index([10, 20, 30, 40, 50], dtype='int64')\n"
     ]
    }
   ],
   "source": [
    "print(series.values) # Значения серии.\n",
    "print(series.index) # Индексы серии.\n",
    "\n",
    "series_two = pd.Series(numbers, [10, 20, 30, 40, 50])\n",
    "\n",
    "print(series_two.index)"
   ]
  },
  {
   "cell_type": "markdown",
   "id": "a2f8b648",
   "metadata": {},
   "source": [
    "Библиотечные методы:"
   ]
  },
  {
   "cell_type": "code",
   "execution_count": 50,
   "id": "d09d0d51",
   "metadata": {},
   "outputs": [
    {
     "name": "stdout",
     "output_type": "stream",
     "text": [
      "5\n",
      "True\n",
      "True\n",
      "1\n",
      "int64\n"
     ]
    }
   ],
   "source": [
    "print(series.size) # Возврат размерности серии.\n",
    "print(series.is_unique) # Проверка уникальности элементов.\n",
    "print(series.is_monotonic_increasing) # Проверка на монотонный рост.\n",
    "print(series.ndim) # Возврат размерности.\n",
    "print(series.dtype) # Тип данных."
   ]
  },
  {
   "cell_type": "markdown",
   "id": "f30f72f3",
   "metadata": {},
   "source": [
    "Метод - это функция класса, атрибут - это поле (переменная) класса.\n",
    "\n",
    "Методы:"
   ]
  },
  {
   "cell_type": "code",
   "execution_count": 56,
   "id": "72a1e321",
   "metadata": {},
   "outputs": [
    {
     "name": "stdout",
     "output_type": "stream",
     "text": [
      "True\n",
      "80640 \n",
      "\n",
      "10.0 \n",
      "\n",
      "14 \n",
      "\n",
      "0    False\n",
      "1    False\n",
      "2    False\n",
      "3    False\n",
      "4    False\n",
      "dtype: bool \n",
      "\n",
      "0    True\n",
      "1    True\n",
      "2    True\n",
      "3    True\n",
      "4    True\n",
      "dtype: bool \n",
      "\n",
      "0    False\n",
      "1    False\n",
      "2    False\n",
      "3    False\n",
      "4    False\n",
      "dtype: bool \n",
      "\n",
      "0    True\n",
      "1    True\n",
      "2    True\n",
      "3    True\n",
      "4    True\n",
      "dtype: bool \n",
      "\n",
      "0    True\n",
      "1    True\n",
      "2    True\n",
      "3    True\n",
      "4    True\n",
      "dtype: bool \n",
      "\n",
      "0    False\n",
      "1    False\n",
      "2    False\n",
      "3    False\n",
      "4    False\n",
      "dtype: bool \n",
      "\n",
      "0     6\n",
      "1     8\n",
      "2    10\n",
      "3    12\n",
      "4    14\n",
      "dtype: int64 \n",
      "\n"
     ]
    }
   ],
   "source": [
    "print(series.sum() == sum(series))\n",
    "\n",
    "print(series.product(),'\\n') # Произведение.\n",
    "print(series.mean(),'\\n') # Среднее значение.\n",
    "print(series.max(),'\\n') # Максимальное значение, со строками наибольшее по алфавиту.\n",
    "print(series.lt(2),'\\n') # Аналог \"<\", less then (меньше чем).\n",
    "print(series.gt(4),'\\n') # Аналог \">\", greater then (больше чем).\n",
    "print(series.eq(2),'\\n') # Аналог \"==\", equal (равно).\n",
    "print(series.ne(1),'\\n') # Аналог \"!=\", none equal (не равно).\n",
    "print(series.ge(1),'\\n') # Аналог \">=\", greater or equal (больше или равно).\n",
    "print(series.le(4),'\\n') # Аналог \"<=\", less or equal (меньше или равно).\n",
    "print(series.abs(),'\\n')"
   ]
  },
  {
   "cell_type": "markdown",
   "id": "675b825e",
   "metadata": {},
   "source": [
    "Чтобы понять, нужно ли при вызове метода использовать аргументы, нужно открыть документацию метода \n",
    "нажав: `shift` + `tab` после названия метода.\n",
    "\n",
    "Функции или методы имеющие необязательные аргументы в своих прототипах имеют аргументы со значениями по умолчанию.\n",
    "\n",
    "Методы не меняют начальные серии и датафреймы, они возвращают изменённые копии."
   ]
  }
 ],
 "metadata": {
  "kernelspec": {
   "display_name": "Python 3 (ipykernel)",
   "language": "python",
   "name": "python3"
  },
  "language_info": {
   "codemirror_mode": {
    "name": "ipython",
    "version": 3
   },
   "file_extension": ".py",
   "mimetype": "text/x-python",
   "name": "python",
   "nbconvert_exporter": "python",
   "pygments_lexer": "ipython3",
   "version": "3.10.9"
  }
 },
 "nbformat": 4,
 "nbformat_minor": 5
}
