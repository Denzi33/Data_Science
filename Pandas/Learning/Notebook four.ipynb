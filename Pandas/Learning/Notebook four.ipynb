{
 "cells": [
  {
   "cell_type": "markdown",
   "id": "3490f003",
   "metadata": {},
   "source": [
    "Метод `value_counts()` считает количество уникальных значений. Аргумент `normalize` - относительная частота встречаемости. Аргумент `bins` - интервал допустимых значений."
   ]
  },
  {
   "cell_type": "code",
   "execution_count": 8,
   "id": "e1437fa8",
   "metadata": {},
   "outputs": [
    {
     "name": "stdout",
     "output_type": "stream",
     "text": [
      " 4     3\n",
      "-5     2\n",
      " 7     2\n",
      " 9     2\n",
      " 8     2\n",
      "-9     1\n",
      " 1     1\n",
      "-2     1\n",
      "-4     1\n",
      "-3     1\n",
      " 10    1\n",
      " 5     1\n",
      "-6     1\n",
      " 2     1\n",
      "dtype: int64 \n",
      "\n",
      " 4     0.15\n",
      "-5     0.10\n",
      " 7     0.10\n",
      " 9     0.10\n",
      " 8     0.10\n",
      "-9     0.05\n",
      " 1     0.05\n",
      "-2     0.05\n",
      "-4     0.05\n",
      "-3     0.05\n",
      " 10    0.05\n",
      " 5     0.05\n",
      "-6     0.05\n",
      " 2     0.05\n",
      "dtype: float64 \n",
      "\n",
      "(-9.02, 10.0]    20\n",
      "dtype: int64\n"
     ]
    }
   ],
   "source": [
    "import pandas as pd\n",
    "import random as rd\n",
    "\n",
    "random_numbers = [rd.randint(-10, 10) for i in range(20)]\n",
    "series = pd.Series(random_numbers)\n",
    "\n",
    "print(series.value_counts(), '\\n')\n",
    "print(series.value_counts(normalize = True), '\\n')\n",
    "print(series.value_counts(bins = True))"
   ]
  },
  {
   "cell_type": "markdown",
   "id": "35261cd4",
   "metadata": {},
   "source": [
    "Метод `.sort_index()` сортирует серию по индексам. Особенно удобно при работе с серией, у которой индекс слова, строки."
   ]
  },
  {
   "cell_type": "code",
   "execution_count": 12,
   "id": "956ef18a",
   "metadata": {},
   "outputs": [
    {
     "name": "stdout",
     "output_type": "stream",
     "text": [
      "0      4\n",
      "1      4\n",
      "2     -5\n",
      "3      7\n",
      "4      9\n",
      "5     -9\n",
      "6      8\n",
      "7      1\n",
      "8     -2\n",
      "9     -5\n",
      "10    -4\n",
      "11     7\n",
      "12     9\n",
      "13    -3\n",
      "14    10\n",
      "15     5\n",
      "16    -6\n",
      "17     2\n",
      "18     4\n",
      "19     8\n",
      "dtype: int64\n"
     ]
    }
   ],
   "source": [
    "series.sort_index(inplace = True) # Сортировка по индексам (присваиваем результат серии).\n",
    "print(series)"
   ]
  },
  {
   "cell_type": "code",
   "execution_count": 15,
   "id": "180ebb78",
   "metadata": {},
   "outputs": [
    {
     "name": "stdout",
     "output_type": "stream",
     "text": [
      "0     16\n",
      "1     11\n",
      "2     -9\n",
      "3      1\n",
      "4     14\n",
      "5    -15\n",
      "6     14\n",
      "7     20\n",
      "8     16\n",
      "9      2\n",
      "10    12\n",
      "11    14\n",
      "12   -15\n",
      "13   -20\n",
      "14    -9\n",
      "15   -12\n",
      "16   -16\n",
      "17     0\n",
      "18     5\n",
      "19     2\n",
      "20    -1\n",
      "21     1\n",
      "22     1\n",
      "23   -17\n",
      "24    12\n",
      "25   -17\n",
      "26   -10\n",
      "27    14\n",
      "28   -17\n",
      "29     1\n",
      "30    -6\n",
      "31    13\n",
      "32     6\n",
      "33    -3\n",
      "34   -17\n",
      "35     4\n",
      "36     5\n",
      "37    -7\n",
      "38   -10\n",
      "39    10\n",
      "40    -6\n",
      "41    -2\n",
      "42     4\n",
      "43     1\n",
      "44   -14\n",
      "45    12\n",
      "46     0\n",
      "47    -3\n",
      "48    20\n",
      "49    -9\n",
      "dtype: int64\n"
     ]
    }
   ],
   "source": [
    "numbers = [rd.randint(-20, 20) for i in range(50)]\n",
    "int_series = pd.Series(numbers)\n",
    "print(int_series)"
   ]
  },
  {
   "cell_type": "markdown",
   "id": "45614cdd",
   "metadata": {},
   "source": [
    "Метод `.apply()` позволяет использовать самописную функцию к каждому элементу серии. В качестве аргумента выступает имя функции."
   ]
  },
  {
   "cell_type": "code",
   "execution_count": 17,
   "id": "257e614c",
   "metadata": {},
   "outputs": [
    {
     "name": "stdout",
     "output_type": "stream",
     "text": [
      "0     Positive\n",
      "1     Positive\n",
      "2      Negativ\n",
      "3     Positive\n",
      "4     Positive\n",
      "5      Negativ\n",
      "6     Positive\n",
      "7     Positive\n",
      "8     Positive\n",
      "9     Positive\n",
      "10    Positive\n",
      "11    Positive\n",
      "12     Negativ\n",
      "13     Negativ\n",
      "14     Negativ\n",
      "15     Negativ\n",
      "16     Negativ\n",
      "17        Zero\n",
      "18    Positive\n",
      "19    Positive\n",
      "20     Negativ\n",
      "21    Positive\n",
      "22    Positive\n",
      "23     Negativ\n",
      "24    Positive\n",
      "25     Negativ\n",
      "26     Negativ\n",
      "27    Positive\n",
      "28     Negativ\n",
      "29    Positive\n",
      "30     Negativ\n",
      "31    Positive\n",
      "32    Positive\n",
      "33     Negativ\n",
      "34     Negativ\n",
      "35    Positive\n",
      "36    Positive\n",
      "37     Negativ\n",
      "38     Negativ\n",
      "39    Positive\n",
      "40     Negativ\n",
      "41     Negativ\n",
      "42    Positive\n",
      "43    Positive\n",
      "44     Negativ\n",
      "45    Positive\n",
      "46        Zero\n",
      "47     Negativ\n",
      "48    Positive\n",
      "49     Negativ\n",
      "dtype: object\n"
     ]
    }
   ],
   "source": [
    "def sign(x):\n",
    "    if x > 0:\n",
    "        return \"Positive\"\n",
    "    \n",
    "    if not x:\n",
    "        return \"Zero\"\n",
    "\n",
    "    return \"Negativ\"\n",
    "\n",
    "print(int_series.apply(sign))"
   ]
  },
  {
   "cell_type": "markdown",
   "id": "3938120b",
   "metadata": {},
   "source": [
    "`.map()` метод заменяет начальные значения на описанные в функции, все остальные обозначаются как `NaN`."
   ]
  },
  {
   "cell_type": "code",
   "execution_count": 23,
   "id": "1b9a3bb3",
   "metadata": {},
   "outputs": [
    {
     "data": {
      "text/plain": [
       "0    kitten\n",
       "1     puppy\n",
       "2       NaN\n",
       "dtype: object"
      ]
     },
     "execution_count": 23,
     "metadata": {},
     "output_type": "execute_result"
    }
   ],
   "source": [
    "animals_series = pd.Series(['cat', 'dog', 'rabbit'])\n",
    "animals_series.map({'cat': 'kitten', 'dog': 'puppy'})"
   ]
  }
 ],
 "metadata": {
  "kernelspec": {
   "display_name": "Python 3 (ipykernel)",
   "language": "python",
   "name": "python3"
  },
  "language_info": {
   "codemirror_mode": {
    "name": "ipython",
    "version": 3
   },
   "file_extension": ".py",
   "mimetype": "text/x-python",
   "name": "python",
   "nbconvert_exporter": "python",
   "pygments_lexer": "ipython3",
   "version": "3.10.9"
  }
 },
 "nbformat": 4,
 "nbformat_minor": 5
}
