{
 "cells": [
  {
   "cell_type": "markdown",
   "id": "742fa5b5-5947-4e02-9c9f-3a5e21a0df3a",
   "metadata": {
    "jp-MarkdownHeadingCollapsed": true
   },
   "source": [
    "## TASKS:"
   ]
  },
  {
   "cell_type": "markdown",
   "id": "f270da8f-5bdb-4c99-91fa-012ef539e137",
   "metadata": {
    "jp-MarkdownHeadingCollapsed": true
   },
   "source": [
    "### MAIN TARGET:"
   ]
  },
  {
   "cell_type": "markdown",
   "id": "f04c4328-cee0-47bb-9dd8-b0bfab623022",
   "metadata": {},
   "source": [
    "По каталогу: с добавленными полями, парсингом названий, состава, категорий, и т. д. уметь определять:\n",
    "1. Это съедобно?\n",
    "2. Это съедобно в сыром виде? (Ингридиент, готовое, и то и другое);\n",
    "3. Какому продукту в каталоге нутриентов (например, по сайту frs24.ru) он соответствует?"
   ]
  },
  {
   "cell_type": "markdown",
   "id": "8474f50f-2d36-4445-8051-cd599135c747",
   "metadata": {
    "jp-MarkdownHeadingCollapsed": true
   },
   "source": [
    "### NAME TASK:"
   ]
  },
  {
   "cell_type": "markdown",
   "id": "1f74f350-704a-4235-bc6c-949cf741d5b7",
   "metadata": {},
   "source": [
    "Повторять:\n",
    "1. Посмотреть на список продуктов в \"почищенном\" варианте, найти проблемы;\n",
    "2. Выписать список проблем;\n",
    "3. Пофиксить."
   ]
  },
  {
   "cell_type": "markdown",
   "id": "1fb4a83b-d178-4db6-902f-71bdaeea8989",
   "metadata": {
    "jp-MarkdownHeadingCollapsed": true
   },
   "source": [
    "### ANALYSIS TASK:"
   ]
  },
  {
   "cell_type": "markdown",
   "id": "8ae0ba8b-b8db-481d-960b-e7ee736a014e",
   "metadata": {},
   "source": [
    "1. Распечатать пары категорий полученные здесь, и посмотреть как это выглядит - ✓\n",
    "* однозначного ответа нет, как предполагалось. Некоторые подкатегории могут находиться в разных категориях, не нарушая при этом логику (\"Леденцы\" - \"Витамины, БАДы\" (\"сладости\"?)). Сказать, продукт в какой из категорий одназначно - нельзя, это зависит от составителя данных. Существуют группы, которые хорошо позволяют отличать съедобное от несъедобного (\"Хлеб и выпечка\", \"Косметика\"). Существуют группы, которые быстро позволяют определить тип товара на сырое или готовое (\"Готовая еда\"), но для некоторых товаров стоит также рассматривать подгруппы для точного анализа (\"Замороженные овощи, грибы, ягоды и фрукты\", \"Овощи, фрукты, ягоды, зелень\" => неготовое), некоторые подгруппы и группы не дают полного понимания о товаре, например: мульти группы, в таких случаях стоит обращать к названию товара (\"Средства для стирки и мытья посуды\", \"Детское питание, гигиена и развитие\"). Для более точного прогнозирования стоит использовать сразу несколько признаков (базовую группу, дочерную, название товара и т. д.), плохо, когда данных мало, и приходится работать с ужимкой, но и брать неподходящие данные незачем, что касается групп, то с ними можно работать;\n",
    "2. Отобрать только те категории, которые есть у реальных продуктов из базы - ✓\n",
    "* из 1610 категорий, осталось 1003, также исчезли все базовые категории имеющие пару NaN, что также облегчит работу;\n",
    "3. Можно ли по этим данным разделить съедобные продукты от всех остальных - ✓\n",
    "* не для всех групп, но в большинстве можно (\"Готовые блюда\", \"Замороженные овощи\", ...);\n",
    "4. Какие ещё критерии можно использовать - ✓\n",
    "* shop_id, если магазин специализированный, nutrion_value, как для съедобных продуктов, item_composition для крайне трудных случаев;\n",
    "5. Какие дают самый полный результат - ✓\n",
    "* расположем по порядку по полезности: nutrition, categories_array, item_name, item_composition, shop_id;\n",
    "6. Найти библиотеку визуализации графов и представить связь категорий в подходящем для неё виде - ✓\n",
    "7. Взять несколько продуктов с большим списком категорий и расшифровать их в название и название их корневой категории - ✓"
   ]
  },
  {
   "cell_type": "markdown",
   "id": "cde1eb49-216a-41e7-9ebc-b9a6a3b7aa8a",
   "metadata": {},
   "source": [
    "## CODE:"
   ]
  },
  {
   "cell_type": "markdown",
   "id": "fba374a7",
   "metadata": {
    "jp-MarkdownHeadingCollapsed": true
   },
   "source": [
    "### IMPORT MODULES:"
   ]
  },
  {
   "cell_type": "code",
   "execution_count": 1,
   "id": "b22b950a",
   "metadata": {},
   "outputs": [],
   "source": [
    "import csv\n",
    "import collections\n",
    "\n",
    "import math as mh\n",
    "import numpy as np\n",
    "import pandas as pd\n",
    "import string as st\n",
    "import networkx as nx\n",
    "import matplotlib.pyplot as plt\n",
    "\n",
    "from time import time\n",
    "from itertools import chain\n",
    "from itertools import islice"
   ]
  },
  {
   "cell_type": "markdown",
   "id": "5ca9b7cb",
   "metadata": {
    "jp-MarkdownHeadingCollapsed": true
   },
   "source": [
    "### READ CSVS:"
   ]
  },
  {
   "cell_type": "code",
   "execution_count": 2,
   "id": "069170ca",
   "metadata": {},
   "outputs": [],
   "source": [
    "with open(\"../data/vkusvill_items.csv\", 'r', encoding='utf-8') as file:\n",
    "    reader = csv.DictReader(file)\n",
    "    catalog_df = pd.DataFrame(reader)\n",
    "\n",
    "catalog_df = catalog_df.rename(columns = {\"\": \"shop_id\", \"item_composition_txt\": \"item_composition\", \"nutrion_value_txt\" : \"nutrion_value\"})"
   ]
  },
  {
   "cell_type": "code",
   "execution_count": 3,
   "id": "9be6fe97",
   "metadata": {},
   "outputs": [],
   "source": [
    "categories_df = pd.read_csv(\"../data/vkusvill_categories.csv\")\n",
    "categories_df = categories_df.rename( columns = {\"Unnamed: 0\": \"shop_id\"})"
   ]
  },
  {
   "cell_type": "markdown",
   "id": "5ad7c0cd",
   "metadata": {},
   "source": [
    "### CHECK DATA FRAMES:"
   ]
  },
  {
   "cell_type": "code",
   "execution_count": 4,
   "id": "8a32c477",
   "metadata": {
    "scrolled": true
   },
   "outputs": [
    {
     "data": {
      "text/html": [
       "<div>\n",
       "<style scoped>\n",
       "    .dataframe tbody tr th:only-of-type {\n",
       "        vertical-align: middle;\n",
       "    }\n",
       "\n",
       "    .dataframe tbody tr th {\n",
       "        vertical-align: top;\n",
       "    }\n",
       "\n",
       "    .dataframe thead th {\n",
       "        text-align: right;\n",
       "    }\n",
       "</style>\n",
       "<table border=\"1\" class=\"dataframe\">\n",
       "  <thead>\n",
       "    <tr style=\"text-align: right;\">\n",
       "      <th></th>\n",
       "      <th>shop_id</th>\n",
       "      <th>item_id</th>\n",
       "      <th>vat</th>\n",
       "      <th>price</th>\n",
       "      <th>measure_unit</th>\n",
       "      <th>measure_value</th>\n",
       "      <th>measure_quantum</th>\n",
       "      <th>categories_array</th>\n",
       "      <th>item_name</th>\n",
       "      <th>item_composition</th>\n",
       "      <th>nutrion_value</th>\n",
       "      <th>protein_value</th>\n",
       "      <th>fat_value</th>\n",
       "      <th>carb_value</th>\n",
       "      <th>energy_value</th>\n",
       "    </tr>\n",
       "  </thead>\n",
       "  <tbody>\n",
       "    <tr>\n",
       "      <th>0</th>\n",
       "      <td>0</td>\n",
       "      <td>38960</td>\n",
       "      <td>20</td>\n",
       "      <td>14.0</td>\n",
       "      <td>GRM</td>\n",
       "      <td>10</td>\n",
       "      <td>1.0</td>\n",
       "      <td>[\"10035\", \"13892\", \"13832\", \"14158\", \"14128\", ...</td>\n",
       "      <td>Конфета жевательная с ароматом клубники</td>\n",
       "      <td>сахар, патока крахмальная карамельная фермента...</td>\n",
       "      <td>белки 0,7 г; жиры 2,5 г; углеводы 86,5 г; 371,...</td>\n",
       "      <td></td>\n",
       "      <td></td>\n",
       "      <td></td>\n",
       "      <td></td>\n",
       "    </tr>\n",
       "    <tr>\n",
       "      <th>1</th>\n",
       "      <td>1</td>\n",
       "      <td>38962</td>\n",
       "      <td>20</td>\n",
       "      <td>158.0</td>\n",
       "      <td>GRM</td>\n",
       "      <td>400</td>\n",
       "      <td>1.0</td>\n",
       "      <td>[\"10070\", \"10435\"]</td>\n",
       "      <td>Смесь овощная \\Три капусты\\(Продукт замороженный)</td>\n",
       "      <td>цветная капуста, капуста брокколи, капуста ром...</td>\n",
       "      <td>белки 1,7 г; жиры 0,1 г; углеводы 5,5 г; 29,7 ...</td>\n",
       "      <td></td>\n",
       "      <td></td>\n",
       "      <td></td>\n",
       "      <td></td>\n",
       "    </tr>\n",
       "    <tr>\n",
       "      <th>2</th>\n",
       "      <td>2</td>\n",
       "      <td>38973</td>\n",
       "      <td>20</td>\n",
       "      <td>192.0</td>\n",
       "      <td>GRM</td>\n",
       "      <td>20</td>\n",
       "      <td>1.0</td>\n",
       "      <td>[\"10228\", \"11857\"]</td>\n",
       "      <td>Чипсы из морской капусты с анчоусами, 20 г</td>\n",
       "      <td>анчоусы, морская капуста сушёная (ламинария по...</td>\n",
       "      <td>белки 53,5 г; жиры 3,9 г; углеводы 30,3 г; 370...</td>\n",
       "      <td></td>\n",
       "      <td></td>\n",
       "      <td></td>\n",
       "      <td></td>\n",
       "    </tr>\n",
       "    <tr>\n",
       "      <th>3</th>\n",
       "      <td>3</td>\n",
       "      <td>38977</td>\n",
       "      <td>20</td>\n",
       "      <td>138.0</td>\n",
       "      <td>GRM</td>\n",
       "      <td>200</td>\n",
       "      <td>1.0</td>\n",
       "      <td>[\"13872\", \"10099\", \"14130\", \"13988\", \"13940\"]</td>\n",
       "      <td>Салат свекольный с грецким орехом</td>\n",
       "      <td>свекла столовая отварная, майонез м. д. ж. 50 ...</td>\n",
       "      <td>белки 1,9 г, жиры 6 г, углеводы 9,6 г; 100 ккал</td>\n",
       "      <td></td>\n",
       "      <td></td>\n",
       "      <td></td>\n",
       "      <td></td>\n",
       "    </tr>\n",
       "    <tr>\n",
       "      <th>4</th>\n",
       "      <td>4</td>\n",
       "      <td>38983</td>\n",
       "      <td>10</td>\n",
       "      <td>299.0</td>\n",
       "      <td>GRM</td>\n",
       "      <td>150</td>\n",
       "      <td>1.0</td>\n",
       "      <td>[\"13058\", \"10442\"]</td>\n",
       "      <td>Кета малосоленая филе-ломтики, 150 г</td>\n",
       "      <td>филе кеты, соль пищевая.\\nПродукт может содерж...</td>\n",
       "      <td>СЕВЕРО-ВОСТОЧНАЯ КОМПАНИЯ ООО: белки 24,3 г, ж...</td>\n",
       "      <td></td>\n",
       "      <td></td>\n",
       "      <td></td>\n",
       "      <td>151.0</td>\n",
       "    </tr>\n",
       "    <tr>\n",
       "      <th>...</th>\n",
       "      <td>...</td>\n",
       "      <td>...</td>\n",
       "      <td>...</td>\n",
       "      <td>...</td>\n",
       "      <td>...</td>\n",
       "      <td>...</td>\n",
       "      <td>...</td>\n",
       "      <td>...</td>\n",
       "      <td>...</td>\n",
       "      <td>...</td>\n",
       "      <td>...</td>\n",
       "      <td>...</td>\n",
       "      <td>...</td>\n",
       "      <td>...</td>\n",
       "      <td>...</td>\n",
       "    </tr>\n",
       "    <tr>\n",
       "      <th>11413</th>\n",
       "      <td>558636</td>\n",
       "      <td>63880</td>\n",
       "      <td>20</td>\n",
       "      <td>147.0</td>\n",
       "      <td>MLT</td>\n",
       "      <td>330</td>\n",
       "      <td>1.0</td>\n",
       "      <td>[\"10535\"]</td>\n",
       "      <td>Вода кокосовая Foco с розовой гуавой без сахар...</td>\n",
       "      <td>натуральная кокосовая вода 94,90%, пюре розово...</td>\n",
       "      <td>Пищевая ценность (средние значения) 100 г прод...</td>\n",
       "      <td></td>\n",
       "      <td></td>\n",
       "      <td></td>\n",
       "      <td></td>\n",
       "    </tr>\n",
       "    <tr>\n",
       "      <th>11414</th>\n",
       "      <td>565835</td>\n",
       "      <td>71829</td>\n",
       "      <td>10</td>\n",
       "      <td>1479.0</td>\n",
       "      <td>GRM</td>\n",
       "      <td>3000</td>\n",
       "      <td>1.0</td>\n",
       "      <td>[\"14862\"]</td>\n",
       "      <td>Пельмени мини мясное ассорти, 3 кг(Продукт зам...</td>\n",
       "      <td>тесто (мука пшеничная хлебопекарная в/с, вода ...</td>\n",
       "      <td>белки 13,3 г, жиры 14,5 г, углеводы 22 г; 271,...</td>\n",
       "      <td></td>\n",
       "      <td></td>\n",
       "      <td></td>\n",
       "      <td></td>\n",
       "    </tr>\n",
       "    <tr>\n",
       "      <th>11415</th>\n",
       "      <td>576562</td>\n",
       "      <td>65057</td>\n",
       "      <td>20</td>\n",
       "      <td>440.0</td>\n",
       "      <td>GRM</td>\n",
       "      <td>340</td>\n",
       "      <td>1.0</td>\n",
       "      <td>[\"10682\", \"12574\", \"14152\"]</td>\n",
       "      <td>Деревенский завтрак</td>\n",
       "      <td>Картофель-мини с розмарином (картофель мини св...</td>\n",
       "      <td>белки 6,9 г; жиры 12 г; углеводы 7,8 г; 168 ккал</td>\n",
       "      <td></td>\n",
       "      <td>12.0</td>\n",
       "      <td></td>\n",
       "      <td>168.0</td>\n",
       "    </tr>\n",
       "    <tr>\n",
       "      <th>11416</th>\n",
       "      <td>582861</td>\n",
       "      <td>68269</td>\n",
       "      <td>20</td>\n",
       "      <td>390.0</td>\n",
       "      <td>GRM</td>\n",
       "      <td>1500</td>\n",
       "      <td>1.0</td>\n",
       "      <td>[\"10574\"]</td>\n",
       "      <td>Стиральный порошок ABC Свежесть гор для всех в...</td>\n",
       "      <td>Анионные активные вещества, кислородный отбели...</td>\n",
       "      <td></td>\n",
       "      <td></td>\n",
       "      <td></td>\n",
       "      <td></td>\n",
       "      <td></td>\n",
       "    </tr>\n",
       "    <tr>\n",
       "      <th>11417</th>\n",
       "      <td>583480</td>\n",
       "      <td>33433</td>\n",
       "      <td>20</td>\n",
       "      <td>92.0</td>\n",
       "      <td>GRM</td>\n",
       "      <td>300</td>\n",
       "      <td>1.0</td>\n",
       "      <td>[\"11135\", \"11324\"]</td>\n",
       "      <td>Кетчуп Махеевъ Томатный 300 г</td>\n",
       "      <td>Вода, томатная паста, сахар, загуститель Е1422...</td>\n",
       "      <td>Пищевая ценность (средние значения) 100 г прод...</td>\n",
       "      <td></td>\n",
       "      <td></td>\n",
       "      <td></td>\n",
       "      <td></td>\n",
       "    </tr>\n",
       "  </tbody>\n",
       "</table>\n",
       "<p>11418 rows × 15 columns</p>\n",
       "</div>"
      ],
      "text/plain": [
       "      shop_id item_id vat   price measure_unit measure_value measure_quantum  \\\n",
       "0           0   38960  20    14.0          GRM            10             1.0   \n",
       "1           1   38962  20   158.0          GRM           400             1.0   \n",
       "2           2   38973  20   192.0          GRM            20             1.0   \n",
       "3           3   38977  20   138.0          GRM           200             1.0   \n",
       "4           4   38983  10   299.0          GRM           150             1.0   \n",
       "...       ...     ...  ..     ...          ...           ...             ...   \n",
       "11413  558636   63880  20   147.0          MLT           330             1.0   \n",
       "11414  565835   71829  10  1479.0          GRM          3000             1.0   \n",
       "11415  576562   65057  20   440.0          GRM           340             1.0   \n",
       "11416  582861   68269  20   390.0          GRM          1500             1.0   \n",
       "11417  583480   33433  20    92.0          GRM           300             1.0   \n",
       "\n",
       "                                        categories_array  \\\n",
       "0      [\"10035\", \"13892\", \"13832\", \"14158\", \"14128\", ...   \n",
       "1                                     [\"10070\", \"10435\"]   \n",
       "2                                     [\"10228\", \"11857\"]   \n",
       "3          [\"13872\", \"10099\", \"14130\", \"13988\", \"13940\"]   \n",
       "4                                     [\"13058\", \"10442\"]   \n",
       "...                                                  ...   \n",
       "11413                                          [\"10535\"]   \n",
       "11414                                          [\"14862\"]   \n",
       "11415                        [\"10682\", \"12574\", \"14152\"]   \n",
       "11416                                          [\"10574\"]   \n",
       "11417                                 [\"11135\", \"11324\"]   \n",
       "\n",
       "                                               item_name  \\\n",
       "0                Конфета жевательная с ароматом клубники   \n",
       "1      Смесь овощная \\Три капусты\\(Продукт замороженный)   \n",
       "2             Чипсы из морской капусты с анчоусами, 20 г   \n",
       "3                      Салат свекольный с грецким орехом   \n",
       "4                   Кета малосоленая филе-ломтики, 150 г   \n",
       "...                                                  ...   \n",
       "11413  Вода кокосовая Foco с розовой гуавой без сахар...   \n",
       "11414  Пельмени мини мясное ассорти, 3 кг(Продукт зам...   \n",
       "11415                                Деревенский завтрак   \n",
       "11416  Стиральный порошок ABC Свежесть гор для всех в...   \n",
       "11417                      Кетчуп Махеевъ Томатный 300 г   \n",
       "\n",
       "                                        item_composition  \\\n",
       "0      сахар, патока крахмальная карамельная фермента...   \n",
       "1      цветная капуста, капуста брокколи, капуста ром...   \n",
       "2      анчоусы, морская капуста сушёная (ламинария по...   \n",
       "3      свекла столовая отварная, майонез м. д. ж. 50 ...   \n",
       "4      филе кеты, соль пищевая.\\nПродукт может содерж...   \n",
       "...                                                  ...   \n",
       "11413  натуральная кокосовая вода 94,90%, пюре розово...   \n",
       "11414  тесто (мука пшеничная хлебопекарная в/с, вода ...   \n",
       "11415  Картофель-мини с розмарином (картофель мини св...   \n",
       "11416  Анионные активные вещества, кислородный отбели...   \n",
       "11417  Вода, томатная паста, сахар, загуститель Е1422...   \n",
       "\n",
       "                                           nutrion_value protein_value  \\\n",
       "0      белки 0,7 г; жиры 2,5 г; углеводы 86,5 г; 371,...                 \n",
       "1      белки 1,7 г; жиры 0,1 г; углеводы 5,5 г; 29,7 ...                 \n",
       "2      белки 53,5 г; жиры 3,9 г; углеводы 30,3 г; 370...                 \n",
       "3        белки 1,9 г, жиры 6 г, углеводы 9,6 г; 100 ккал                 \n",
       "4      СЕВЕРО-ВОСТОЧНАЯ КОМПАНИЯ ООО: белки 24,3 г, ж...                 \n",
       "...                                                  ...           ...   \n",
       "11413  Пищевая ценность (средние значения) 100 г прод...                 \n",
       "11414  белки 13,3 г, жиры 14,5 г, углеводы 22 г; 271,...                 \n",
       "11415   белки 6,9 г; жиры 12 г; углеводы 7,8 г; 168 ккал                 \n",
       "11416                                                                    \n",
       "11417  Пищевая ценность (средние значения) 100 г прод...                 \n",
       "\n",
       "      fat_value carb_value energy_value  \n",
       "0                                        \n",
       "1                                        \n",
       "2                                        \n",
       "3                                        \n",
       "4                                 151.0  \n",
       "...         ...        ...          ...  \n",
       "11413                                    \n",
       "11414                                    \n",
       "11415      12.0                   168.0  \n",
       "11416                                    \n",
       "11417                                    \n",
       "\n",
       "[11418 rows x 15 columns]"
      ]
     },
     "execution_count": 4,
     "metadata": {},
     "output_type": "execute_result"
    }
   ],
   "source": [
    "catalog_df"
   ]
  },
  {
   "cell_type": "markdown",
   "id": "2b30f1d4",
   "metadata": {},
   "source": [
    "shop_id - id магазина;\n",
    "\n",
    "item_id - id товара;\n",
    "\n",
    "vat - НДС;\n",
    "\n",
    "price - цена;\n",
    "\n",
    "measure_unit - мера измерения;\n",
    "\n",
    "measure_value - количество мер измерений;\n",
    "\n",
    "measure_quantum - шаг измерения (бананы — 70г, сметана - 1 шт);\n",
    "\n",
    "categories_array - категории;\t\n",
    "\n",
    "item_name - название товара;\n",
    "\n",
    "item_composition - состав;\n",
    "\n",
    "nutrion_value - БЖУК;\n",
    "\n",
    "protein_value - белки;\n",
    "\n",
    "fat_value - жиры;\n",
    "\n",
    "carb_value - углеводы;\n",
    "\n",
    "energy_value - энергетическая ценность;\n",
    "\n",
    "vendor_code - код продавца;\n",
    "\n",
    "modified_at - дата изменения."
   ]
  },
  {
   "cell_type": "code",
   "execution_count": 5,
   "id": "b404dcb0",
   "metadata": {},
   "outputs": [
    {
     "data": {
      "text/html": [
       "<div>\n",
       "<style scoped>\n",
       "    .dataframe tbody tr th:only-of-type {\n",
       "        vertical-align: middle;\n",
       "    }\n",
       "\n",
       "    .dataframe tbody tr th {\n",
       "        vertical-align: top;\n",
       "    }\n",
       "\n",
       "    .dataframe thead th {\n",
       "        text-align: right;\n",
       "    }\n",
       "</style>\n",
       "<table border=\"1\" class=\"dataframe\">\n",
       "  <thead>\n",
       "    <tr style=\"text-align: right;\">\n",
       "      <th></th>\n",
       "      <th>shop_id</th>\n",
       "      <th>categorie_id</th>\n",
       "      <th>categorie_parent_id</th>\n",
       "      <th>categorie_name</th>\n",
       "    </tr>\n",
       "  </thead>\n",
       "  <tbody>\n",
       "    <tr>\n",
       "      <th>0</th>\n",
       "      <td>0</td>\n",
       "      <td>14</td>\n",
       "      <td>NaN</td>\n",
       "      <td>Аптека</td>\n",
       "    </tr>\n",
       "    <tr>\n",
       "      <th>1</th>\n",
       "      <td>1</td>\n",
       "      <td>54191</td>\n",
       "      <td>14.0</td>\n",
       "      <td>Аптечные товары со скидкой</td>\n",
       "    </tr>\n",
       "    <tr>\n",
       "      <th>2</th>\n",
       "      <td>2</td>\n",
       "      <td>50081</td>\n",
       "      <td>14.0</td>\n",
       "      <td>Бытовая химия</td>\n",
       "    </tr>\n",
       "    <tr>\n",
       "      <th>3</th>\n",
       "      <td>3</td>\n",
       "      <td>50082</td>\n",
       "      <td>50081.0</td>\n",
       "      <td>Гели и капсулы для стирки</td>\n",
       "    </tr>\n",
       "    <tr>\n",
       "      <th>4</th>\n",
       "      <td>4</td>\n",
       "      <td>50083</td>\n",
       "      <td>50081.0</td>\n",
       "      <td>Кондиционеры</td>\n",
       "    </tr>\n",
       "    <tr>\n",
       "      <th>...</th>\n",
       "      <td>...</td>\n",
       "      <td>...</td>\n",
       "      <td>...</td>\n",
       "      <td>...</td>\n",
       "    </tr>\n",
       "    <tr>\n",
       "      <th>1605</th>\n",
       "      <td>1612</td>\n",
       "      <td>51191</td>\n",
       "      <td>51179.0</td>\n",
       "      <td>Роллы</td>\n",
       "    </tr>\n",
       "    <tr>\n",
       "      <th>1606</th>\n",
       "      <td>1613</td>\n",
       "      <td>51187</td>\n",
       "      <td>51179.0</td>\n",
       "      <td>Салаты</td>\n",
       "    </tr>\n",
       "    <tr>\n",
       "      <th>1607</th>\n",
       "      <td>1614</td>\n",
       "      <td>51188</td>\n",
       "      <td>51179.0</td>\n",
       "      <td>Соки, смузи</td>\n",
       "    </tr>\n",
       "    <tr>\n",
       "      <th>1608</th>\n",
       "      <td>1615</td>\n",
       "      <td>51189</td>\n",
       "      <td>51179.0</td>\n",
       "      <td>Супы</td>\n",
       "    </tr>\n",
       "    <tr>\n",
       "      <th>1609</th>\n",
       "      <td>1616</td>\n",
       "      <td>51190</td>\n",
       "      <td>51179.0</td>\n",
       "      <td>Хот-доги, шаурма</td>\n",
       "    </tr>\n",
       "  </tbody>\n",
       "</table>\n",
       "<p>1610 rows × 4 columns</p>\n",
       "</div>"
      ],
      "text/plain": [
       "      shop_id  categorie_id  categorie_parent_id              categorie_name\n",
       "0           0            14                  NaN                      Аптека\n",
       "1           1         54191                 14.0  Аптечные товары со скидкой\n",
       "2           2         50081                 14.0               Бытовая химия\n",
       "3           3         50082              50081.0   Гели и капсулы для стирки\n",
       "4           4         50083              50081.0                Кондиционеры\n",
       "...       ...           ...                  ...                         ...\n",
       "1605     1612         51191              51179.0                       Роллы\n",
       "1606     1613         51187              51179.0                      Салаты\n",
       "1607     1614         51188              51179.0                 Соки, смузи\n",
       "1608     1615         51189              51179.0                        Супы\n",
       "1609     1616         51190              51179.0            Хот-доги, шаурма\n",
       "\n",
       "[1610 rows x 4 columns]"
      ]
     },
     "execution_count": 5,
     "metadata": {},
     "output_type": "execute_result"
    }
   ],
   "source": [
    "categories_df"
   ]
  },
  {
   "cell_type": "code",
   "execution_count": 6,
   "id": "157fb8e1",
   "metadata": {},
   "outputs": [
    {
     "name": "stdout",
     "output_type": "stream",
     "text": [
      "<class 'pandas.core.frame.DataFrame'>\n",
      "RangeIndex: 11418 entries, 0 to 11417\n",
      "Data columns (total 15 columns):\n",
      " #   Column            Non-Null Count  Dtype \n",
      "---  ------            --------------  ----- \n",
      " 0   shop_id           11418 non-null  object\n",
      " 1   item_id           11418 non-null  object\n",
      " 2   vat               11418 non-null  object\n",
      " 3   price             11418 non-null  object\n",
      " 4   measure_unit      11418 non-null  object\n",
      " 5   measure_value     11418 non-null  object\n",
      " 6   measure_quantum   11418 non-null  object\n",
      " 7   categories_array  11418 non-null  object\n",
      " 8   item_name         11418 non-null  object\n",
      " 9   item_composition  11418 non-null  object\n",
      " 10  nutrion_value     11418 non-null  object\n",
      " 11  protein_value     11418 non-null  object\n",
      " 12  fat_value         11418 non-null  object\n",
      " 13  carb_value        11418 non-null  object\n",
      " 14  energy_value      11418 non-null  object\n",
      "dtypes: object(15)\n",
      "memory usage: 1.3+ MB\n"
     ]
    }
   ],
   "source": [
    "catalog_df.info()"
   ]
  },
  {
   "cell_type": "code",
   "execution_count": 7,
   "id": "ebc14d3a",
   "metadata": {},
   "outputs": [
    {
     "name": "stdout",
     "output_type": "stream",
     "text": [
      "<class 'pandas.core.frame.DataFrame'>\n",
      "RangeIndex: 1610 entries, 0 to 1609\n",
      "Data columns (total 4 columns):\n",
      " #   Column               Non-Null Count  Dtype  \n",
      "---  ------               --------------  -----  \n",
      " 0   shop_id              1610 non-null   int64  \n",
      " 1   categorie_id         1610 non-null   int64  \n",
      " 2   categorie_parent_id  1548 non-null   float64\n",
      " 3   categorie_name       1610 non-null   object \n",
      "dtypes: float64(1), int64(2), object(1)\n",
      "memory usage: 50.4+ KB\n"
     ]
    }
   ],
   "source": [
    "categories_df.info()"
   ]
  },
  {
   "cell_type": "markdown",
   "id": "0191f090-0367-4e78-8c6d-90ba93105913",
   "metadata": {
    "jp-MarkdownHeadingCollapsed": true
   },
   "source": [
    "### FIND BASE CATEGORIES:"
   ]
  },
  {
   "cell_type": "code",
   "execution_count": 8,
   "id": "3fe9edd4-097c-4f9d-aec4-755d850d646f",
   "metadata": {},
   "outputs": [],
   "source": [
    "def find_base_categories(categories_df):\n",
    "    base_categories = []\n",
    "    \n",
    "    for i in range(len(categories_df.index)):\n",
    "        if pd.isna(categories_df.iloc[i][\"categorie_parent_id\"]):\n",
    "            base_categories.append(categories_df.iloc[i][\"categorie_id\"])\n",
    "\n",
    "    base_categories = sorted(base_categories)\n",
    "    return base_categories\n",
    "\n",
    "base_categories = find_base_categories(categories_df)"
   ]
  },
  {
   "cell_type": "code",
   "execution_count": 9,
   "id": "1aaef011-711e-4700-875d-ffaa912a0e97",
   "metadata": {},
   "outputs": [
    {
     "data": {
      "text/plain": [
       "[10, 14, 3033, 10000, 10007, 10022, 10027, 10036, 10039, 10046]"
      ]
     },
     "execution_count": 9,
     "metadata": {},
     "output_type": "execute_result"
    }
   ],
   "source": [
    "base_categories[:10]"
   ]
  },
  {
   "cell_type": "markdown",
   "id": "8f860c49-52b3-4deb-94be-8f98d9f63dc7",
   "metadata": {
    "jp-MarkdownHeadingCollapsed": true
   },
   "source": [
    "### FIND USED CATEGORIES:"
   ]
  },
  {
   "cell_type": "code",
   "execution_count": 10,
   "id": "39c4ab64-514c-45b9-9a84-a137b9e5e586",
   "metadata": {},
   "outputs": [],
   "source": [
    "def clear_categorie_string(catergorie_string):\n",
    "    answer = \"\"\n",
    "    \n",
    "    for i in catergorie_string:\n",
    "        if i in ['[', ']', ' ', '\"']:\n",
    "            continue\n",
    "        elif i == ',':\n",
    "            answer += ' '\n",
    "        else:\n",
    "            answer += i\n",
    "\n",
    "    return answer"
   ]
  },
  {
   "cell_type": "code",
   "execution_count": 11,
   "id": "72f99f1f-5088-4598-84fe-48a88b0293e1",
   "metadata": {},
   "outputs": [],
   "source": [
    "def find_used_categories(catalog_df):\n",
    "    used_categories = []\n",
    "    \n",
    "    for i in catalog_df[\"categories_array\"]:\n",
    "        used_categories.extend(clear_categorie_string(i).split())\n",
    "\n",
    "    s_used_categories = set(used_categories)\n",
    "    return [int(x) for x in s_used_categories]\n",
    "\n",
    "used_categories = sorted(find_used_categories(catalog_df))"
   ]
  },
  {
   "cell_type": "code",
   "execution_count": 12,
   "id": "ba5478b1-3e84-4a17-9422-c5b27662f747",
   "metadata": {},
   "outputs": [
    {
     "data": {
      "text/plain": [
       "[8, 12, 2929, 2930, 2931, 2937, 2940, 2941, 2942, 2943]"
      ]
     },
     "execution_count": 12,
     "metadata": {},
     "output_type": "execute_result"
    }
   ],
   "source": [
    "used_categories[:10]"
   ]
  },
  {
   "cell_type": "markdown",
   "id": "79eefa85-67ae-4935-9902-3dc4ceb3e90b",
   "metadata": {
    "jp-MarkdownHeadingCollapsed": true
   },
   "source": [
    "### ADD NAMES TO BASE CATEGORIES:"
   ]
  },
  {
   "cell_type": "code",
   "execution_count": 13,
   "id": "fa7cf823-1ecc-4646-8854-8f7b98bd66db",
   "metadata": {},
   "outputs": [],
   "source": [
    "def find_categorie_name(categories_df, categorie_id):\n",
    "    for i in range(len(categories_df.index)):\n",
    "        if categories_df.iloc[i][\"categorie_id\"] == categorie_id:\n",
    "            return categories_df.iloc[i][\"categorie_name\"]"
   ]
  },
  {
   "cell_type": "code",
   "execution_count": 14,
   "id": "f3db8670-ca63-4f66-95ea-76700f843278",
   "metadata": {},
   "outputs": [],
   "source": [
    "def find_full_base_categories(categories_df, base_categories):\n",
    "    full_base_categories = {}\n",
    "    \n",
    "    for i in base_categories:\n",
    "        full_base_categories[i] = find_categorie_name(categories_df, i)\n",
    "\n",
    "    return full_base_categories\n",
    "\n",
    "full_base_categories = find_full_base_categories(categories_df, base_categories)"
   ]
  },
  {
   "cell_type": "code",
   "execution_count": 15,
   "id": "d9208696-0b6a-4e39-8b06-570a875042bd",
   "metadata": {},
   "outputs": [
    {
     "data": {
      "text/plain": [
       "OrderedDict([(10, 'Новинки'),\n",
       "             (14, 'Аптека'),\n",
       "             (3033, 'Добрые товары'),\n",
       "             (10000, 'Молочные продукты, яйцо'),\n",
       "             (10007, 'Сладости и десерты'),\n",
       "             (10022, 'Детское питание, гигиена и развитие'),\n",
       "             (10027, 'Напитки'),\n",
       "             (10036, 'Хлеб и выпечка'),\n",
       "             (10039, 'Мясо, птица, шашлык'),\n",
       "             (10046, 'Колбасы и мясные деликатесы')])"
      ]
     },
     "execution_count": 15,
     "metadata": {},
     "output_type": "execute_result"
    }
   ],
   "source": [
    "collections.OrderedDict(sorted(islice(full_base_categories.items(), 10)))"
   ]
  },
  {
   "cell_type": "markdown",
   "id": "25cf4927-c89f-4829-850e-50e005bfc512",
   "metadata": {
    "jp-MarkdownHeadingCollapsed": true
   },
   "source": [
    "### FIND CATEGORIES PAIRS:"
   ]
  },
  {
   "cell_type": "code",
   "execution_count": 16,
   "id": "292f7cda-1cb1-4783-aeec-b3a667433c1d",
   "metadata": {},
   "outputs": [],
   "source": [
    "def find_categorie_pairs(categories_df):\n",
    "    categorie_pairs = {}\n",
    "    \n",
    "    for i in range(len(categories_df.index)):\n",
    "        if categories_df.iloc[i][1] not in categorie_pairs and categories_df.iloc[i][1] in used_categories:\n",
    "            categorie_pairs[categories_df.iloc[i][1]] = categories_df.iloc[i][2]\n",
    "\n",
    "    return categorie_pairs\n",
    "\n",
    "categorie_pairs = find_categorie_pairs(categories_df)"
   ]
  },
  {
   "cell_type": "code",
   "execution_count": 17,
   "id": "f747db4f-b308-4df2-a2be-1aabb6ab41c6",
   "metadata": {},
   "outputs": [
    {
     "data": {
      "text/plain": [
       "OrderedDict([(8, 6.0),\n",
       "             (12, 6.0),\n",
       "             (2943, 6.0),\n",
       "             (2949, 6.0),\n",
       "             (2957, 6.0),\n",
       "             (2960, 6.0),\n",
       "             (3029, 6.0),\n",
       "             (50197, 6.0),\n",
       "             (50203, 6.0),\n",
       "             (54191, 14.0)])"
      ]
     },
     "execution_count": 17,
     "metadata": {},
     "output_type": "execute_result"
    }
   ],
   "source": [
    "collections.OrderedDict(sorted(islice(categorie_pairs.items(), 10)))"
   ]
  },
  {
   "cell_type": "code",
   "execution_count": 18,
   "id": "6bd3e1b6-c7c0-410c-a817-f5cf50e1598c",
   "metadata": {},
   "outputs": [],
   "source": [
    "def find_final_categorie_pair(categories_df, categorie):\n",
    "    for i in range(len(categories_df.index)):\n",
    "        if categorie == categories_df.iloc[i][1]:\n",
    "            answer = categorie_pairs[categorie]\n",
    "            \n",
    "            while answer in categorie_pairs:\n",
    "                answer = categorie_pairs[answer]\n",
    "                \n",
    "            return answer"
   ]
  },
  {
   "cell_type": "code",
   "execution_count": 19,
   "id": "2547a0bd-884a-4d39-b365-337d2c8fcc9c",
   "metadata": {},
   "outputs": [],
   "source": [
    "def find_final_categorie_pairs(categories_df):\n",
    "    final_categorie_pairs = {}\n",
    "    \n",
    "    for i in range(len(categories_df.index)):\n",
    "        if categories_df.iloc[i][1] not in final_categorie_pairs and categories_df.iloc[i][1] in used_categories:\n",
    "            final_categorie_pairs[categories_df.iloc[i][1]] = find_final_categorie_pair(categories_df, categories_df.iloc[i][1])\n",
    "\n",
    "    return final_categorie_pairs\n",
    "\n",
    "final_categorie_pairs = find_final_categorie_pairs(categories_df)"
   ]
  },
  {
   "cell_type": "code",
   "execution_count": 20,
   "id": "4f5d29d1-fabe-49e9-b961-d916040f6b55",
   "metadata": {},
   "outputs": [
    {
     "data": {
      "text/plain": [
       "OrderedDict([(8, 6.0),\n",
       "             (12, 6.0),\n",
       "             (2943, 6.0),\n",
       "             (2949, 6.0),\n",
       "             (2957, 6.0),\n",
       "             (2960, 6.0),\n",
       "             (3029, 6.0),\n",
       "             (50197, 6.0),\n",
       "             (50203, 6.0),\n",
       "             (54191, 14.0)])"
      ]
     },
     "execution_count": 20,
     "metadata": {},
     "output_type": "execute_result"
    }
   ],
   "source": [
    "collections.OrderedDict(sorted(islice(final_categorie_pairs.items(), 10)))"
   ]
  },
  {
   "cell_type": "markdown",
   "id": "deba5980-e222-400a-a3a3-d52f7c12e2c4",
   "metadata": {
    "jp-MarkdownHeadingCollapsed": true
   },
   "source": [
    "### ADD NAMES TO CATEGORIES:"
   ]
  },
  {
   "cell_type": "code",
   "execution_count": 21,
   "id": "cc58a4e6-4dca-4ec0-ac67-afe17a91b0a1",
   "metadata": {},
   "outputs": [],
   "source": [
    "def find_full_final_categorie_pairs(categories_df, final_categorie_pairs):\n",
    "    full_final_categorie_pairs = {}\n",
    "    \n",
    "    for key in final_categorie_pairs:\n",
    "        categories_with_names = []\n",
    "        categories_with_names.append(str(final_categorie_pairs[key]))\n",
    "        categories_with_names.append(find_categorie_name(categories_df, key))\n",
    "        categories_with_names.append(find_categorie_name(categories_df, final_categorie_pairs[key]))\n",
    "        full_final_categorie_pairs[key] = categories_with_names\n",
    "\n",
    "    return full_final_categorie_pairs\n",
    "    \n",
    "full_final_categorie_pairs = find_full_final_categorie_pairs(categories_df, final_categorie_pairs)"
   ]
  },
  {
   "cell_type": "code",
   "execution_count": 22,
   "id": "42abcf39-3bd1-4311-b29b-446c984b48ae",
   "metadata": {},
   "outputs": [
    {
     "data": {
      "text/plain": [
       "OrderedDict([(8, ['6.0', 'Витаминно-минеральные комплексы', 'Витамины, БАДы']),\n",
       "             (12, ['6.0', 'Витамин D', 'Витамины, БАДы']),\n",
       "             (2943, ['6.0', 'Витамин C', 'Витамины, БАДы']),\n",
       "             (2949, ['6.0', 'Витамин E', 'Витамины, БАДы']),\n",
       "             (2957, ['6.0', 'Витамин B', 'Витамины, БАДы']),\n",
       "             (2960, ['6.0', 'Гематоген, батончики', 'Витамины, БАДы']),\n",
       "             (3029, ['6.0', 'Витамин A', 'Витамины, БАДы']),\n",
       "             (50197, ['6.0', 'Дерматология', 'Витамины, БАДы']),\n",
       "             (50203, ['6.0', 'Гепатопротекторы', 'Витамины, БАДы']),\n",
       "             (54191, ['14.0', 'Аптечные товары со скидкой', 'Аптека'])])"
      ]
     },
     "execution_count": 22,
     "metadata": {},
     "output_type": "execute_result"
    }
   ],
   "source": [
    "collections.OrderedDict(sorted(islice(full_final_categorie_pairs.items(), 10)))"
   ]
  },
  {
   "cell_type": "markdown",
   "id": "ecadd78a-4703-49c6-a659-64bb4f83958d",
   "metadata": {
    "jp-MarkdownHeadingCollapsed": true
   },
   "source": [
    "### VISUALISATION PAIRS:"
   ]
  },
  {
   "cell_type": "code",
   "execution_count": 23,
   "id": "0c9296ff-9af7-49ca-bfd8-863eb055c0ef",
   "metadata": {},
   "outputs": [],
   "source": [
    "def from_dict_to_edges(full_final_categorie_pairs):\n",
    "    edges = []\n",
    "    \n",
    "    for i in full_final_categorie_pairs:\n",
    "        chain = {int(float(i)), int(float(full_final_categorie_pairs[i][0]))}\n",
    "        edges.append(chain)\n",
    "        \n",
    "    return edges\n",
    "\n",
    "edges = from_dict_to_edges(full_final_categorie_pairs)"
   ]
  },
  {
   "cell_type": "code",
   "execution_count": 24,
   "id": "4b186e13-1701-4403-abbf-3ef395d1a5d5",
   "metadata": {},
   "outputs": [],
   "source": [
    "graph_options = {\n",
    "    'node_size': 1,\n",
    "    'width': 0.5,\n",
    "}\n",
    "\n",
    "edges = from_dict_to_edges(full_final_categorie_pairs)\n",
    "G = nx.Graph()\n",
    "G.add_edges_from(edges[:10])"
   ]
  },
  {
   "cell_type": "code",
   "execution_count": 25,
   "id": "5e3395eb-0df7-47b5-b614-f8b595679418",
   "metadata": {},
   "outputs": [
    {
     "data": {
      "image/png": "[encoded data removed]",
      "text/plain": [
       "<Figure size 640x480 with 1 Axes>"
      ]
     },
     "metadata": {},
     "output_type": "display_data"
    }
   ],
   "source": [
    "nx.draw(G, with_labels=True, font_weight='150', **graph_options)"
   ]
  },
  {
   "cell_type": "markdown",
   "id": "fdb762c6-6ea4-4a8e-8e3b-911c3be8b5c7",
   "metadata": {
    "jp-MarkdownHeadingCollapsed": true
   },
   "source": [
    "### PRODUCT THREE:"
   ]
  },
  {
   "cell_type": "code",
   "execution_count": 26,
   "id": "032e1c4e-6813-485d-973c-c2011eadf2c6",
   "metadata": {},
   "outputs": [],
   "source": [
    "def find_three_if_product(full_final_categorie_pairs, categorie):\n",
    "    index = 1\n",
    "    \n",
    "    while categorie in full_final_categorie_pairs:\n",
    "        print(f\"{index}) {categorie} - {full_final_categorie_pairs[categorie][1]}\")\n",
    "        categorie = full_final_categorie_pairs[categorie][0]\n",
    "        index += 1\n",
    "    else:\n",
    "        base_categorie = int(float(categorie))\n",
    "    \n",
    "        if base_categorie in full_base_categories:\n",
    "            print(f\"{index}) {base_categorie} - {full_base_categories[base_categorie]}\")"
   ]
  },
  {
   "cell_type": "code",
   "execution_count": 27,
   "id": "39388212-2ff9-4604-a1c2-f882060d32df",
   "metadata": {},
   "outputs": [
    {
     "name": "stdout",
     "output_type": "stream",
     "text": [
      "1) 54191 - Аптечные товары со скидкой\n",
      "2) 14 - Аптека\n"
     ]
    }
   ],
   "source": [
    "find_three_if_product(full_final_categorie_pairs, 54191)"
   ]
  },
  {
   "cell_type": "markdown",
   "id": "8f516651",
   "metadata": {
    "jp-MarkdownHeadingCollapsed": true
   },
   "source": [
    "### PARS ITEM NAMES:"
   ]
  },
  {
   "cell_type": "code",
   "execution_count": 28,
   "id": "4314cddb-5a4e-4f76-aff9-fe9ab02ce223",
   "metadata": {},
   "outputs": [],
   "source": [
    "def clear_item_name(item_name):\n",
    "    answer_temporary = \"\"\n",
    "    answer_final = \"\"\n",
    "    \n",
    "    for i in range(len(item_name) - 2):\n",
    "        if item_name[i] == \" \" and item_name[i + 1] == \"ш\" and item_name[i + 2] == \"т\":\n",
    "            answer_temporary = item_name[: i] + item_name[i + 3: ]\n",
    "        elif item_name[i] == \" \" and item_name[i + 1] == \"м\" and item_name[i + 2] == \"г\":\n",
    "            answer_temporary = item_name[: i] + item_name[i + 3: ]\n",
    "        elif item_name[i] == \" \" and item_name[i + 1] == \"м\" and item_name[i + 2] == \"л\":\n",
    "            answer_temporary = item_name[: i] + item_name[i + 3: ]\n",
    "        \n",
    "    if answer_temporary == \"\":\n",
    "        answer_temporary = item_name\n",
    "\n",
    "    for i in range(len(answer_temporary) - 1):\n",
    "        if answer_temporary[i] == \" \" and answer_temporary[i + 1] == \"г\":\n",
    "            answer_final = answer_temporary[: i] + answer_temporary[i + 2: ]\n",
    "        elif answer_temporary[i] == \" \" and answer_temporary[i + 1] == \"л\":\n",
    "            answer_final = answer_temporary[: i] + answer_temporary[i + 2: ]\n",
    "\n",
    "    if answer_final == \"\":\n",
    "        answer_final = answer_temporary\n",
    "    \n",
    "    return answer_final"
   ]
  },
  {
   "cell_type": "code",
   "execution_count": 29,
   "id": "49b6f2a1",
   "metadata": {},
   "outputs": [],
   "source": [
    "def tokenize_item_name(item_name):\n",
    "    answer = \"\"\n",
    "    \n",
    "    for symbol in item_name:\n",
    "        if symbol == '_':\n",
    "            answer += ' '\n",
    "            continue  \n",
    "        elif symbol in [\n",
    "            '\\\\', \n",
    "            '(', \n",
    "            ')', \n",
    "            '.', \n",
    "            ',',\n",
    "            '%'\n",
    "        ] or symbol.isdigit():\n",
    "            answer += ' '\n",
    "            continue\n",
    "        else:\n",
    "            answer += symbol\n",
    "\n",
    "    answer = clear_item_name(answer)\n",
    "\n",
    "    while \"  \" in answer:\n",
    "        answer = answer.replace(\"  \", \" \")\n",
    "        \n",
    "    return answer"
   ]
  },
  {
   "cell_type": "code",
   "execution_count": 30,
   "id": "8e2e8d8e-5d12-4a41-ae03-8bf8c8fb8434",
   "metadata": {},
   "outputs": [],
   "source": [
    "def find_number_in_string(string):\n",
    "    answer = \"\"\n",
    "    index = 0\n",
    "    key = False\n",
    "    \n",
    "    for i in string:    \n",
    "        if i >= '0' and i <= '9':\n",
    "            key = True\n",
    "            answer += i\n",
    "        elif key:\n",
    "            break\n",
    "\n",
    "    return (\"0\" if answer == \"\" else answer.lower())"
   ]
  },
  {
   "cell_type": "code",
   "execution_count": 31,
   "id": "1fb7bcdb",
   "metadata": {},
   "outputs": [],
   "source": [
    "# Кривенько кидает числа\n",
    "# Создать функции прогонки и чека конкретных слов с пробелами по типу шт г мл л\n",
    "\n",
    "def find_tokens(catalog_df):\n",
    "    names, weight, count, percents = pd.Series(), pd.Series(), pd.Series(), pd.Series()\n",
    "    \n",
    "    for i in range(len(catalog_df.index)):\n",
    "        if '%' in catalog_df[\"item_name\"][i]:\n",
    "            percents = pd.concat([percents, pd.Series(find_number_in_string(catalog_df[\"item_name\"][i]))], ignore_index=True)\n",
    "        elif 'шт' in catalog_df[\"item_name\"][i]:\n",
    "             count = pd.concat([count, pd.Series(find_number_in_string(catalog_df[\"item_name\"][i]))], ignore_index=True)\n",
    "        elif 'г' in catalog_df[\"item_name\"][i]:\n",
    "            weight = pd.concat([weight, pd.Series(find_number_in_string(catalog_df[\"item_name\"][i]))], ignore_index=True)\n",
    "        else:\n",
    "            weight = pd.concat([weight, pd.Series(\"0\")], ignore_index=True)\n",
    "            count = pd.concat([count, pd.Series(\"0\")], ignore_index=True)\n",
    "            percents = pd.concat([percents, pd.Series(\"0\")], ignore_index=True)\n",
    "    \n",
    "        names = pd.concat([names, pd.Series(tokenize_item_name(catalog_df[\"item_name\"][i]).lower())], ignore_index=True)\n",
    "        \n",
    "    return names, weight, count, percents\n",
    "\n",
    "names, weight, count, percents = find_tokens(catalog_df)\n",
    "\n",
    "prepare_catalog_df = pd.concat([catalog_df.item_name, names, weight, count, percents], axis=1, ignore_index=True)\n",
    "prepare_catalog_df = prepare_catalog_df.rename(columns = {0: \"item_name\", 1: \"clean_name\", 2: \"г\", 3: \"шт\", 4: \"%\"})"
   ]
  },
  {
   "cell_type": "code",
   "execution_count": 32,
   "id": "29cab2c1-b8bf-49e6-9680-fefb5e8876d6",
   "metadata": {},
   "outputs": [
    {
     "data": {
      "text/html": [
       "<div>\n",
       "<style scoped>\n",
       "    .dataframe tbody tr th:only-of-type {\n",
       "        vertical-align: middle;\n",
       "    }\n",
       "\n",
       "    .dataframe tbody tr th {\n",
       "        vertical-align: top;\n",
       "    }\n",
       "\n",
       "    .dataframe thead th {\n",
       "        text-align: right;\n",
       "    }\n",
       "</style>\n",
       "<table border=\"1\" class=\"dataframe\">\n",
       "  <thead>\n",
       "    <tr style=\"text-align: right;\">\n",
       "      <th></th>\n",
       "      <th>item_name</th>\n",
       "      <th>clean_name</th>\n",
       "      <th>г</th>\n",
       "      <th>шт</th>\n",
       "      <th>%</th>\n",
       "    </tr>\n",
       "  </thead>\n",
       "  <tbody>\n",
       "    <tr>\n",
       "      <th>0</th>\n",
       "      <td>Конфета жевательная с ароматом клубники</td>\n",
       "      <td>конфета жевательная с ароматом клубники</td>\n",
       "      <td>0</td>\n",
       "      <td>0</td>\n",
       "      <td>0</td>\n",
       "    </tr>\n",
       "    <tr>\n",
       "      <th>1</th>\n",
       "      <td>Смесь овощная \\Три капусты\\(Продукт замороженный)</td>\n",
       "      <td>смесь овощная три капусты продукт замороженный</td>\n",
       "      <td>0</td>\n",
       "      <td>0</td>\n",
       "      <td>0</td>\n",
       "    </tr>\n",
       "    <tr>\n",
       "      <th>2</th>\n",
       "      <td>Чипсы из морской капусты с анчоусами, 20 г</td>\n",
       "      <td>чипсы из морской капусты с анчоусами</td>\n",
       "      <td>20</td>\n",
       "      <td>0</td>\n",
       "      <td>0</td>\n",
       "    </tr>\n",
       "    <tr>\n",
       "      <th>3</th>\n",
       "      <td>Салат свекольный с грецким орехом</td>\n",
       "      <td>салат свекольный срецким орехом</td>\n",
       "      <td>0</td>\n",
       "      <td>0</td>\n",
       "      <td>0</td>\n",
       "    </tr>\n",
       "    <tr>\n",
       "      <th>4</th>\n",
       "      <td>Кета малосоленая филе-ломтики, 150 г</td>\n",
       "      <td>кета малосоленая филе-ломтики</td>\n",
       "      <td>150</td>\n",
       "      <td>0</td>\n",
       "      <td>0</td>\n",
       "    </tr>\n",
       "    <tr>\n",
       "      <th>5</th>\n",
       "      <td>Тунец холодного копчения карпаччо с кунжутом, ...</td>\n",
       "      <td>тунец холодного копчения карпаччо с кунжутом</td>\n",
       "      <td>100</td>\n",
       "      <td>0</td>\n",
       "      <td>0</td>\n",
       "    </tr>\n",
       "    <tr>\n",
       "      <th>6</th>\n",
       "      <td>Филе окорочка цыпленка-бройлера с овощами</td>\n",
       "      <td>филе окорочка цыпленка-бройлера с овощами</td>\n",
       "      <td>0</td>\n",
       "      <td>0</td>\n",
       "      <td>0</td>\n",
       "    </tr>\n",
       "    <tr>\n",
       "      <th>7</th>\n",
       "      <td>Нут жареный</td>\n",
       "      <td>нут жареный</td>\n",
       "      <td>0</td>\n",
       "      <td>0</td>\n",
       "      <td>5</td>\n",
       "    </tr>\n",
       "    <tr>\n",
       "      <th>8</th>\n",
       "      <td>Хлебцы ржаные с паприкой</td>\n",
       "      <td>хлебцы ржаные с паприкой</td>\n",
       "      <td>0</td>\n",
       "      <td>0</td>\n",
       "      <td>0</td>\n",
       "    </tr>\n",
       "    <tr>\n",
       "      <th>9</th>\n",
       "      <td>Пирожное \\Ежик\\</td>\n",
       "      <td>пирожное ежик</td>\n",
       "      <td>0</td>\n",
       "      <td>0</td>\n",
       "      <td>0</td>\n",
       "    </tr>\n",
       "  </tbody>\n",
       "</table>\n",
       "</div>"
      ],
      "text/plain": [
       "                                           item_name  \\\n",
       "0            Конфета жевательная с ароматом клубники   \n",
       "1  Смесь овощная \\Три капусты\\(Продукт замороженный)   \n",
       "2         Чипсы из морской капусты с анчоусами, 20 г   \n",
       "3                  Салат свекольный с грецким орехом   \n",
       "4               Кета малосоленая филе-ломтики, 150 г   \n",
       "5  Тунец холодного копчения карпаччо с кунжутом, ...   \n",
       "6          Филе окорочка цыпленка-бройлера с овощами   \n",
       "7                                        Нут жареный   \n",
       "8                           Хлебцы ржаные с паприкой   \n",
       "9                                    Пирожное \\Ежик\\   \n",
       "\n",
       "                                        clean_name    г шт  %  \n",
       "0          конфета жевательная с ароматом клубники    0  0  0  \n",
       "1  смесь овощная три капусты продукт замороженный     0  0  0  \n",
       "2            чипсы из морской капусты с анчоусами    20  0  0  \n",
       "3                  салат свекольный срецким орехом    0  0  0  \n",
       "4                   кета малосоленая филе-ломтики   150  0  0  \n",
       "5    тунец холодного копчения карпаччо с кунжутом   100  0  0  \n",
       "6        филе окорочка цыпленка-бройлера с овощами    0  0  0  \n",
       "7                                      нут жареный    0  0  5  \n",
       "8                         хлебцы ржаные с паприкой    0  0  0  \n",
       "9                                   пирожное ежик     0  0  0  "
      ]
     },
     "execution_count": 32,
     "metadata": {},
     "output_type": "execute_result"
    }
   ],
   "source": [
    "prepare_catalog_df[0:10]"
   ]
  }
 ],
 "metadata": {
  "kernelspec": {
   "display_name": "Python 3 (ipykernel)",
   "language": "python",
   "name": "python3"
  },
  "language_info": {
   "codemirror_mode": {
    "name": "ipython",
    "version": 3
   },
   "file_extension": ".py",
   "mimetype": "text/x-python",
   "name": "python",
   "nbconvert_exporter": "python",
   "pygments_lexer": "ipython3",
   "version": "3.10.12"
  }
 },
 "nbformat": 4,
 "nbformat_minor": 5
}
