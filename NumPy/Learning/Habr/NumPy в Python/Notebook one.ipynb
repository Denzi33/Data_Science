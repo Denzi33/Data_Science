{
 "cells": [
  {
   "cell_type": "markdown",
   "id": "5cccf9d3",
   "metadata": {},
   "source": [
    "Import library numpy."
   ]
  },
  {
   "cell_type": "code",
   "execution_count": 3,
   "id": "ba5d139b",
   "metadata": {},
   "outputs": [],
   "source": [
    "import numpy as np"
   ]
  },
  {
   "cell_type": "markdown",
   "id": "e197ced6",
   "metadata": {},
   "source": [
    "The main data structure is a massive. Massive looks like a list, but include in only one type of data like int or float. With massive you can easier and faster calculate result.\n",
    "\n",
    "For creating massive use method `.array()`."
   ]
  },
  {
   "cell_type": "code",
   "execution_count": 5,
   "id": "1ff77f80",
   "metadata": {},
   "outputs": [
    {
     "data": {
      "text/plain": [
       "array([1., 2., 3., 4.])"
      ]
     },
     "execution_count": 5,
     "metadata": {},
     "output_type": "execute_result"
    }
   ],
   "source": [
    "massive = np.array([1, 2, 3, 4], float)\n",
    "\n",
    "massive"
   ]
  },
  {
   "cell_type": "code",
   "execution_count": 6,
   "id": "53521389",
   "metadata": {},
   "outputs": [
    {
     "data": {
      "text/plain": [
       "numpy.ndarray"
      ]
     },
     "execution_count": 6,
     "metadata": {},
     "output_type": "execute_result"
    }
   ],
   "source": [
    "type(massive)"
   ]
  },
  {
   "cell_type": "markdown",
   "id": "099cb686",
   "metadata": {},
   "source": [
    "The first argument is a list of elements, the second is a type of elements. You can use indexes of the ceated structure as a list."
   ]
  },
  {
   "cell_type": "code",
   "execution_count": 12,
   "id": "5e6c1c24",
   "metadata": {},
   "outputs": [
    {
     "name": "stdout",
     "output_type": "stream",
     "text": [
      "4.0\n"
     ]
    },
    {
     "data": {
      "text/plain": [
       "array([3., 4.])"
      ]
     },
     "execution_count": 12,
     "metadata": {},
     "output_type": "execute_result"
    }
   ],
   "source": [
    "print(massive[3])\n",
    "\n",
    "massive[-2:]"
   ]
  },
  {
   "cell_type": "markdown",
   "id": "af69f782",
   "metadata": {},
   "source": [
    "Massive can be a multidimensional."
   ]
  },
  {
   "cell_type": "code",
   "execution_count": 16,
   "id": "2ba45e7a",
   "metadata": {},
   "outputs": [
    {
     "name": "stdout",
     "output_type": "stream",
     "text": [
      "6.0\n"
     ]
    },
    {
     "data": {
      "text/plain": [
       "array([[1., 2., 3., 4.],\n",
       "       [8., 7., 6., 5.]])"
      ]
     },
     "execution_count": 16,
     "metadata": {},
     "output_type": "execute_result"
    }
   ],
   "source": [
    "massive_two = np.array([[1, 2, 3, 4], [8, 7, 6, 5]], float)\n",
    "\n",
    "print(massive_two[1, 2])\n",
    "\n",
    "massive_two"
   ]
  },
  {
   "cell_type": "code",
   "execution_count": 35,
   "id": "4d25ad69",
   "metadata": {},
   "outputs": [
    {
     "data": {
      "text/plain": [
       "array([4.])"
      ]
     },
     "execution_count": 35,
     "metadata": {},
     "output_type": "execute_result"
    }
   ],
   "source": [
    "massive_two[-1:, 0] # one argument is measurement, second - elements.\n",
    "massive_two[0, -1:]"
   ]
  },
  {
   "cell_type": "markdown",
   "id": "23a262ae",
   "metadata": {},
   "source": [
    "Attribute `.shape` - returns dimension."
   ]
  },
  {
   "cell_type": "code",
   "execution_count": 37,
   "id": "29d15e00",
   "metadata": {},
   "outputs": [
    {
     "data": {
      "text/plain": [
       "(2, 4)"
      ]
     },
     "execution_count": 37,
     "metadata": {},
     "output_type": "execute_result"
    }
   ],
   "source": [
    "massive_two.shape"
   ]
  },
  {
   "cell_type": "markdown",
   "id": "7e9bf4d2",
   "metadata": {},
   "source": [
    "Attribute `.dtype` - returns type of the elements."
   ]
  },
  {
   "cell_type": "code",
   "execution_count": 38,
   "id": "187e6e2b",
   "metadata": {},
   "outputs": [
    {
     "data": {
      "text/plain": [
       "dtype('float64')"
      ]
     },
     "execution_count": 38,
     "metadata": {},
     "output_type": "execute_result"
    }
   ],
   "source": [
    "massive_two.dtype"
   ]
  },
  {
   "cell_type": "markdown",
   "id": "19255116",
   "metadata": {},
   "source": [
    "Method `.len()` returns size of first dimension of massive."
   ]
  },
  {
   "cell_type": "code",
   "execution_count": 39,
   "id": "efe5578f",
   "metadata": {},
   "outputs": [
    {
     "data": {
      "text/plain": [
       "2"
      ]
     },
     "execution_count": 39,
     "metadata": {},
     "output_type": "execute_result"
    }
   ],
   "source": [
    "len(massive_two)"
   ]
  },
  {
   "cell_type": "markdown",
   "id": "41570259",
   "metadata": {},
   "source": [
    "Operator `in` used for check element in massive."
   ]
  },
  {
   "cell_type": "code",
   "execution_count": 40,
   "id": "45b85d5c",
   "metadata": {},
   "outputs": [
    {
     "data": {
      "text/plain": [
       "False"
      ]
     },
     "execution_count": 40,
     "metadata": {},
     "output_type": "execute_result"
    }
   ],
   "source": [
    "666 in massive_two"
   ]
  },
  {
   "cell_type": "markdown",
   "id": "bb368024",
   "metadata": {},
   "source": [
    "Method `.reshape()` used for change massive dimension."
   ]
  },
  {
   "cell_type": "code",
   "execution_count": 46,
   "id": "2b56d6e1",
   "metadata": {},
   "outputs": [
    {
     "name": "stdout",
     "output_type": "stream",
     "text": [
      "(4, 2)\n"
     ]
    },
    {
     "data": {
      "text/plain": [
       "array([[1., 2.],\n",
       "       [3., 4.],\n",
       "       [8., 7.],\n",
       "       [6., 5.]])"
      ]
     },
     "execution_count": 46,
     "metadata": {},
     "output_type": "execute_result"
    }
   ],
   "source": [
    "massive_two = massive_two.reshape((4, 2))\n",
    "\n",
    "print(massive_two.shape)\n",
    "\n",
    "massive_two"
   ]
  },
  {
   "cell_type": "markdown",
   "id": "13d3e87a",
   "metadata": {},
   "source": [
    "For coping massive and not copy link use method `.copy()`."
   ]
  },
  {
   "cell_type": "code",
   "execution_count": 48,
   "id": "6011f58f",
   "metadata": {},
   "outputs": [
    {
     "data": {
      "text/plain": [
       "array([[1., 2.],\n",
       "       [3., 4.],\n",
       "       [8., 7.],\n",
       "       [6., 5.]])"
      ]
     },
     "execution_count": 48,
     "metadata": {},
     "output_type": "execute_result"
    }
   ],
   "source": [
    "massive_three = massive_two.copy()\n",
    "\n",
    "massive_three"
   ]
  },
  {
   "cell_type": "markdown",
   "id": "689a2a33",
   "metadata": {},
   "source": [
    "You can convert massive to list wiht method `tolist()`."
   ]
  },
  {
   "cell_type": "code",
   "execution_count": 51,
   "id": "8c7a15a4",
   "metadata": {},
   "outputs": [
    {
     "data": {
      "text/plain": [
       "[[1.0, 2.0], [3.0, 4.0], [8.0, 7.0], [6.0, 5.0]]"
      ]
     },
     "execution_count": 51,
     "metadata": {},
     "output_type": "execute_result"
    }
   ],
   "source": [
    "list_one = massive_three.tolist()\n",
    "\n",
    "list_one"
   ]
  },
  {
   "cell_type": "markdown",
   "id": "b291042b",
   "metadata": {},
   "source": [
    "For convert in human unreadable type use method `.tostring()`."
   ]
  },
  {
   "cell_type": "code",
   "execution_count": 53,
   "id": "490d70e6",
   "metadata": {},
   "outputs": [
    {
     "name": "stderr",
     "output_type": "stream",
     "text": [
      "C:\\Users\\Deniz\\AppData\\Local\\Temp\\ipykernel_11412\\752424615.py:1: DeprecationWarning: tostring() is deprecated. Use tobytes() instead.\n",
      "  string_one = massive_two.tostring()\n"
     ]
    },
    {
     "data": {
      "text/plain": [
       "b'\\x00\\x00\\x00\\x00\\x00\\x00\\xf0?\\x00\\x00\\x00\\x00\\x00\\x00\\x00@\\x00\\x00\\x00\\x00\\x00\\x00\\x08@\\x00\\x00\\x00\\x00\\x00\\x00\\x10@\\x00\\x00\\x00\\x00\\x00\\x00 @\\x00\\x00\\x00\\x00\\x00\\x00\\x1c@\\x00\\x00\\x00\\x00\\x00\\x00\\x18@\\x00\\x00\\x00\\x00\\x00\\x00\\x14@'"
      ]
     },
     "execution_count": 53,
     "metadata": {},
     "output_type": "execute_result"
    }
   ],
   "source": [
    "string_one = massive_two.tostring()\n",
    "\n",
    "string_one"
   ]
  },
  {
   "cell_type": "markdown",
   "id": "fa016d30",
   "metadata": {},
   "source": [
    "And negative method `.fromstring()` - return dimension."
   ]
  },
  {
   "cell_type": "code",
   "execution_count": 57,
   "id": "e7f84c7c",
   "metadata": {},
   "outputs": [
    {
     "name": "stderr",
     "output_type": "stream",
     "text": [
      "C:\\Users\\Deniz\\AppData\\Local\\Temp\\ipykernel_11412\\3070014062.py:1: DeprecationWarning: The binary mode of fromstring is deprecated, as it behaves surprisingly on unicode inputs. Use frombuffer instead\n",
      "  massive_four = np.fromstring(string_one)\n"
     ]
    },
    {
     "data": {
      "text/plain": [
       "array([1., 2., 3., 4., 8., 7., 6., 5.])"
      ]
     },
     "execution_count": 57,
     "metadata": {},
     "output_type": "execute_result"
    }
   ],
   "source": [
    "massive_four = np.fromstring(string_one)\n",
    "\n",
    "massive_four"
   ]
  },
  {
   "cell_type": "markdown",
   "id": "3396818c",
   "metadata": {},
   "source": [
    "For quick setting use method `.fill()`."
   ]
  },
  {
   "cell_type": "code",
   "execution_count": 63,
   "id": "c5d6859b",
   "metadata": {},
   "outputs": [
    {
     "data": {
      "text/plain": [
       "array([5, 5, 5, 5, 5, 5, 5, 5, 5])"
      ]
     },
     "execution_count": 63,
     "metadata": {},
     "output_type": "execute_result"
    }
   ],
   "source": [
    "massive_five = np.array([1, 2, 3, 4, 5, 6, 7, 8, 9])\n",
    "\n",
    "massive_five.fill(5)\n",
    "\n",
    "massive_five"
   ]
  },
  {
   "cell_type": "markdown",
   "id": "6d0262c5",
   "metadata": {},
   "source": [
    "For convert from multidimension to monodimension massiv use method `.flatten()`."
   ]
  },
  {
   "cell_type": "code",
   "execution_count": 65,
   "id": "e690d8aa",
   "metadata": {},
   "outputs": [
    {
     "data": {
      "text/plain": [
       "array([1, 2, 3, 3, 2, 1])"
      ]
     },
     "execution_count": 65,
     "metadata": {},
     "output_type": "execute_result"
    }
   ],
   "source": [
    "tmp_massive = np.array([[1, 2, 3,], [3, 2, 1]])\n",
    "\n",
    "tmp_massive = tmp_massive.flatten()\n",
    "\n",
    "tmp_massive"
   ]
  },
  {
   "cell_type": "markdown",
   "id": "cf78519c",
   "metadata": {},
   "source": [
    "We can concatenate massive with method `.concatenate()`. Default axis is 0."
   ]
  },
  {
   "cell_type": "code",
   "execution_count": 69,
   "id": "99844185",
   "metadata": {},
   "outputs": [
    {
     "data": {
      "text/plain": [
       "array([1, 2, 3, 3, 2, 1, 5, 5, 5, 5, 5, 5, 5, 5, 5])"
      ]
     },
     "execution_count": 69,
     "metadata": {},
     "output_type": "execute_result"
    }
   ],
   "source": [
    "np.concatenate((tmp_massive, massive_five))"
   ]
  },
  {
   "cell_type": "markdown",
   "id": "4451f378",
   "metadata": {},
   "source": [
    "We can concatenate with by any axis."
   ]
  },
  {
   "cell_type": "code",
   "execution_count": 75,
   "id": "15b10eb9",
   "metadata": {},
   "outputs": [
    {
     "name": "stdout",
     "output_type": "stream",
     "text": [
      "[[1 2 3]\n",
      " [6 5 4]\n",
      " [1 2 3]\n",
      " [6 5 4]]\n"
     ]
    },
    {
     "data": {
      "text/plain": [
       "array([[1, 2, 3, 1, 2, 3],\n",
       "       [6, 5, 4, 6, 5, 4]])"
      ]
     },
     "execution_count": 75,
     "metadata": {},
     "output_type": "execute_result"
    }
   ],
   "source": [
    "a = np.array([[1, 2, 3], [6, 5, 4]])\n",
    "b = np.array([[1, 2, 3], [6, 5, 4]])\n",
    "\n",
    "print(np.concatenate((a, b), axis = 0))\n",
    "\n",
    "np.concatenate((a, b), axis = 1)"
   ]
  },
  {
   "cell_type": "markdown",
   "id": "b84b51cc",
   "metadata": {},
   "source": [
    "We can change shape of massive by attribute `.newaxis`."
   ]
  },
  {
   "cell_type": "code",
   "execution_count": 79,
   "id": "514eedbe",
   "metadata": {},
   "outputs": [
    {
     "data": {
      "text/plain": [
       "array([1, 2, 3])"
      ]
     },
     "execution_count": 79,
     "metadata": {},
     "output_type": "execute_result"
    }
   ],
   "source": [
    "last_massive = np.array([1, 2, 3], int)\n",
    "\n",
    "last_massive"
   ]
  },
  {
   "cell_type": "code",
   "execution_count": 84,
   "id": "d0c3bc73",
   "metadata": {},
   "outputs": [
    {
     "data": {
      "text/plain": [
       "(3, 1)"
      ]
     },
     "execution_count": 84,
     "metadata": {},
     "output_type": "execute_result"
    }
   ],
   "source": [
    "last_massive[:, np.newaxis]\n",
    "\n",
    "last_massive[:, np.newaxis].shape"
   ]
  }
 ],
 "metadata": {
  "kernelspec": {
   "display_name": "Python 3 (ipykernel)",
   "language": "python",
   "name": "python3"
  },
  "language_info": {
   "codemirror_mode": {
    "name": "ipython",
    "version": 3
   },
   "file_extension": ".py",
   "mimetype": "text/x-python",
   "name": "python",
   "nbconvert_exporter": "python",
   "pygments_lexer": "ipython3",
   "version": "3.10.9"
  }
 },
 "nbformat": 4,
 "nbformat_minor": 5
}
