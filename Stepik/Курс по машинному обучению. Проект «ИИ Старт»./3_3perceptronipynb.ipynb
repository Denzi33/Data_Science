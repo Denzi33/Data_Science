{
  "cells": [
    {
      "cell_type": "code",
      "source": [
        "import numpy as np\n",
        "import matplotlib.pyplot as plt\n",
        "# good\n",
        "N = 5\n",
        "b = 3\n",
        "\n",
        "x1 = np.random.random(N)\n",
        "x2 = x1 + [np.random.randint(10)/10 for i in range(N)] + b\n",
        "C1 = [x1, x2]\n",
        "\n",
        "x1 = np.random.random(N)\n",
        "x2 = x1 - [np.random.randint(10)/10 for i in range(N)] - 0.1 + b\n",
        "C2 = [x1, x2]\n",
        "\n",
        "f = [0+b, 1+b]\n",
        "\n",
        "w2 = 0.5\n",
        "w3 = -b*w2\n",
        "w = np.array([-w2, w2, w3])\n",
        "for i in range(N):\n",
        "    x = np.array([C1[0][i], C1[1][i], 1])\n",
        "    y = np.dot(w, x)\n",
        "    if y >= 0:\n",
        "        print(\"Класс C1\")\n",
        "    else:\n",
        "        print(\"Класс C2\")\n",
        "\n",
        "plt.scatter(C1[0][:], C1[1][:], s=10, c='red')\n",
        "plt.scatter(C2[0][:], C2[1][:], s=10, c='blue')\n",
        "plt.plot(f)\n",
        "plt.grid(True)\n",
        "plt.show()"
      ],
      "metadata": {
        "id": "y4tYZpjvqUAr",
        "outputId": "06a99be2-ea57-4d98-b6a4-aab83d7ad51a",
        "colab": {
          "base_uri": "https://localhost:8080/",
          "height": 517
        }
      },
      "execution_count": null,
      "outputs": [
        {
          "output_type": "stream",
          "name": "stdout",
          "text": [
            "Класс C1\n",
            "Класс C1\n",
            "Класс C1\n",
            "Класс C1\n",
            "Класс C1\n"
          ]
        },
        {
          "output_type": "display_data",
          "data": {
            "text/plain": [
              "<Figure size 640x480 with 1 Axes>"
            ],
            "image/png": "[encoded data removed]"
          },
          "metadata": {}
        }
      ]
    },
    {
      "cell_type": "markdown",
      "source": [
        "# Новый раздел"
      ],
      "metadata": {
        "id": "Ma4RYc57FxXK"
      }
    },
    {
      "cell_type": "markdown",
      "source": [],
      "metadata": {
        "id": "ygS5MjWRtuVH"
      }
    },
    {
      "cell_type": "code",
      "source": [
        "print(9**19 - int(float(9**19)))"
      ],
      "metadata": {
        "colab": {
          "base_uri": "https://localhost:8080/"
        },
        "id": "9LlPa_iOcnAF",
        "outputId": "9d994661-afed-4d8d-fce5-57428a32f3f6"
      },
      "execution_count": null,
      "outputs": [
        {
          "output_type": "stream",
          "name": "stdout",
          "text": [
            "89\n"
          ]
        }
      ]
    },
    {
      "cell_type": "code",
      "source": [
        "int(float(9**19))"
      ],
      "metadata": {
        "colab": {
          "base_uri": "https://localhost:8080/"
        },
        "id": "db7JKAojdXTH",
        "outputId": "8a530684-ed3f-46bb-c696-e6f739837ad4"
      },
      "execution_count": null,
      "outputs": [
        {
          "output_type": "execute_result",
          "data": {
            "text/plain": [
              "1350851717672992000"
            ]
          },
          "metadata": {},
          "execution_count": 4
        }
      ]
    },
    {
      "cell_type": "code",
      "source": [
        "int(9**19)"
      ],
      "metadata": {
        "colab": {
          "base_uri": "https://localhost:8080/"
        },
        "id": "UT3a6WuRdaVf",
        "outputId": "cf1aad78-36e7-4df2-be5e-3a459bc61257"
      },
      "execution_count": null,
      "outputs": [
        {
          "output_type": "execute_result",
          "data": {
            "text/plain": [
              "1350851717672992089"
            ]
          },
          "metadata": {},
          "execution_count": 3
        }
      ]
    },
    {
      "cell_type": "code",
      "source": [
        "475%60"
      ],
      "metadata": {
        "colab": {
          "base_uri": "https://localhost:8080/"
        },
        "id": "F-ZtyTumfqHl",
        "outputId": "995fa6e8-4f79-435f-a721-0e270ae1329e"
      },
      "execution_count": null,
      "outputs": [
        {
          "output_type": "execute_result",
          "data": {
            "text/plain": [
              "55"
            ]
          },
          "metadata": {},
          "execution_count": 12
        }
      ]
    },
    {
      "cell_type": "code",
      "source": [
        "x = 5\n",
        "y = 10\n",
        "y > x * x or y >= 2 * x and x < y"
      ],
      "metadata": {
        "colab": {
          "base_uri": "https://localhost:8080/"
        },
        "id": "odL1C9H8E6jD",
        "outputId": "fb5e359e-6ae9-4ce1-83e6-d16e4d96e43f"
      },
      "execution_count": null,
      "outputs": [
        {
          "output_type": "execute_result",
          "data": {
            "text/plain": [
              "True"
            ]
          },
          "metadata": {},
          "execution_count": 1
        }
      ]
    },
    {
      "cell_type": "code",
      "source": [
        "a, b, h = (int(input()) for _ in range(3))\n",
        "print('Это нормально'*(a <= h <= b) + 'Недосып'*(h < a) + 'Пересып'*(h > b))"
      ],
      "metadata": {
        "colab": {
          "base_uri": "https://localhost:8080/"
        },
        "id": "LI0tu9yhKAlS",
        "outputId": "27b37c28-fa5f-48b7-d5c9-77ffb308577e"
      },
      "execution_count": null,
      "outputs": [
        {
          "output_type": "stream",
          "name": "stdout",
          "text": [
            "8\n",
            "13\n",
            "14\n",
            "Пересып\n"
          ]
        }
      ]
    },
    {
      "cell_type": "code",
      "source": [
        "s = {1: lambda r: 3.14  * r**2, 2: lambda a, b: a * b, 3: lambda a, b, c: ((a+b+c)/2*(b+c-a)/2*(a+c-b)/2*(a+b-c)/2)**0.5}\n",
        "f = {'круг': 1, 'прямоугольник': 2, 'треугольник': 3}\n",
        "args = [float(input()) for _ in range(f[input()])]\n",
        "print(s[len(args)](*args))"
      ],
      "metadata": {
        "id": "s70b59sjqilh"
      },
      "execution_count": null,
      "outputs": []
    },
    {
      "cell_type": "markdown",
      "source": [
        "**Задача 1 . Подобрать правильное окончание к слову программист ( на вводе число от 0 до 1000)**"
      ],
      "metadata": {
        "id": "RQwgYBYGiMmr"
      }
    },
    {
      "cell_type": "code",
      "source": [
        "# Подобрать правильное окончание к слову программист ( на вводе число от 0 до 1000)\n",
        "#1 - прогр-ист\n",
        "#234 прогр- та\n",
        "#05678910 прогр-ов\n",
        "#x1 = [2,3,4]\n",
        "x2 = [0,5,6,7,8,9]\n",
        "x3 = [11,12,13,14]\n",
        "a = int(input())\n",
        "b = a % 10\n",
        "c = a % 100\n",
        "\n",
        "if b in x2 or c in x3:\n",
        "  print (a, 'программистов')\n",
        "elif b == 1:\n",
        "  print (a, 'программист')\n",
        "else:\n",
        "  print (a, 'программиста')\n"
      ],
      "metadata": {
        "colab": {
          "base_uri": "https://localhost:8080/"
        },
        "id": "U7FMRb3iXw5o",
        "outputId": "019ee50c-2fc9-4905-f4c5-3a77c0c6e56c"
      },
      "execution_count": null,
      "outputs": [
        {
          "output_type": "stream",
          "name": "stdout",
          "text": [
            "544\n",
            "544 программиста\n"
          ]
        }
      ]
    },
    {
      "cell_type": "markdown",
      "source": [
        "Лучшее решение"
      ],
      "metadata": {
        "id": "aEekWlrWgj84"
      }
    },
    {
      "cell_type": "code",
      "source": [
        "i=int(input())\n",
        "d=i%10\n",
        "h=i%100\n",
        "if d==1 and h!=11:\n",
        "    s=\"\"\n",
        "elif 1<d<5 and not 11<h<15:\n",
        "    s=\"а\"\n",
        "else:\n",
        "    s=\"ов\"\n",
        "print(i,\" программист\"+s)"
      ],
      "metadata": {
        "colab": {
          "base_uri": "https://localhost:8080/"
        },
        "id": "v9-9_hmOegMU",
        "outputId": "d6315b17-193f-434e-df70-fdc8affce41b"
      },
      "execution_count": null,
      "outputs": [
        {
          "output_type": "stream",
          "name": "stdout",
          "text": [
            "112\n",
            "12\n"
          ]
        }
      ]
    },
    {
      "cell_type": "markdown",
      "source": [
        "Еще одно.Словарь dic хранит окончания, для 1 - пустое, для 2 - \"а\" и т.д.\n",
        "метод get у словаря возвращает его значение по переданному ключу или значение по умолчанию если переданного ключа в словаре не окажется\n",
        "собственно вот и вся логика - мы смотрим последнюю цифру числа, для 1-4 возвращаем окончание из словаря, для остальных пишем по умолчанию \"ов\", если же последние две цифры числа в промежутке от 10 до 20 - то сразу пишем \"ов\""
      ],
      "metadata": {
        "id": "nOjkBzXTh_6W"
      }
    },
    {
      "cell_type": "code",
      "source": [
        "dic, n = {'1': '', '2': 'а', '3': 'а', '4': 'а'}, input()\n",
        "print(n, 'программист'+(dic.get(n[-1], 'ов') if not 10 < int(n[-2::]) < 20 else 'ов'))"
      ],
      "metadata": {
        "id": "J98SqoPniBZS"
      },
      "execution_count": null,
      "outputs": []
    },
    {
      "cell_type": "markdown",
      "source": [
        "Задача 2. Билет считается счастливым, если сумма первых трех цифр совпадает с суммой последних трех цифр номера билета.\n"
      ],
      "metadata": {
        "id": "fvF9aDxdi288"
      }
    },
    {
      "cell_type": "code",
      "source": [
        "a1,a2,a3,a4,a5,a6 = input()\n",
        "if int(a1)+int(a2)+int(a3)==int(a4)+int(a5)+int(a6):\n",
        "  print ('Счастливый')\n",
        "else:\n",
        "  print ('Обычный')"
      ],
      "metadata": {
        "colab": {
          "base_uri": "https://localhost:8080/"
        },
        "id": "oI1Y5NC5i5hb",
        "outputId": "dfeb0768-2b32-4078-a52f-5d9896a73679"
      },
      "execution_count": null,
      "outputs": [
        {
          "output_type": "stream",
          "name": "stdout",
          "text": [
            "090234\n",
            "Счастливый\n"
          ]
        }
      ]
    },
    {
      "cell_type": "markdown",
      "source": [
        "вариант через словарь и итератор"
      ],
      "metadata": {
        "id": "Vc1HFq2amoFH"
      }
    },
    {
      "cell_type": "code",
      "source": [
        "ans = {False: 'Счастливый', True : 'Обычный'}\n",
        "b,c,d,e,f,g = (int(n) for n in input())\n",
        "print(ans[bool((b+c+d)-(e+f+g))])"
      ],
      "metadata": {
        "colab": {
          "base_uri": "https://localhost:8080/"
        },
        "id": "rcrdppU5mqB9",
        "outputId": "6159df15-eb79-4be4-ef52-d3e90c079343"
      },
      "execution_count": null,
      "outputs": [
        {
          "output_type": "stream",
          "name": "stdout",
          "text": [
            "090234\n",
            "Счастливый\n"
          ]
        }
      ]
    },
    {
      "cell_type": "markdown",
      "source": [
        "через список"
      ],
      "metadata": {
        "id": "vtZn6-JgnEpx"
      }
    },
    {
      "cell_type": "code",
      "source": [
        "n = list(map(int, list(input())))  #можно в list input не оборачивать, т.к это уже str и он итерабельный\n",
        "print('Счастливый' if sum(n[:3]) == sum(n[3:]) else 'Обычный')"
      ],
      "metadata": {
        "id": "bnBO5q-gnHI2"
      },
      "execution_count": null,
      "outputs": []
    },
    {
      "cell_type": "markdown",
      "source": [
        "ЦИКЛЫ\n",
        "1.WHILE"
      ],
      "metadata": {
        "id": "jTaPCINjAEKw"
      }
    },
    {
      "cell_type": "markdown",
      "source": [
        "1.Напишите программу, которая считывает со стандартного ввода целые числа, по одному числу в строке, и после первого введенного нуля выводит сумму полученных на вход чисел."
      ],
      "metadata": {
        "id": "SG6MnwzpAJMU"
      }
    },
    {
      "cell_type": "code",
      "source": [
        "a = int(input())\n",
        "sum = 0\n",
        "while a != 0:\n",
        "    sum += a\n",
        "    a = int(input())\n",
        "print(sum)\n",
        "\n"
      ],
      "metadata": {
        "colab": {
          "base_uri": "https://localhost:8080/"
        },
        "id": "_XA1GLkCAQZc",
        "outputId": "9bd02707-5ace-431f-8ac6-3674ce24f9df"
      },
      "execution_count": null,
      "outputs": [
        {
          "output_type": "stream",
          "name": "stdout",
          "text": [
            "5\n",
            "-3\n",
            "8\n",
            "4\n",
            "0\n",
            "14\n"
          ]
        }
      ]
    },
    {
      "cell_type": "markdown",
      "source": [
        "Варинат с булевой проверкой. while (i) = while bool(i).Если i !=0 то будет True, и цикл будет работать"
      ],
      "metadata": {
        "id": "wj8QtU5lEIK8"
      }
    },
    {
      "cell_type": "markdown",
      "source": [],
      "metadata": {
        "id": "f3CYKOjHEIJF"
      }
    },
    {
      "cell_type": "code",
      "source": [
        "s = 0\n",
        "i = 1\n",
        "while i:\n",
        "    i = int(input())\n",
        "    s += i\n",
        "print(s)"
      ],
      "metadata": {
        "colab": {
          "base_uri": "https://localhost:8080/"
        },
        "id": "nFJQrnfEDzDm",
        "outputId": "fc9209c4-afaa-4e36-f05d-a6d6437acb7f"
      },
      "execution_count": null,
      "outputs": [
        {
          "output_type": "execute_result",
          "data": {
            "text/plain": [
              "True"
            ]
          },
          "metadata": {},
          "execution_count": 9
        }
      ]
    },
    {
      "cell_type": "markdown",
      "source": [
        "2.Программа должна считывать размеры команд (два положительных целых числа a и b, каждое число вводится на отдельной строке) и выводить наименьшее число d, которое делится на оба этих числа без остатка."
      ],
      "metadata": {
        "id": "jSfbcHmjSiYN"
      }
    },
    {
      "cell_type": "code",
      "source": [
        "a = int(input())\n",
        "b = int(input())\n",
        "d=1\n",
        "while d%a!=0 or d%b!=0:\n",
        "  d+=1\n",
        "print(d)"
      ],
      "metadata": {
        "colab": {
          "base_uri": "https://localhost:8080/"
        },
        "id": "ZzR70gSFSkJi",
        "outputId": "13564834-4501-4c30-9588-6699f7fb92b1"
      },
      "execution_count": null,
      "outputs": [
        {
          "output_type": "stream",
          "name": "stdout",
          "text": [
            "1\n",
            "2\n",
            "1\n"
          ]
        }
      ]
    },
    {
      "cell_type": "markdown",
      "source": [
        "Второй вариант"
      ],
      "metadata": {
        "id": "Esrpyg0ChMW7"
      }
    },
    {
      "cell_type": "code",
      "source": [
        "giki = int(input())\n",
        "bio = int(input())\n",
        "a = int(giki)\n",
        "while a % bio != 0:\n",
        "    a += giki\n",
        "print(a)\n"
      ],
      "metadata": {
        "colab": {
          "base_uri": "https://localhost:8080/"
        },
        "id": "SE7jF2LiWKpc",
        "outputId": "bb80bff6-ebcb-4189-d7ec-24434c5a2e5b"
      },
      "execution_count": null,
      "outputs": [
        {
          "output_type": "stream",
          "name": "stdout",
          "text": [
            "2\n",
            "1\n",
            "2\n"
          ]
        }
      ]
    }
  ],
  "metadata": {
    "colab": {
      "provenance": []
    },
    "kernelspec": {
      "display_name": "Python 3",
      "name": "python3"
    },
    "language_info": {
      "name": "python"
    }
  },
  "nbformat": 4,
  "nbformat_minor": 0
}