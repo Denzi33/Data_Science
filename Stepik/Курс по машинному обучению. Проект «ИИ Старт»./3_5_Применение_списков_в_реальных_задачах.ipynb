{
  "nbformat": 4,
  "nbformat_minor": 0,
  "metadata": {
    "colab": {
      "provenance": []
    },
    "kernelspec": {
      "name": "python3",
      "display_name": "Python 3"
    },
    "language_info": {
      "name": "python"
    }
  },
  "cells": [
    {
      "cell_type": "markdown",
      "source": [
        "### Массив и циклы"
      ],
      "metadata": {
        "id": "RiyCOsyYAUDN"
      }
    },
    {
      "cell_type": "code",
      "source": [
        "numbers = [1, 2, 3, 4, 5, 6, 7, 8, 9]"
      ],
      "metadata": {
        "id": "UP0PXmAbAqVs"
      },
      "execution_count": null,
      "outputs": []
    },
    {
      "cell_type": "code",
      "source": [
        "numbers[1]"
      ],
      "metadata": {
        "id": "pJspBCFO_7tb",
        "colab": {
          "base_uri": "https://localhost:8080/"
        },
        "outputId": "5d06a2f6-5abd-472e-892c-b25f27f361c7"
      },
      "execution_count": null,
      "outputs": [
        {
          "output_type": "execute_result",
          "data": {
            "text/plain": [
              "2"
            ]
          },
          "metadata": {},
          "execution_count": 3
        }
      ]
    },
    {
      "cell_type": "code",
      "source": [
        "for i in numbers:\n",
        "  print(i)"
      ],
      "metadata": {
        "id": "qnVwVA2L_7vv",
        "outputId": "a52b84f0-d085-45e3-89a3-4162c7dae07c",
        "colab": {
          "base_uri": "https://localhost:8080/"
        }
      },
      "execution_count": null,
      "outputs": [
        {
          "output_type": "stream",
          "name": "stdout",
          "text": [
            "1\n",
            "2\n",
            "3\n",
            "4\n",
            "5\n",
            "6\n",
            "7\n",
            "8\n",
            "9\n"
          ]
        }
      ]
    },
    {
      "cell_type": "code",
      "source": [
        "word = \"Привет мир!\"\n",
        "\n",
        "for letter in word:\n",
        "  print(letter)"
      ],
      "metadata": {
        "id": "LI8dug-fEsK1",
        "colab": {
          "base_uri": "https://localhost:8080/"
        },
        "outputId": "f1f24747-d115-4dc0-a85a-885b30717474"
      },
      "execution_count": null,
      "outputs": [
        {
          "output_type": "stream",
          "name": "stdout",
          "text": [
            "П\n",
            "р\n",
            "и\n",
            "в\n",
            "е\n",
            "т\n",
            " \n",
            "м\n",
            "и\n",
            "р\n",
            "!\n"
          ]
        }
      ]
    },
    {
      "cell_type": "markdown",
      "source": [
        "Операции над элементами массива"
      ],
      "metadata": {
        "id": "OKuTyvBSFQiJ"
      }
    },
    {
      "cell_type": "code",
      "source": [
        "mass_sum = 0\n",
        "\n",
        "for i in numbers:\n",
        "  mass_sum += i\n",
        "\n",
        "print(\"Cумма значений массива равна:\", mass_sum)"
      ],
      "metadata": {
        "id": "U9sVv9FhD_gN",
        "colab": {
          "base_uri": "https://localhost:8080/"
        },
        "outputId": "807e1738-01a9-4f31-ef01-4a071756a50c"
      },
      "execution_count": null,
      "outputs": [
        {
          "output_type": "stream",
          "name": "stdout",
          "text": [
            "Cумма значений массива равна: 45\n"
          ]
        }
      ]
    },
    {
      "cell_type": "markdown",
      "source": [
        "Прибавим к каждому элементу число"
      ],
      "metadata": {
        "id": "leuX3-wvFzx8"
      }
    },
    {
      "cell_type": "code",
      "source": [
        "evaluations = [4, 2, 3, 4, 3, 3, 3, 2, 3]\n",
        "\n",
        "for i in evaluations:\n",
        "   i = i + 1\n",
        "\n",
        "print(\"Новый массив оценок:\", evaluations)"
      ],
      "metadata": {
        "id": "sAw52drJFUZ0",
        "colab": {
          "base_uri": "https://localhost:8080/"
        },
        "outputId": "be8c4ecb-84b1-493f-9824-9adde513b406"
      },
      "execution_count": null,
      "outputs": [
        {
          "output_type": "stream",
          "name": "stdout",
          "text": [
            "Новый массив оценок: [4, 2, 3, 4, 3, 3, 3, 2, 3]\n"
          ]
        }
      ]
    },
    {
      "cell_type": "code",
      "source": [
        "evaluations = [4, 2, 3, 4, 3, 3, 3, 2, 3]\n",
        "\n",
        "mass_len = len(evaluations)\n",
        "\n",
        "for i in range(mass_len):\n",
        "  print(i)"
      ],
      "metadata": {
        "id": "AK-YH_h6JBq1",
        "colab": {
          "base_uri": "https://localhost:8080/"
        },
        "outputId": "47832c28-704b-4be3-e1d6-f17f86bac3e2"
      },
      "execution_count": null,
      "outputs": [
        {
          "output_type": "stream",
          "name": "stdout",
          "text": [
            "0\n",
            "1\n",
            "2\n",
            "3\n",
            "4\n",
            "5\n",
            "6\n",
            "7\n",
            "8\n"
          ]
        }
      ]
    },
    {
      "cell_type": "markdown",
      "source": [
        "Получим каждый элемент массива"
      ],
      "metadata": {
        "id": "8PokWdDeLbhj"
      }
    },
    {
      "cell_type": "code",
      "execution_count": null,
      "metadata": {
        "id": "eWcfbgB8sbC2",
        "colab": {
          "base_uri": "https://localhost:8080/"
        },
        "outputId": "19f2cdb1-1922-4064-9f87-6f4ea1af53e4"
      },
      "outputs": [
        {
          "output_type": "stream",
          "name": "stdout",
          "text": [
            "4\n",
            "2\n",
            "3\n",
            "4\n",
            "3\n",
            "3\n",
            "3\n",
            "2\n",
            "3\n"
          ]
        }
      ],
      "source": [
        "evaluations = [4, 2, 3, 4, 3, 3, 3, 2, 3]\n",
        "\n",
        "for i in range(len(evaluations)):\n",
        "  print(evaluations[i])"
      ]
    },
    {
      "cell_type": "code",
      "source": [
        "evaluations = [4, 2, 3, 4, 3, 3, 3, 2, 3]\n",
        "\n",
        "for i in range(len(evaluations)):\n",
        "  evaluations[i] += 1\n",
        "\n",
        "print(\"Новый массив оценок:\", evaluations)"
      ],
      "metadata": {
        "id": "UmpdRFBuLea_",
        "colab": {
          "base_uri": "https://localhost:8080/"
        },
        "outputId": "8375c343-0106-4798-8ca9-6a73a51ee97a"
      },
      "execution_count": null,
      "outputs": [
        {
          "output_type": "stream",
          "name": "stdout",
          "text": [
            "Новый массив оценок: [5, 3, 4, 5, 4, 4, 4, 3, 4]\n"
          ]
        }
      ]
    },
    {
      "cell_type": "markdown",
      "source": [
        "### In, len, sum, all, any\n",
        "\n",
        "Общие методы для разных контейнеров, рассмотрим их на примере списков\n"
      ],
      "metadata": {
        "id": "ZI59YMwQI3uZ"
      }
    },
    {
      "cell_type": "markdown",
      "source": [
        "оператор вхождения **in**"
      ],
      "metadata": {
        "id": "wnexc7DuM0pb"
      }
    },
    {
      "cell_type": "code",
      "source": [
        "evaluations_10b = [4, 2, 3, 4, 3, 3, 3, 2, 3]\n",
        "evaluations_7a = [4, 4, 3, 4, 3, 3, 3, 3, 3]"
      ],
      "metadata": {
        "id": "1BVQOF6hMRhB"
      },
      "execution_count": null,
      "outputs": []
    },
    {
      "cell_type": "code",
      "source": [
        "2 in evaluations_10b # наличие двойки за тест у класса"
      ],
      "metadata": {
        "id": "rjUlZ5zVI1oP",
        "colab": {
          "base_uri": "https://localhost:8080/"
        },
        "outputId": "bfa8a923-660a-4375-a2e4-d9b77a3be263"
      },
      "execution_count": null,
      "outputs": [
        {
          "output_type": "execute_result",
          "data": {
            "text/plain": [
              "True"
            ]
          },
          "metadata": {},
          "execution_count": 13
        }
      ]
    },
    {
      "cell_type": "code",
      "source": [
        "2 in evaluations_7a"
      ],
      "metadata": {
        "id": "cFlJNb7EMfka",
        "colab": {
          "base_uri": "https://localhost:8080/"
        },
        "outputId": "50d9c83c-171e-478c-889f-7370ad11cdfc"
      },
      "execution_count": null,
      "outputs": [
        {
          "output_type": "execute_result",
          "data": {
            "text/plain": [
              "False"
            ]
          },
          "metadata": {},
          "execution_count": 14
        }
      ]
    },
    {
      "cell_type": "markdown",
      "source": [
        "Длина массива"
      ],
      "metadata": {
        "id": "jUa-m0oYM3YW"
      }
    },
    {
      "cell_type": "code",
      "source": [
        "len(evaluations_10b)"
      ],
      "metadata": {
        "id": "L2uMzfQrJBWH",
        "colab": {
          "base_uri": "https://localhost:8080/"
        },
        "outputId": "ac919841-9e26-4fc5-cd7a-868538d9a2d0"
      },
      "execution_count": null,
      "outputs": [
        {
          "output_type": "execute_result",
          "data": {
            "text/plain": [
              "9"
            ]
          },
          "metadata": {},
          "execution_count": 15
        }
      ]
    },
    {
      "cell_type": "markdown",
      "source": [
        "Сумма элементов"
      ],
      "metadata": {
        "id": "Ydf4y4AeeXLM"
      }
    },
    {
      "cell_type": "code",
      "source": [
        "sum([1, 2, 3])"
      ],
      "metadata": {
        "id": "sNhCfsJZXZVB",
        "colab": {
          "base_uri": "https://localhost:8080/"
        },
        "outputId": "9616020c-07ad-4fae-c5ee-70d81d2f89fc"
      },
      "execution_count": null,
      "outputs": [
        {
          "output_type": "execute_result",
          "data": {
            "text/plain": [
              "6"
            ]
          },
          "metadata": {},
          "execution_count": 6
        }
      ]
    },
    {
      "cell_type": "code",
      "source": [
        "sum([1, 2, \"3\"])"
      ],
      "metadata": {
        "id": "LJSCOVGteavB",
        "colab": {
          "base_uri": "https://localhost:8080/",
          "height": 165
        },
        "outputId": "10748474-8575-4789-d49e-b39b48aae0a9"
      },
      "execution_count": null,
      "outputs": [
        {
          "output_type": "error",
          "ename": "TypeError",
          "evalue": "ignored",
          "traceback": [
            "\u001b[0;31m---------------------------------------------------------------------------\u001b[0m",
            "\u001b[0;31mTypeError\u001b[0m                                 Traceback (most recent call last)",
            "\u001b[0;32m<ipython-input-4-8081db7ab660>\u001b[0m in \u001b[0;36m<cell line: 1>\u001b[0;34m()\u001b[0m\n\u001b[0;32m----> 1\u001b[0;31m \u001b[0msum\u001b[0m\u001b[0;34m(\u001b[0m\u001b[0;34m[\u001b[0m\u001b[0;36m1\u001b[0m\u001b[0;34m,\u001b[0m \u001b[0;36m2\u001b[0m\u001b[0;34m,\u001b[0m \u001b[0;34m\"3\"\u001b[0m\u001b[0;34m]\u001b[0m\u001b[0;34m)\u001b[0m\u001b[0;34m\u001b[0m\u001b[0;34m\u001b[0m\u001b[0m\n\u001b[0m",
            "\u001b[0;31mTypeError\u001b[0m: unsupported operand type(s) for +: 'int' and 'str'"
          ]
        }
      ]
    },
    {
      "cell_type": "markdown",
      "source": [
        "функции all(x) и any(x)\n",
        "\n",
        "Функция all возвращает логическое значение True, если все элементы последовательности равны True (или последовательность пуста) и False в противном случае.\n",
        "\n",
        "Напоминание о приведении типов: к значению True приводятся все отличные от нуля числа и любые непустые последовательности, к значению False приводится число нуль и все пустые последовательности."
      ],
      "metadata": {
        "id": "qHIIB0PoXjSu"
      }
    },
    {
      "cell_type": "code",
      "source": [
        "all([True, True, True])"
      ],
      "metadata": {
        "id": "NLNYx043ej7g",
        "colab": {
          "base_uri": "https://localhost:8080/"
        },
        "outputId": "31aa5315-89fc-477b-a860-7bf5bdac96dc"
      },
      "execution_count": null,
      "outputs": [
        {
          "output_type": "execute_result",
          "data": {
            "text/plain": [
              "True"
            ]
          },
          "metadata": {},
          "execution_count": 7
        }
      ]
    },
    {
      "cell_type": "code",
      "source": [
        "all([True, True, True])"
      ],
      "metadata": {
        "id": "sEHVYw3BXa49",
        "colab": {
          "base_uri": "https://localhost:8080/"
        },
        "outputId": "92259d9e-44b6-4d42-f9a8-181022ea9c6a"
      },
      "execution_count": null,
      "outputs": [
        {
          "output_type": "execute_result",
          "data": {
            "text/plain": [
              "True"
            ]
          },
          "metadata": {},
          "execution_count": 8
        }
      ]
    },
    {
      "cell_type": "code",
      "source": [
        "all([True, True, False])"
      ],
      "metadata": {
        "id": "5Cko4t7TXeJS",
        "colab": {
          "base_uri": "https://localhost:8080/"
        },
        "outputId": "282b0d76-9e11-4c58-a65b-6092f3ed44d0"
      },
      "execution_count": null,
      "outputs": [
        {
          "output_type": "execute_result",
          "data": {
            "text/plain": [
              "False"
            ]
          },
          "metadata": {},
          "execution_count": 9
        }
      ]
    },
    {
      "cell_type": "markdown",
      "source": [
        "Функция any возвращает логическое значение True, если хотя бы один элемент непустой последовательности\n",
        "равен True. В противном случае, а также если последовательность пуста, возвращает False."
      ],
      "metadata": {
        "id": "wlxVqXCOXufb"
      }
    },
    {
      "cell_type": "code",
      "source": [
        "any([False, False, True])"
      ],
      "metadata": {
        "id": "4uD7mmlUXfVu",
        "colab": {
          "base_uri": "https://localhost:8080/"
        },
        "outputId": "f3e79fe9-a2b1-445f-b870-b8f1bdfc9738"
      },
      "execution_count": null,
      "outputs": [
        {
          "output_type": "execute_result",
          "data": {
            "text/plain": [
              "True"
            ]
          },
          "metadata": {},
          "execution_count": 10
        }
      ]
    },
    {
      "cell_type": "code",
      "source": [
        "any([False, False, False])"
      ],
      "metadata": {
        "id": "W1fljNDPXzll",
        "colab": {
          "base_uri": "https://localhost:8080/"
        },
        "outputId": "94358159-0907-4005-9189-1e193529b63d"
      },
      "execution_count": null,
      "outputs": [
        {
          "output_type": "execute_result",
          "data": {
            "text/plain": [
              "False"
            ]
          },
          "metadata": {},
          "execution_count": 11
        }
      ]
    },
    {
      "cell_type": "markdown",
      "source": [
        "### Слайсинг (срезы)"
      ],
      "metadata": {
        "id": "pMIGJWn-JKEq"
      }
    },
    {
      "cell_type": "markdown",
      "source": [
        "\n",
        "В Python имеется удобное средство получения частей упорядоченных последовательностей, в частности строк: слайсы (они же срезы или сечения. Синтаксис операции:\n",
        "\n",
        "$$s[n: m: k]$$\n",
        "\n",
        "Где $s$ - имя переменной строкового типа, $n, m, k$ выражения целого типа ($k \\neq 0$)."
      ],
      "metadata": {
        "id": "qQsg9fI9GFCu"
      }
    },
    {
      "cell_type": "markdown",
      "source": [
        "\n",
        "Значение указанного выражения составляется из символов с индексами равными $x = n +i * k$, где $0 \\leq i \\leq \\frac{m-n}{k}$, причем в том же порядке, что и в строке $s$. Для простоты запоминания можно интерпретировать слайс так:\n",
        "\n",
        "С какого индекса n (включая), по какой индекс m (не включая), с каким шагом k.\n",
        "\n",
        "Если внутри квадратных скобок стоит одно двоеточие, то считается, что это двоеточие между первым и вторым\n",
        "параметрами (n и m). В этом случае сечение строки подпоследовательность исходной строки начиная с символа с индексом n и заканчивая символом с индексом m-1.\n",
        "* Если не указан первый параметр (начало подстроки), то его значение полагается равным 0\n",
        "* Если не указан второй параметр (конец подстроки), то он полагается равным len(s)\n",
        "* Если не указан третий параметр (шаг), то он полагается равным 1."
      ],
      "metadata": {
        "id": "fz1fZPncGIFg"
      }
    },
    {
      "cell_type": "code",
      "source": [
        "c = [1, 2, 3, 4, 5, 6, 7, 8, 9]"
      ],
      "metadata": {
        "id": "Zy30QSRge3tl"
      },
      "execution_count": null,
      "outputs": []
    },
    {
      "cell_type": "code",
      "source": [
        "# с первого включительно по 4й не включя индекс\n",
        "c[1:8]"
      ],
      "metadata": {
        "id": "pOWTbLnUJQvF",
        "outputId": "6a1d893f-627e-4d0b-8fc3-0dc86a9e8ecc",
        "colab": {
          "base_uri": "https://localhost:8080/"
        }
      },
      "execution_count": null,
      "outputs": [
        {
          "output_type": "execute_result",
          "data": {
            "text/plain": [
              "[2, 3, 4, 5, 6, 7, 8]"
            ]
          },
          "metadata": {},
          "execution_count": 16
        }
      ]
    },
    {
      "cell_type": "code",
      "source": [
        "c[::-2]"
      ],
      "metadata": {
        "id": "8NfE3B1_JaEM",
        "colab": {
          "base_uri": "https://localhost:8080/"
        },
        "outputId": "49c003cb-dda7-4321-9367-5ec6e44247e4"
      },
      "execution_count": null,
      "outputs": [
        {
          "output_type": "execute_result",
          "data": {
            "text/plain": [
              "[9, 7, 5, 3, 1]"
            ]
          },
          "metadata": {},
          "execution_count": 20
        }
      ]
    },
    {
      "cell_type": "code",
      "source": [
        "c[:2]"
      ],
      "metadata": {
        "colab": {
          "base_uri": "https://localhost:8080/"
        },
        "id": "yjyWg-8yJhjM",
        "outputId": "9efe4a3c-7f92-44cc-a6ef-ce1e54435ed3"
      },
      "execution_count": null,
      "outputs": [
        {
          "output_type": "execute_result",
          "data": {
            "text/plain": [
              "[1, 2]"
            ]
          },
          "metadata": {},
          "execution_count": 29
        }
      ]
    },
    {
      "cell_type": "code",
      "source": [
        "c[:3:2] # с нулевого включительно по третий не включая с шагом 2"
      ],
      "metadata": {
        "colab": {
          "base_uri": "https://localhost:8080/"
        },
        "id": "08zUcutMJkMU",
        "outputId": "93a92237-3003-4967-d989-1d579f7c75e2"
      },
      "execution_count": null,
      "outputs": [
        {
          "output_type": "execute_result",
          "data": {
            "text/plain": [
              "[1, 3]"
            ]
          },
          "metadata": {},
          "execution_count": 30
        }
      ]
    },
    {
      "cell_type": "code",
      "source": [
        "# шагаем с нулевого индекса по последний с шагом - 1\n",
        "# это и есть разворот списка\n",
        "c[::-1]"
      ],
      "metadata": {
        "colab": {
          "base_uri": "https://localhost:8080/"
        },
        "id": "TYzEXITiJDhe",
        "outputId": "91baeec0-c0e7-453d-885b-29d1e24d71fe"
      },
      "execution_count": null,
      "outputs": [
        {
          "output_type": "execute_result",
          "data": {
            "text/plain": [
              "[9, 8, 7, 6, 5, 4, 3, 2, 1]"
            ]
          },
          "metadata": {},
          "execution_count": 17
        }
      ]
    },
    {
      "cell_type": "markdown",
      "source": [
        "Важное отличие списков от строк заключается в том, что списки можно изменять - как его отдельные элементы, так и перечень самих элементов (добавлять, удалять элементы из последовательности и т.п.). Ниже указаны некоторые такие операции:"
      ],
      "metadata": {
        "id": "EU7vq8VxKJdP"
      }
    },
    {
      "cell_type": "code",
      "source": [
        "# заменим список на 2м индексе на единицу\n",
        "c[2] = 1"
      ],
      "metadata": {
        "id": "tSQOOoytJqYL"
      },
      "execution_count": null,
      "outputs": []
    },
    {
      "cell_type": "code",
      "source": [
        "# можно увидеть, что значения поменялись\n",
        "c"
      ],
      "metadata": {
        "colab": {
          "base_uri": "https://localhost:8080/"
        },
        "id": "VOsmpwsBLBml",
        "outputId": "f6346a8d-8cd4-4b18-9776-56e8f9b60ad3"
      },
      "execution_count": null,
      "outputs": [
        {
          "output_type": "execute_result",
          "data": {
            "text/plain": [
              "[1, 2, 1, 4, 5, 6, 7, 8, 9]"
            ]
          },
          "metadata": {},
          "execution_count": 33
        }
      ]
    },
    {
      "cell_type": "code",
      "source": [
        "# можно так же заменять целые диапазоны\n",
        "# теперь вместо диапазона начинающегося с 1 индеса включительно\n",
        "# и заканчивающегося на 2 индесе не включая записаны значения 10 и 20\n",
        "c[1:2] = [10, 20]\n",
        "c"
      ],
      "metadata": {
        "colab": {
          "base_uri": "https://localhost:8080/"
        },
        "id": "ZfO0Yz4OLFAE",
        "outputId": "88ded895-383b-4796-d433-53ed2efa7bc9"
      },
      "execution_count": null,
      "outputs": [
        {
          "output_type": "execute_result",
          "data": {
            "text/plain": [
              "[1, 10, 20, 1, 4, 5, 6, 7, 8, 9]"
            ]
          },
          "metadata": {},
          "execution_count": 35
        }
      ]
    },
    {
      "cell_type": "markdown",
      "source": [
        "#### Append, pop\n",
        "\n",
        "Эти два метода списка чаще всего используются в реальной работе:\n",
        "\n",
        "\n",
        "c.append(elem)\n",
        "\n",
        "добавление элемента elem в конец списка c:"
      ],
      "metadata": {
        "id": "lGGho2N9L3h7"
      }
    },
    {
      "cell_type": "code",
      "source": [
        "mass = [1, 2, 3]"
      ],
      "metadata": {
        "id": "_vTIaAjkjrp_"
      },
      "execution_count": null,
      "outputs": []
    },
    {
      "cell_type": "code",
      "source": [
        "mass + [4]"
      ],
      "metadata": {
        "colab": {
          "base_uri": "https://localhost:8080/"
        },
        "id": "SYnt-NuBj_GS",
        "outputId": "3a7826eb-60d0-4942-b198-92ae80515dfb"
      },
      "execution_count": null,
      "outputs": [
        {
          "output_type": "execute_result",
          "data": {
            "text/plain": [
              "[1, 2, 3, 4]"
            ]
          },
          "metadata": {},
          "execution_count": 22
        }
      ]
    },
    {
      "cell_type": "code",
      "source": [
        "mass.append(4)\n",
        "\n",
        "mass"
      ],
      "metadata": {
        "colab": {
          "base_uri": "https://localhost:8080/"
        },
        "id": "Jqjbld1ILa-E",
        "outputId": "accb1e2d-332a-4d82-95ae-5280a6587a68"
      },
      "execution_count": null,
      "outputs": [
        {
          "output_type": "execute_result",
          "data": {
            "text/plain": [
              "[1, 2, 3, 4]"
            ]
          },
          "metadata": {},
          "execution_count": 23
        }
      ]
    },
    {
      "cell_type": "markdown",
      "source": [
        "Разница между конкатенацией и добавлением элемента следующая: в первом случае это создание нового значения и присвоение этого нового значения переменной, во втором случае - это изменение текущего значения. Так что конкатенация определена и для строк и для списков, а добавление элемента - только для списков."
      ],
      "metadata": {
        "id": "lrdziSmMMuoA"
      }
    },
    {
      "cell_type": "markdown",
      "source": [
        "c.pop()"
      ],
      "metadata": {
        "id": "WZQoYL9kMftY"
      }
    },
    {
      "cell_type": "code",
      "source": [
        "mass.pop()\n",
        "\n",
        "mass"
      ],
      "metadata": {
        "colab": {
          "base_uri": "https://localhost:8080/"
        },
        "id": "y049rUegMDYR",
        "outputId": "bad56bf0-9f1b-41c3-d311-0756f6c0a2b8"
      },
      "execution_count": null,
      "outputs": [
        {
          "output_type": "execute_result",
          "data": {
            "text/plain": [
              "[1, 2, 3]"
            ]
          },
          "metadata": {},
          "execution_count": 24
        }
      ]
    },
    {
      "cell_type": "markdown",
      "source": [
        "Операция pop() имеет возвращаемое значение - элемент, который был удален. Пример использования:"
      ],
      "metadata": {
        "id": "iXSoIDkIOOYU"
      }
    },
    {
      "cell_type": "code",
      "source": [
        "deleted = mass.pop()\n",
        "\n",
        "mass"
      ],
      "metadata": {
        "colab": {
          "base_uri": "https://localhost:8080/"
        },
        "id": "JodDW5iTONMu",
        "outputId": "b559aeb5-728c-45b1-94f3-827acf9acc8d"
      },
      "execution_count": null,
      "outputs": [
        {
          "output_type": "execute_result",
          "data": {
            "text/plain": [
              "[1, 2]"
            ]
          },
          "metadata": {},
          "execution_count": 25
        }
      ]
    },
    {
      "cell_type": "code",
      "source": [
        "# удаленный элемент, при прошлом запуске\n",
        "# результат возвращения функции pop никуда не был записан\n",
        "deleted"
      ],
      "metadata": {
        "colab": {
          "base_uri": "https://localhost:8080/"
        },
        "id": "8iFCTgweMigv",
        "outputId": "55709350-2266-4be1-b605-955aebc531ca"
      },
      "execution_count": null,
      "outputs": [
        {
          "output_type": "execute_result",
          "data": {
            "text/plain": [
              "3"
            ]
          },
          "metadata": {},
          "execution_count": 27
        }
      ]
    },
    {
      "cell_type": "markdown",
      "source": [
        "Подводные камни"
      ],
      "metadata": {
        "id": "K6onj93xlIVQ"
      }
    },
    {
      "cell_type": "code",
      "source": [
        "#100 45 5 6733 42 86 334\n",
        "numbers = input(\"введи свои любимые числа через пробел: \").split()\n",
        "\n",
        "print(sum(numbers))"
      ],
      "metadata": {
        "colab": {
          "base_uri": "https://localhost:8080/",
          "height": 217
        },
        "id": "IiKXnp6NlHld",
        "outputId": "376eaa05-5df8-4a69-997f-3e1010465d3f"
      },
      "execution_count": null,
      "outputs": [
        {
          "name": "stdout",
          "output_type": "stream",
          "text": [
            "введи свои любимые числа через пробел: 23555\n"
          ]
        },
        {
          "output_type": "error",
          "ename": "TypeError",
          "evalue": "ignored",
          "traceback": [
            "\u001b[0;31m---------------------------------------------------------------------------\u001b[0m",
            "\u001b[0;31mTypeError\u001b[0m                                 Traceback (most recent call last)",
            "\u001b[0;32m<ipython-input-29-eef943611c96>\u001b[0m in \u001b[0;36m<cell line: 4>\u001b[0;34m()\u001b[0m\n\u001b[1;32m      2\u001b[0m \u001b[0mnumbers\u001b[0m \u001b[0;34m=\u001b[0m \u001b[0minput\u001b[0m\u001b[0;34m(\u001b[0m\u001b[0;34m\"введи свои любимые числа через пробел: \"\u001b[0m\u001b[0;34m)\u001b[0m\u001b[0;34m.\u001b[0m\u001b[0msplit\u001b[0m\u001b[0;34m(\u001b[0m\u001b[0;34m)\u001b[0m\u001b[0;34m\u001b[0m\u001b[0;34m\u001b[0m\u001b[0m\n\u001b[1;32m      3\u001b[0m \u001b[0;34m\u001b[0m\u001b[0m\n\u001b[0;32m----> 4\u001b[0;31m \u001b[0mprint\u001b[0m\u001b[0;34m(\u001b[0m\u001b[0msum\u001b[0m\u001b[0;34m(\u001b[0m\u001b[0mnumbers\u001b[0m\u001b[0;34m)\u001b[0m\u001b[0;34m)\u001b[0m\u001b[0;34m\u001b[0m\u001b[0;34m\u001b[0m\u001b[0m\n\u001b[0m",
            "\u001b[0;31mTypeError\u001b[0m: unsupported operand type(s) for +: 'int' and 'str'"
          ]
        }
      ]
    },
    {
      "cell_type": "code",
      "source": [
        "summ = 0\n",
        "\n",
        "for i in numbers:\n",
        "  summ += int(i)\n",
        "\n",
        "print(summ)"
      ],
      "metadata": {
        "colab": {
          "base_uri": "https://localhost:8080/"
        },
        "id": "2POYv8vllO8y",
        "outputId": "3f023c88-7393-4752-e3c5-eddb92e2d7c2"
      },
      "execution_count": null,
      "outputs": [
        {
          "output_type": "stream",
          "name": "stdout",
          "text": [
            "23555\n"
          ]
        }
      ]
    },
    {
      "cell_type": "markdown",
      "source": [
        "### Генератор списков"
      ],
      "metadata": {
        "id": "1oK6OhixGj_0"
      }
    },
    {
      "cell_type": "markdown",
      "source": [
        "Генератор списков - компактный способ создания списка из любого существующего итерируемого объекта. Его можно использовать генератор для фильтрации, форматирования, изменения или выполнения других небольших задач с существующими итерируемыми объектами, такими как строки, кортежи, множества, списки и т.д."
      ],
      "metadata": {
        "id": "5FAT9_ZXG0cY"
      }
    },
    {
      "cell_type": "code",
      "source": [
        "a = [i**2 for i in range(10)]\n",
        "a\n",
        "# a [2]"
      ],
      "metadata": {
        "colab": {
          "base_uri": "https://localhost:8080/"
        },
        "id": "Mh5LoAXdGjpC",
        "outputId": "1f0f077a-bd54-463a-b09e-c46567279ae5"
      },
      "execution_count": null,
      "outputs": [
        {
          "output_type": "execute_result",
          "data": {
            "text/plain": [
              "[0, 1, 4, 9, 16, 25, 36, 49, 64, 81]"
            ]
          },
          "metadata": {},
          "execution_count": 9
        }
      ]
    },
    {
      "cell_type": "code",
      "source": [
        "[elem - 81 for elem in a]"
      ],
      "metadata": {
        "colab": {
          "base_uri": "https://localhost:8080/"
        },
        "id": "_C52zxhpHBJt",
        "outputId": "18f14bde-3b47-4737-b795-3b8eee39d20e"
      },
      "execution_count": null,
      "outputs": [
        {
          "output_type": "execute_result",
          "data": {
            "text/plain": [
              "[-81, -80, -77, -72, -65, -56, -45, -32, -17, 0]"
            ]
          },
          "metadata": {},
          "execution_count": 11
        }
      ]
    }
  ]
}