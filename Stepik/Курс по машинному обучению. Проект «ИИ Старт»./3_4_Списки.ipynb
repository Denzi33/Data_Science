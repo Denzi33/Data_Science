{
  "nbformat": 4,
  "nbformat_minor": 0,
  "metadata": {
    "colab": {
      "provenance": []
    },
    "kernelspec": {
      "name": "python3",
      "display_name": "Python 3"
    },
    "language_info": {
      "name": "python"
    }
  },
  "cells": [
    {
      "cell_type": "markdown",
      "source": [
        "## list\n",
        "\n",
        "**массив, список, лист**\n",
        "\n",
        "Вот мы и добрались до типов языка python, которые представляют собой *контейнеры*, то есть, это типы данных, которые являют собой хранилища для других типов данных.\n",
        "\n",
        "Один из таких типов -- `list` (массив, список, лист). Это контейнер, куда можно положить сколько угодно других переменных, значений, и эти переменные даже могут быть разных типов и даже так же могут быть контейнерами (и даже не обязательно тип данных определен языком python)! То есть, в list можно положить list:\n",
        "\n",
        "Чтобы задать list, надо в квадратные скобки `[]` положить нужные элементы. Пустые скобки задают пустой list. Пустой лист также можно задать, написав `list()`:"
      ],
      "metadata": {
        "id": "0OkhnXraGPyh"
      }
    },
    {
      "cell_type": "code",
      "execution_count": null,
      "metadata": {
        "colab": {
          "base_uri": "https://localhost:8080/"
        },
        "id": "1bH4RvPbF_zj",
        "outputId": "39b65192-c272-4376-9fa6-37a6367d7f90"
      },
      "outputs": [
        {
          "output_type": "stream",
          "name": "stdout",
          "text": [
            "True\n"
          ]
        }
      ],
      "source": [
        "a = list()\n",
        "b = []\n",
        "\n",
        "# убедимся, что два варианта создания пустого массива эквивалентны:\n",
        "print(a == b)"
      ]
    },
    {
      "cell_type": "markdown",
      "source": [
        "По аналогии со строкой, как последовательностью символов, чье значение задавалось перечислением этих символов, значение списка тоже можно задать перечислением его элементов. Отдельные элементы списка разделяются запятой, а весь список заключается в квадратные скобки:\n"
      ],
      "metadata": {
        "id": "EjxmEjIUH3iQ"
      }
    },
    {
      "cell_type": "code",
      "source": [
        "# можно хранить разные типы данных!\n",
        "c = [2, 'a', 127 + 15 , True]"
      ],
      "metadata": {
        "id": "nNuWblhpGSYz"
      },
      "execution_count": null,
      "outputs": []
    },
    {
      "cell_type": "code",
      "source": [
        "print(c)"
      ],
      "metadata": {
        "colab": {
          "base_uri": "https://localhost:8080/"
        },
        "id": "g9-ry-Sji-dG",
        "outputId": "a0d7116b-7c80-4a9e-f16d-07dd965f297a"
      },
      "execution_count": null,
      "outputs": [
        {
          "output_type": "stream",
          "name": "stdout",
          "text": [
            "[2, 'a', 142, True]\n"
          ]
        }
      ]
    },
    {
      "cell_type": "code",
      "source": [
        "numbers = [1, 2, 3, 4, 5, 6, 7, 8, 9, 10]\n",
        "languages = ['Java', 'C', 'Python', 'C++', 'Visual Basic.NET']"
      ],
      "metadata": {
        "id": "stAieCRHjOWO"
      },
      "execution_count": null,
      "outputs": []
    },
    {
      "cell_type": "code",
      "source": [
        "print(numbers)"
      ],
      "metadata": {
        "colab": {
          "base_uri": "https://localhost:8080/"
        },
        "id": "c8J43NP0jfK7",
        "outputId": "1103587c-7014-4afa-da70-66367734a53e"
      },
      "execution_count": null,
      "outputs": [
        {
          "output_type": "stream",
          "name": "stdout",
          "text": [
            "[1, 2, 3, 4, 5, 6, 7, 8, 9, 10]\n"
          ]
        }
      ]
    },
    {
      "cell_type": "code",
      "source": [
        "print(languages)"
      ],
      "metadata": {
        "colab": {
          "base_uri": "https://localhost:8080/"
        },
        "id": "pT3c0vvLjh-W",
        "outputId": "afa5980a-e00b-4811-d093-1a9b9b740ca4"
      },
      "execution_count": null,
      "outputs": [
        {
          "output_type": "stream",
          "name": "stdout",
          "text": [
            "['Java', 'C', 'Python', 'C++', 'Visual Basic.NET']\n"
          ]
        }
      ]
    },
    {
      "cell_type": "markdown",
      "source": [
        "## Операции со списками\n",
        "\n",
        "Списки можно считать обобщением строк в том смысле, что списки - это тоже упорядоченные последовательности, но значения списка могут быть произвольного типа. Большинство операций, описанных ранее для строк, полностью переносятся на списки:\n"
      ],
      "metadata": {
        "id": "GpKA8kQlIIWz"
      }
    },
    {
      "cell_type": "markdown",
      "source": [
        "### Индексация"
      ],
      "metadata": {
        "id": "1QI2-1BCIYbJ"
      }
    },
    {
      "cell_type": "code",
      "source": [
        "languages = ['Java', 'C', 'Python', 'C++', 'Visual Basic.NET']"
      ],
      "metadata": {
        "id": "kIHeQeDqkUnf"
      },
      "execution_count": null,
      "outputs": []
    },
    {
      "cell_type": "code",
      "source": [
        "# первый элемент, нулевой индекс\n",
        "languages[0]"
      ],
      "metadata": {
        "colab": {
          "base_uri": "https://localhost:8080/",
          "height": 35
        },
        "id": "AfUAuFztGTkj",
        "outputId": "e2eb9bd3-2625-44fc-9d71-c10313c15b97"
      },
      "execution_count": null,
      "outputs": [
        {
          "output_type": "execute_result",
          "data": {
            "text/plain": [
              "'Java'"
            ],
            "application/vnd.google.colaboratory.intrinsic+json": {
              "type": "string"
            }
          },
          "metadata": {},
          "execution_count": 9
        }
      ]
    },
    {
      "cell_type": "code",
      "source": [
        "# последний элемент, индекс 2\n",
        "languages[-2]"
      ],
      "metadata": {
        "colab": {
          "base_uri": "https://localhost:8080/",
          "height": 35
        },
        "id": "rtGlaOd-IdO5",
        "outputId": "6ea74d4f-6feb-444c-a1a9-708833550755"
      },
      "execution_count": null,
      "outputs": [
        {
          "output_type": "execute_result",
          "data": {
            "text/plain": [
              "'C++'"
            ],
            "application/vnd.google.colaboratory.intrinsic+json": {
              "type": "string"
            }
          },
          "metadata": {},
          "execution_count": 11
        }
      ]
    },
    {
      "cell_type": "code",
      "source": [
        "# он же\n",
        "languages[2]"
      ],
      "metadata": {
        "colab": {
          "base_uri": "https://localhost:8080/",
          "height": 35
        },
        "id": "vd5ce0qUIfHJ",
        "outputId": "2d5a72a0-5356-4001-b9fe-f96404469318"
      },
      "execution_count": null,
      "outputs": [
        {
          "output_type": "execute_result",
          "data": {
            "text/plain": [
              "'Python'"
            ],
            "application/vnd.google.colaboratory.intrinsic+json": {
              "type": "string"
            }
          },
          "metadata": {},
          "execution_count": 12
        }
      ]
    },
    {
      "cell_type": "code",
      "source": [
        "# ошибка т.к. вышли за пределы массива - list index out of range\n",
        "languages[5]"
      ],
      "metadata": {
        "colab": {
          "base_uri": "https://localhost:8080/",
          "height": 183
        },
        "id": "4qjBT7OnIfnx",
        "outputId": "cccb087f-acb2-4a2c-926d-042e91938e0f"
      },
      "execution_count": null,
      "outputs": [
        {
          "output_type": "error",
          "ename": "IndexError",
          "evalue": "ignored",
          "traceback": [
            "\u001b[0;31m---------------------------------------------------------------------------\u001b[0m",
            "\u001b[0;31mIndexError\u001b[0m                                Traceback (most recent call last)",
            "\u001b[0;32m<ipython-input-13-b3acfe911c46>\u001b[0m in \u001b[0;36m<module>\u001b[0;34m()\u001b[0m\n\u001b[1;32m      1\u001b[0m \u001b[0;31m# ошибка т.к. вышли за пределы массива - list index out of range\u001b[0m\u001b[0;34m\u001b[0m\u001b[0;34m\u001b[0m\u001b[0;34m\u001b[0m\u001b[0m\n\u001b[0;32m----> 2\u001b[0;31m \u001b[0mlanguages\u001b[0m\u001b[0;34m[\u001b[0m\u001b[0;36m5\u001b[0m\u001b[0;34m]\u001b[0m\u001b[0;34m\u001b[0m\u001b[0;34m\u001b[0m\u001b[0m\n\u001b[0m",
            "\u001b[0;31mIndexError\u001b[0m: list index out of range"
          ]
        }
      ]
    },
    {
      "cell_type": "markdown",
      "source": [
        "### Конкатенация"
      ],
      "metadata": {
        "id": "rMtQtJYAI5hv"
      }
    },
    {
      "cell_type": "markdown",
      "source": [
        "Списки можно считать обобщением строк в том смысле, что списки - это тоже упорядоченные последовательности, но значения списка могут быть произвольного типа. Большинство операций, описанных выше для строк, полностью переносятся на списки:"
      ],
      "metadata": {
        "id": "2XiVtvLlIwuY"
      }
    },
    {
      "cell_type": "code",
      "source": [
        "c = [2, 'a', 127 + 15 , True]"
      ],
      "metadata": {
        "id": "99PFfIeImF54"
      },
      "execution_count": null,
      "outputs": []
    },
    {
      "cell_type": "code",
      "source": [
        "c + [1, 2, 3]"
      ],
      "metadata": {
        "colab": {
          "base_uri": "https://localhost:8080/"
        },
        "id": "uktlHdldIpvo",
        "outputId": "4f806ef7-7382-4908-ffcd-3d0ffdc20f1d"
      },
      "execution_count": null,
      "outputs": [
        {
          "output_type": "execute_result",
          "data": {
            "text/plain": [
              "[2, 'a', 142, True, 1, 2, 3]"
            ]
          },
          "metadata": {},
          "execution_count": 15
        }
      ]
    },
    {
      "cell_type": "code",
      "source": [
        "c * 2"
      ],
      "metadata": {
        "colab": {
          "base_uri": "https://localhost:8080/"
        },
        "id": "NFvZ9FXXI0dP",
        "outputId": "88b3e9a2-31b1-43c3-afee-d68df8d1679d"
      },
      "execution_count": null,
      "outputs": [
        {
          "output_type": "execute_result",
          "data": {
            "text/plain": [
              "[2, 'a', 142, True, 2, 'a', 142, True]"
            ]
          },
          "metadata": {},
          "execution_count": 17
        }
      ]
    },
    {
      "cell_type": "markdown",
      "source": [
        "### Метод split\n",
        "\n",
        "При создании списков, содержащих строковые величины, можно использовать метод split.\n",
        "\n",
        "Данный метод применяется к строковым объектам и позволяет разбивать их на элементы, разделенные символом (символ указывается внутри скобок метода split).\n",
        "\n",
        "Каждый элемент после применения метода split становится отдельным элементом списка.\n"
      ],
      "metadata": {
        "id": "mKvlLHh4mTOB"
      }
    },
    {
      "cell_type": "code",
      "source": [
        "animals = 'кошка,собака,хомяк,морская свинка,попугай,лошадь'"
      ],
      "metadata": {
        "id": "1zpWTvO3mStw"
      },
      "execution_count": null,
      "outputs": []
    },
    {
      "cell_type": "code",
      "source": [
        "mass_animals = animals.split(\",\")"
      ],
      "metadata": {
        "id": "wYesFF2Pnnxh"
      },
      "execution_count": null,
      "outputs": []
    },
    {
      "cell_type": "code",
      "source": [
        "mass_animals[0]"
      ],
      "metadata": {
        "colab": {
          "base_uri": "https://localhost:8080/",
          "height": 35
        },
        "id": "XDvg10sRnnz8",
        "outputId": "b0ee3c77-1d77-4a4f-dfee-1e2b4e902d25"
      },
      "execution_count": null,
      "outputs": [
        {
          "output_type": "execute_result",
          "data": {
            "text/plain": [
              "'кошка'"
            ],
            "application/vnd.google.colaboratory.intrinsic+json": {
              "type": "string"
            }
          },
          "metadata": {},
          "execution_count": 21
        }
      ]
    },
    {
      "cell_type": "code",
      "source": [
        "#Cто 45 пять 6733 42 восемь"
      ],
      "metadata": {
        "id": "m_VGvXUZpw8r"
      },
      "execution_count": null,
      "outputs": []
    },
    {
      "cell_type": "code",
      "source": [
        "numbers = input(\"введи свои любимые числа через пробел: \")\n",
        "numbers = numbers.split()\n",
        "\n",
        "print(numbers)"
      ],
      "metadata": {
        "colab": {
          "base_uri": "https://localhost:8080/"
        },
        "id": "wRDjwRM6nn2S",
        "outputId": "7bd81af4-8a05-4087-be59-362bba9f6a90"
      },
      "execution_count": null,
      "outputs": [
        {
          "output_type": "stream",
          "name": "stdout",
          "text": [
            "введи свои любимые числа через пробел: Cто 45 пять 6733 42 восемь\n",
            "['Cто', '45', 'пять', '6733', '42', 'восемь']\n"
          ]
        }
      ]
    },
    {
      "cell_type": "markdown",
      "source": [
        "Упростим такую структуру"
      ],
      "metadata": {
        "id": "dyn-KRcyqO96"
      }
    },
    {
      "cell_type": "code",
      "source": [
        "numbers = input(\"введи свои любимые числа через пробел: \").split()\n",
        "\n",
        "print(numbers)"
      ],
      "metadata": {
        "colab": {
          "base_uri": "https://localhost:8080/"
        },
        "id": "0OLUm30lAJ6k",
        "outputId": "dfda925e-8b41-4ba9-e79e-18343f8a0356"
      },
      "execution_count": null,
      "outputs": [
        {
          "output_type": "stream",
          "name": "stdout",
          "text": [
            "введи свои любимые числа через пробел: 34 56 78 88\n",
            "['34', '56', '78', '88']\n"
          ]
        }
      ]
    },
    {
      "cell_type": "code",
      "source": [],
      "metadata": {
        "id": "8d_hhAZZAMTm"
      },
      "execution_count": null,
      "outputs": []
    }
  ]
}